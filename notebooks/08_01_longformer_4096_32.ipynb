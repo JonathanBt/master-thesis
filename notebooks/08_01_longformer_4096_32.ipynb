{
 "cells": [
  {
   "cell_type": "code",
   "execution_count": 1,
   "metadata": {},
   "outputs": [],
   "source": [
    "import os\n",
    "\n",
    "os.chdir(\"..\")"
   ]
  },
  {
   "cell_type": "code",
   "execution_count": 2,
   "metadata": {},
   "outputs": [],
   "source": [
    "# Select GPUs to use\n",
    "os.environ['CUDA_DEVICE_ORDER']='PCI_BUS_ID'\n",
    "#os.environ['CUDA_VISIBLE_DEVICES'] = '0,1,2,3,4,5,6,7'\n",
    "os.environ['CUDA_VISIBLE_DEVICES'] = '0,1,2,3'"
   ]
  },
  {
   "cell_type": "code",
   "execution_count": 3,
   "metadata": {
    "id": "IsgJ_vKExFum"
   },
   "outputs": [
    {
     "name": "stderr",
     "output_type": "stream",
     "text": [
      "Using TensorFlow backend.\n"
     ]
    }
   ],
   "source": [
    "import pandas as pd\n",
    "import numpy as np\n",
    "import matplotlib.pyplot as plt\n",
    "import seaborn as sns\n",
    "import pickle\n",
    "from tqdm.auto import tqdm\n",
    "import warnings\n",
    "warnings.filterwarnings(\"ignore\")\n",
    "import random\n",
    "import time\n",
    "import datetime\n",
    "\n",
    "# Evaluation\n",
    "from sklearn.metrics import (\n",
    "    f1_score,\n",
    "    classification_report,\n",
    "    confusion_matrix\n",
    ")\n",
    "\n",
    "# Transformers\n",
    "import torch\n",
    "from torch.nn import BCEWithLogitsLoss, DataParallel\n",
    "from torch.utils.data import TensorDataset, DataLoader\n",
    "from torch.optim import RAdam\n",
    "from transformers import LongformerTokenizerFast, LongformerForSequenceClassification, AdamW\n",
    "from transformers import get_linear_schedule_with_warmup \n",
    "import wandb\n",
    "\n",
    "from src.data.iterative_train_test_split import iterative_train_test_split\n",
    "from src.models.evaluation import evaluation\n",
    "from src.models.transformer_training import train_epoch, calculate_pos_weights, format_time"
   ]
  },
  {
   "cell_type": "code",
   "execution_count": 4,
   "metadata": {
    "id": "EPWvuRmExFuo"
   },
   "outputs": [],
   "source": [
    "pd.set_option(\"display.max_rows\", 5)\n",
    "pd.set_option('display.max_columns', None)\n",
    "pd.set_option('display.max_colwidth', 100)"
   ]
  },
  {
   "cell_type": "code",
   "execution_count": 5,
   "metadata": {},
   "outputs": [],
   "source": [
    "# Ensure deterministic behavior\n",
    "torch.backends.cudnn.deterministic = True\n",
    "random.seed(hash(\"setting random seeds\") % 2**32 - 1)\n",
    "np.random.seed(hash(\"improves reproducibility\") % 2**32 - 1)\n",
    "torch.manual_seed(hash(\"by removing stochasticity\") % 2**32 - 1)\n",
    "torch.cuda.manual_seed_all(hash(\"so runs are repeatable\") % 2**32 - 1)"
   ]
  },
  {
   "cell_type": "code",
   "execution_count": 6,
   "metadata": {},
   "outputs": [
    {
     "data": {
      "text/plain": [
       "device(type='cuda')"
      ]
     },
     "execution_count": 6,
     "metadata": {},
     "output_type": "execute_result"
    }
   ],
   "source": [
    "# Use GPU\n",
    "torch.cuda.empty_cache()\n",
    "device = torch.device('cuda') if torch.cuda.is_available() else torch.device('cpu')\n",
    "device"
   ]
  },
  {
   "cell_type": "code",
   "execution_count": 7,
   "metadata": {},
   "outputs": [
    {
     "name": "stderr",
     "output_type": "stream",
     "text": [
      "Failed to detect the name of this notebook, you can set it manually with the WANDB_NOTEBOOK_NAME environment variable to enable code saving.\n",
      "\u001b[34m\u001b[1mwandb\u001b[0m: Currently logged in as: \u001b[33mjonathanbt\u001b[0m (use `wandb login --relogin` to force relogin)\n"
     ]
    },
    {
     "data": {
      "text/plain": [
       "True"
      ]
     },
     "execution_count": 7,
     "metadata": {},
     "output_type": "execute_result"
    }
   ],
   "source": [
    "# Use wandb for hyperparameter optimization and training visualization\n",
    "wandb.login()"
   ]
  },
  {
   "cell_type": "markdown",
   "metadata": {},
   "source": [
    "## 1. Load and transform data"
   ]
  },
  {
   "cell_type": "code",
   "execution_count": 7,
   "metadata": {},
   "outputs": [
    {
     "data": {
      "text/html": [
       "<div>\n",
       "<style scoped>\n",
       "    .dataframe tbody tr th:only-of-type {\n",
       "        vertical-align: middle;\n",
       "    }\n",
       "\n",
       "    .dataframe tbody tr th {\n",
       "        vertical-align: top;\n",
       "    }\n",
       "\n",
       "    .dataframe thead th {\n",
       "        text-align: right;\n",
       "    }\n",
       "</style>\n",
       "<table border=\"1\" class=\"dataframe\">\n",
       "  <thead>\n",
       "    <tr style=\"text-align: right;\">\n",
       "      <th></th>\n",
       "      <th>ID</th>\n",
       "      <th>Identifier</th>\n",
       "      <th>Company_Name</th>\n",
       "      <th>ISIN</th>\n",
       "      <th>Ticker</th>\n",
       "      <th>Country_of_Exchange</th>\n",
       "      <th>Financial_Period_Absolute</th>\n",
       "      <th>Financial_Period_Relative</th>\n",
       "      <th>CSR_URL</th>\n",
       "      <th>SDG_1</th>\n",
       "      <th>SDG_2</th>\n",
       "      <th>SDG_3</th>\n",
       "      <th>SDG_4</th>\n",
       "      <th>SDG_5</th>\n",
       "      <th>SDG_6</th>\n",
       "      <th>SDG_7</th>\n",
       "      <th>SDG_8</th>\n",
       "      <th>SDG_9</th>\n",
       "      <th>SDG_10</th>\n",
       "      <th>SDG_11</th>\n",
       "      <th>SDG_12</th>\n",
       "      <th>SDG_13</th>\n",
       "      <th>SDG_14</th>\n",
       "      <th>SDG_15</th>\n",
       "      <th>SDG_16</th>\n",
       "      <th>SDG_17</th>\n",
       "      <th>CSR_Filename</th>\n",
       "      <th>CSR_Text</th>\n",
       "      <th>CSR_Text_clean</th>\n",
       "      <th>CSR_Text_tokenized</th>\n",
       "    </tr>\n",
       "  </thead>\n",
       "  <tbody>\n",
       "    <tr>\n",
       "      <th>0</th>\n",
       "      <td>0</td>\n",
       "      <td>888.L</td>\n",
       "      <td>888 Holdings PLC</td>\n",
       "      <td>GI000A0F6407</td>\n",
       "      <td>888</td>\n",
       "      <td>United Kingdom</td>\n",
       "      <td>2020</td>\n",
       "      <td>FY0</td>\n",
       "      <td>https://corporate.888.com/wp-content/uploads/2021/04/2020-Annual-Report.pdf</td>\n",
       "      <td>False</td>\n",
       "      <td>False</td>\n",
       "      <td>True</td>\n",
       "      <td>True</td>\n",
       "      <td>True</td>\n",
       "      <td>True</td>\n",
       "      <td>True</td>\n",
       "      <td>True</td>\n",
       "      <td>False</td>\n",
       "      <td>NaN</td>\n",
       "      <td>False</td>\n",
       "      <td>True</td>\n",
       "      <td>True</td>\n",
       "      <td>NaN</td>\n",
       "      <td>False</td>\n",
       "      <td>True</td>\n",
       "      <td>False</td>\n",
       "      <td>0_888.L_2020.pdf</td>\n",
       "      <td>888 HOLDINGS PLC\\n\\nANNUAL REPORT &amp; ACCOUNTS 2020\\n\\n\f",
       "A YEAR OF  \\nSTRONG GROWTH \\n\\n888 IS ONE ...</td>\n",
       "      <td>888 ORG ANNUAL REPORT &amp; ACCOUNTS 2020 A YEAR OF STRONG GROWTH ORG IS ONE OF THE WORLDS LEADING O...</td>\n",
       "      <td>org annual report account year strong growth org one world leading online betting gaming company...</td>\n",
       "    </tr>\n",
       "    <tr>\n",
       "      <th>1</th>\n",
       "      <td>1</td>\n",
       "      <td>A.N</td>\n",
       "      <td>Agilent Technologies Inc</td>\n",
       "      <td>US00846U1016</td>\n",
       "      <td>A</td>\n",
       "      <td>United States of America</td>\n",
       "      <td>2020</td>\n",
       "      <td>FY0</td>\n",
       "      <td>https://www.agilent.com/about/companyinfo/sustainability/Agilent-Report-CSR-2020.pdf</td>\n",
       "      <td>False</td>\n",
       "      <td>False</td>\n",
       "      <td>True</td>\n",
       "      <td>True</td>\n",
       "      <td>True</td>\n",
       "      <td>True</td>\n",
       "      <td>True</td>\n",
       "      <td>True</td>\n",
       "      <td>False</td>\n",
       "      <td>NaN</td>\n",
       "      <td>False</td>\n",
       "      <td>True</td>\n",
       "      <td>True</td>\n",
       "      <td>NaN</td>\n",
       "      <td>True</td>\n",
       "      <td>True</td>\n",
       "      <td>False</td>\n",
       "      <td>1_A.N_2020.pdf</td>\n",
       "      <td>Delivering on  \\nour Promises\\n\\n2020 Corporate Social Responsibility Report\\n\\n1\\n\\n\f",
       "Letter fro...</td>\n",
       "      <td>Delivering on our Promises 2020 Corporate ORG 1 Letter from the President Stakeholder engagement...</td>\n",
       "      <td>delivering promise corporate org letter president stakeholder engagement environment table conte...</td>\n",
       "    </tr>\n",
       "    <tr>\n",
       "      <th>...</th>\n",
       "      <td>...</td>\n",
       "      <td>...</td>\n",
       "      <td>...</td>\n",
       "      <td>...</td>\n",
       "      <td>...</td>\n",
       "      <td>...</td>\n",
       "      <td>...</td>\n",
       "      <td>...</td>\n",
       "      <td>...</td>\n",
       "      <td>...</td>\n",
       "      <td>...</td>\n",
       "      <td>...</td>\n",
       "      <td>...</td>\n",
       "      <td>...</td>\n",
       "      <td>...</td>\n",
       "      <td>...</td>\n",
       "      <td>...</td>\n",
       "      <td>...</td>\n",
       "      <td>...</td>\n",
       "      <td>...</td>\n",
       "      <td>...</td>\n",
       "      <td>...</td>\n",
       "      <td>...</td>\n",
       "      <td>...</td>\n",
       "      <td>...</td>\n",
       "      <td>...</td>\n",
       "      <td>...</td>\n",
       "      <td>...</td>\n",
       "      <td>...</td>\n",
       "      <td>...</td>\n",
       "    </tr>\n",
       "    <tr>\n",
       "      <th>8101</th>\n",
       "      <td>8101</td>\n",
       "      <td>ZBH.N</td>\n",
       "      <td>Zimmer Biomet Holdings Inc</td>\n",
       "      <td>US98956P1021</td>\n",
       "      <td>ZBH</td>\n",
       "      <td>United States of America</td>\n",
       "      <td>2016</td>\n",
       "      <td>FY-4</td>\n",
       "      <td>https://www.responsibilityreports.com/HostedData/ResponsibilityReportArchive/z/NYSE_ZBH_2016.pdf</td>\n",
       "      <td>False</td>\n",
       "      <td>False</td>\n",
       "      <td>True</td>\n",
       "      <td>True</td>\n",
       "      <td>True</td>\n",
       "      <td>True</td>\n",
       "      <td>True</td>\n",
       "      <td>True</td>\n",
       "      <td>False</td>\n",
       "      <td>NaN</td>\n",
       "      <td>False</td>\n",
       "      <td>True</td>\n",
       "      <td>False</td>\n",
       "      <td>NaN</td>\n",
       "      <td>False</td>\n",
       "      <td>True</td>\n",
       "      <td>False</td>\n",
       "      <td>12676_ZBH.N_2016.pdf</td>\n",
       "      <td>E N V I R O N M E N T A L  \\n\\n \\n\\nS O C I A L  \\n\\nG O V E R N A N C E\\n\\nSustainability \\nRep...</td>\n",
       "      <td>E N V I R O N M E N T A L S O C I A L G O V E R N A N C E Sustainability Report 2016 T A B L E O...</td>\n",
       "      <td>sustainability report company profile corporate overview purpose mission value sustainability co...</td>\n",
       "    </tr>\n",
       "    <tr>\n",
       "      <th>8102</th>\n",
       "      <td>8102</td>\n",
       "      <td>ZBH.N</td>\n",
       "      <td>Zimmer Biomet Holdings Inc</td>\n",
       "      <td>US98956P1021</td>\n",
       "      <td>ZBH</td>\n",
       "      <td>United States of America</td>\n",
       "      <td>2015</td>\n",
       "      <td>FY-5</td>\n",
       "      <td>https://www.responsibilityreports.com/HostedData/ResponsibilityReportArchive/z/NYSE_ZBH_2015.pdf</td>\n",
       "      <td>False</td>\n",
       "      <td>False</td>\n",
       "      <td>True</td>\n",
       "      <td>True</td>\n",
       "      <td>False</td>\n",
       "      <td>True</td>\n",
       "      <td>True</td>\n",
       "      <td>False</td>\n",
       "      <td>False</td>\n",
       "      <td>NaN</td>\n",
       "      <td>False</td>\n",
       "      <td>True</td>\n",
       "      <td>False</td>\n",
       "      <td>NaN</td>\n",
       "      <td>False</td>\n",
       "      <td>False</td>\n",
       "      <td>False</td>\n",
       "      <td>12677_ZBH.N_2015.pdf</td>\n",
       "      <td>E N V I R O N M E N T A L  \\n\\n \\n\\nS O C I A L  \\n\\nG O V E R N A N C E\\n\\nSustainability \\nRep...</td>\n",
       "      <td>E N V I R O N M E N T A L S O C I A L G O V E R N A N C E Sustainability Report 2015 Investing n...</td>\n",
       "      <td>sustainability report investing future world letter ceo stakeholder company profile corporate ov...</td>\n",
       "    </tr>\n",
       "  </tbody>\n",
       "</table>\n",
       "<p>8103 rows × 30 columns</p>\n",
       "</div>"
      ],
      "text/plain": [
       "        ID Identifier                Company_Name          ISIN Ticker  \\\n",
       "0        0      888.L            888 Holdings PLC  GI000A0F6407    888   \n",
       "1        1        A.N    Agilent Technologies Inc  US00846U1016      A   \n",
       "...    ...        ...                         ...           ...    ...   \n",
       "8101  8101      ZBH.N  Zimmer Biomet Holdings Inc  US98956P1021    ZBH   \n",
       "8102  8102      ZBH.N  Zimmer Biomet Holdings Inc  US98956P1021    ZBH   \n",
       "\n",
       "           Country_of_Exchange  Financial_Period_Absolute  \\\n",
       "0               United Kingdom                       2020   \n",
       "1     United States of America                       2020   \n",
       "...                        ...                        ...   \n",
       "8101  United States of America                       2016   \n",
       "8102  United States of America                       2015   \n",
       "\n",
       "     Financial_Period_Relative  \\\n",
       "0                          FY0   \n",
       "1                          FY0   \n",
       "...                        ...   \n",
       "8101                      FY-4   \n",
       "8102                      FY-5   \n",
       "\n",
       "                                                                                               CSR_URL  \\\n",
       "0                          https://corporate.888.com/wp-content/uploads/2021/04/2020-Annual-Report.pdf   \n",
       "1                 https://www.agilent.com/about/companyinfo/sustainability/Agilent-Report-CSR-2020.pdf   \n",
       "...                                                                                                ...   \n",
       "8101  https://www.responsibilityreports.com/HostedData/ResponsibilityReportArchive/z/NYSE_ZBH_2016.pdf   \n",
       "8102  https://www.responsibilityreports.com/HostedData/ResponsibilityReportArchive/z/NYSE_ZBH_2015.pdf   \n",
       "\n",
       "      SDG_1  SDG_2  SDG_3  SDG_4  SDG_5  SDG_6  SDG_7  SDG_8  SDG_9  SDG_10  \\\n",
       "0     False  False   True   True   True   True   True   True  False     NaN   \n",
       "1     False  False   True   True   True   True   True   True  False     NaN   \n",
       "...     ...    ...    ...    ...    ...    ...    ...    ...    ...     ...   \n",
       "8101  False  False   True   True   True   True   True   True  False     NaN   \n",
       "8102  False  False   True   True  False   True   True  False  False     NaN   \n",
       "\n",
       "      SDG_11  SDG_12  SDG_13  SDG_14  SDG_15  SDG_16  SDG_17  \\\n",
       "0      False    True    True     NaN   False    True   False   \n",
       "1      False    True    True     NaN    True    True   False   \n",
       "...      ...     ...     ...     ...     ...     ...     ...   \n",
       "8101   False    True   False     NaN   False    True   False   \n",
       "8102   False    True   False     NaN   False   False   False   \n",
       "\n",
       "              CSR_Filename  \\\n",
       "0         0_888.L_2020.pdf   \n",
       "1           1_A.N_2020.pdf   \n",
       "...                    ...   \n",
       "8101  12676_ZBH.N_2016.pdf   \n",
       "8102  12677_ZBH.N_2015.pdf   \n",
       "\n",
       "                                                                                                 CSR_Text  \\\n",
       "0     888 HOLDINGS PLC\\n\\nANNUAL REPORT & ACCOUNTS 2020\\n\\n\n",
       "A YEAR OF  \\nSTRONG GROWTH \\n\\n888 IS ONE ...   \n",
       "1     Delivering on  \\nour Promises\\n\\n2020 Corporate Social Responsibility Report\\n\\n1\\n\\n\n",
       "Letter fro...   \n",
       "...                                                                                                   ...   \n",
       "8101  E N V I R O N M E N T A L  \\n\\n \\n\\nS O C I A L  \\n\\nG O V E R N A N C E\\n\\nSustainability \\nRep...   \n",
       "8102  E N V I R O N M E N T A L  \\n\\n \\n\\nS O C I A L  \\n\\nG O V E R N A N C E\\n\\nSustainability \\nRep...   \n",
       "\n",
       "                                                                                           CSR_Text_clean  \\\n",
       "0     888 ORG ANNUAL REPORT & ACCOUNTS 2020 A YEAR OF STRONG GROWTH ORG IS ONE OF THE WORLDS LEADING O...   \n",
       "1     Delivering on our Promises 2020 Corporate ORG 1 Letter from the President Stakeholder engagement...   \n",
       "...                                                                                                   ...   \n",
       "8101  E N V I R O N M E N T A L S O C I A L G O V E R N A N C E Sustainability Report 2016 T A B L E O...   \n",
       "8102  E N V I R O N M E N T A L S O C I A L G O V E R N A N C E Sustainability Report 2015 Investing n...   \n",
       "\n",
       "                                                                                       CSR_Text_tokenized  \n",
       "0     org annual report account year strong growth org one world leading online betting gaming company...  \n",
       "1     delivering promise corporate org letter president stakeholder engagement environment table conte...  \n",
       "...                                                                                                   ...  \n",
       "8101  sustainability report company profile corporate overview purpose mission value sustainability co...  \n",
       "8102  sustainability report investing future world letter ceo stakeholder company profile corporate ov...  \n",
       "\n",
       "[8103 rows x 30 columns]"
      ]
     },
     "execution_count": 7,
     "metadata": {},
     "output_type": "execute_result"
    }
   ],
   "source": [
    "# Load data\n",
    "df = pd.read_pickle(\"data/processed/reports_tokenized.p\")\n",
    "df"
   ]
  },
  {
   "cell_type": "code",
   "execution_count": 8,
   "metadata": {},
   "outputs": [],
   "source": [
    "# Transform labels to numpy array: Exclude SDGs 2 and 9 (too few aligned examples) and 10 and 14 (no mapping) -> 13 labels left\n",
    "labels = [\n",
    "    \"SDG_1\",\n",
    "    \"SDG_3\",\n",
    "    \"SDG_4\",\n",
    "    \"SDG_5\",\n",
    "    \"SDG_6\",\n",
    "    \"SDG_7\",\n",
    "    \"SDG_8\",\n",
    "    \"SDG_11\",\n",
    "    \"SDG_12\",\n",
    "    \"SDG_13\",\n",
    "    \"SDG_15\",\n",
    "    \"SDG_16\",\n",
    "    \"SDG_17\",\n",
    "]\n",
    "Y = df[labels].to_numpy().astype(int)"
   ]
  },
  {
   "cell_type": "code",
   "execution_count": 9,
   "metadata": {},
   "outputs": [],
   "source": [
    "# Split into 70% training, 15% validation, and 15% test data (stratified for multi-label, adapted to work with df column)\n",
    "\n",
    "np.random.seed(7)\n",
    "\n",
    "X_train, Y_train, X_test, Y_test = iterative_train_test_split(df['CSR_Text_clean'], Y, test_size=0.3)\n",
    "X_val, Y_val, X_test, Y_test = iterative_train_test_split(X_test, Y_test, test_size=0.5)"
   ]
  },
  {
   "cell_type": "code",
   "execution_count": 10,
   "metadata": {},
   "outputs": [],
   "source": [
    "# Load tokenizer\n",
    "tokenizer = LongformerTokenizerFast.from_pretrained(\"allenai/longformer-base-4096\")"
   ]
  },
  {
   "cell_type": "code",
   "execution_count": 11,
   "metadata": {},
   "outputs": [],
   "source": [
    "# Encode data (LongformerForSequenceClassification automatically sets global_attention_mask such that global attention is on the CLS token, no need to specify)\n",
    "train_encodings = tokenizer(list(X_train), max_length=4096, truncation=True, padding=True, return_tensors=\"pt\")\n",
    "val_encodings = tokenizer(list(X_val), max_length=4096, truncation=True, padding=True, return_tensors=\"pt\")\n",
    "test_encodings = tokenizer(list(X_test), max_length=4096, truncation=True, padding=True, return_tensors=\"pt\")"
   ]
  },
  {
   "cell_type": "code",
   "execution_count": 12,
   "metadata": {},
   "outputs": [],
   "source": [
    "# Convert data into TensorDatasets\n",
    "train_dataset = TensorDataset(train_encodings['input_ids'], train_encodings['attention_mask'], torch.tensor(Y_train).float())\n",
    "val_dataset = TensorDataset(val_encodings['input_ids'], val_encodings['attention_mask'], torch.tensor(Y_val).float())\n",
    "test_dataset = TensorDataset(test_encodings['input_ids'], test_encodings['attention_mask'], torch.tensor(Y_test).float())"
   ]
  },
  {
   "cell_type": "code",
   "execution_count": 18,
   "metadata": {},
   "outputs": [],
   "source": [
    "# Create the DataLoader\n",
    "\n",
    "batch_size = 1\n",
    "    \n",
    "train_dataloader = DataLoader(train_dataset, batch_size, shuffle = True)\n",
    "val_dataloader = DataLoader(val_dataset, batch_size, shuffle = True)\n",
    "test_dataloader = DataLoader(test_dataset, batch_size, shuffle = True)"
   ]
  },
  {
   "cell_type": "code",
   "execution_count": 19,
   "metadata": {},
   "outputs": [
    {
     "name": "stdout",
     "output_type": "stream",
     "text": [
      "Original:  enthusiastic approach to sustainability and our drive\n",
      "Tokenized:  ['ent', 'hus', 'i', 'astic', 'Ġapproach', 'Ġto', 'Ġsustainability', 'Ġand', 'Ġour', 'Ġdrive']\n",
      "Token IDs:  [1342, 25134, 118, 11599, 1548, 7, 11128, 8, 84, 1305]\n"
     ]
    }
   ],
   "source": [
    "# Check encoding example\n",
    "\n",
    "# Print the original sentence.\n",
    "print('Original: ', X_train[3][1998:2051])\n",
    "\n",
    "# Print the sentence split into tokens.\n",
    "print('Tokenized: ', tokenizer.tokenize(X_train[3][1998:2051]))\n",
    "\n",
    "# Print the sentence mapped to token ids.\n",
    "print('Token IDs: ', tokenizer.convert_tokens_to_ids(tokenizer.tokenize(X_train[3][1998:2051])))"
   ]
  },
  {
   "cell_type": "code",
   "execution_count": 20,
   "metadata": {},
   "outputs": [
    {
     "data": {
      "text/plain": [
       "[tensor([[    0, 48242,  3263,  ...,     8, 14436,     2]]),\n",
       " tensor([[1, 1, 1,  ..., 1, 1, 1]]),\n",
       " tensor([[0., 1., 1., 1., 1., 1., 1., 0., 1., 1., 0., 1., 0.]])]"
      ]
     },
     "execution_count": 20,
     "metadata": {},
     "output_type": "execute_result"
    }
   ],
   "source": [
    "# Check DataLoader\n",
    "next(iter(train_dataloader))"
   ]
  },
  {
   "cell_type": "markdown",
   "metadata": {},
   "source": [
    "## 2. Hyperparameter optimization"
   ]
  },
  {
   "cell_type": "code",
   "execution_count": 17,
   "metadata": {},
   "outputs": [
    {
     "name": "stdout",
     "output_type": "stream",
     "text": [
      "Create sweep with ID: krjdrgjn\n",
      "Sweep URL: https://wandb.ai/jonathanbt/longformer_4096/sweeps/krjdrgjn\n"
     ]
    }
   ],
   "source": [
    "# Define input parameters for training\n",
    "\n",
    "epochs = 10\n",
    "\n",
    "# Parameters to test in grid search using wandb\n",
    "sweep_config = {\n",
    "    'method': 'grid',\n",
    "    'metric': {'name': 'BCELoss', \n",
    "               'goal': 'minimize'},\n",
    "    'parameters': {'learning_rate': {'values': [1e-6, 1e-5, 2e-5, 3e-5, 4e-5, 5e-5, 1e-4]},\n",
    "                   'weight_decay': {'values': [0, 0.01, 0.0001]}},\n",
    "    'early_terminate': {'type': 'hyperband', \"min_iter\": 3}\n",
    "    }\n",
    "\n",
    "sweep_id = wandb.sweep(sweep_config, project=\"longformer_4096\")"
   ]
  },
  {
   "cell_type": "code",
   "execution_count": null,
   "metadata": {},
   "outputs": [
    {
     "name": "stderr",
     "output_type": "stream",
     "text": [
      "\u001b[34m\u001b[1mwandb\u001b[0m: Agent Starting Run: ipj719ab with config:\n",
      "\u001b[34m\u001b[1mwandb\u001b[0m: \tlearning_rate: 1e-06\n",
      "\u001b[34m\u001b[1mwandb\u001b[0m: \tweight_decay: 0\n",
      "Failed to detect the name of this notebook, you can set it manually with the WANDB_NOTEBOOK_NAME environment variable to enable code saving.\n"
     ]
    },
    {
     "name": "stdout",
     "output_type": "stream",
     "text": [
      "huggingface/tokenizers: The current process just got forked, after parallelism has already been used. Disabling parallelism to avoid deadlocks...\n",
      "To disable this warning, you can either:\n",
      "\t- Avoid using `tokenizers` before the fork if possible\n",
      "\t- Explicitly set the environment variable TOKENIZERS_PARALLELISM=(true | false)\n",
      "huggingface/tokenizers: The current process just got forked, after parallelism has already been used. Disabling parallelism to avoid deadlocks...\n",
      "To disable this warning, you can either:\n",
      "\t- Avoid using `tokenizers` before the fork if possible\n",
      "\t- Explicitly set the environment variable TOKENIZERS_PARALLELISM=(true | false)\n",
      "huggingface/tokenizers: The current process just got forked, after parallelism has already been used. Disabling parallelism to avoid deadlocks...\n",
      "To disable this warning, you can either:\n",
      "\t- Avoid using `tokenizers` before the fork if possible\n",
      "\t- Explicitly set the environment variable TOKENIZERS_PARALLELISM=(true | false)\n"
     ]
    },
    {
     "data": {
      "text/html": [
       "Tracking run with wandb version 0.12.11"
      ],
      "text/plain": [
       "<IPython.core.display.HTML object>"
      ]
     },
     "metadata": {},
     "output_type": "display_data"
    },
    {
     "data": {
      "text/html": [
       "Run data is saved locally in <code>/home/jbaumert/master-thesis/wandb/run-20220322_150142-ipj719ab</code>"
      ],
      "text/plain": [
       "<IPython.core.display.HTML object>"
      ]
     },
     "metadata": {},
     "output_type": "display_data"
    },
    {
     "data": {
      "text/html": [
       "Syncing run <strong><a href=\"https://wandb.ai/jonathanbt/longformer_4096/runs/ipj719ab\" target=\"_blank\">dutiful-sweep-1</a></strong> to <a href=\"https://wandb.ai/jonathanbt/longformer_4096\" target=\"_blank\">Weights & Biases</a> (<a href=\"https://wandb.me/run\" target=\"_blank\">docs</a>)<br/>Sweep page:  <a href=\"https://wandb.ai/jonathanbt/longformer_4096/sweeps/krjdrgjn\" target=\"_blank\">https://wandb.ai/jonathanbt/longformer_4096/sweeps/krjdrgjn</a>"
      ],
      "text/plain": [
       "<IPython.core.display.HTML object>"
      ]
     },
     "metadata": {},
     "output_type": "display_data"
    },
    {
     "name": "stderr",
     "output_type": "stream",
     "text": [
      "Some weights of the model checkpoint at allenai/longformer-base-4096 were not used when initializing LongformerForSequenceClassification: ['lm_head.decoder.weight', 'lm_head.dense.weight', 'lm_head.layer_norm.weight', 'lm_head.dense.bias', 'lm_head.bias', 'lm_head.layer_norm.bias']\n",
      "- This IS expected if you are initializing LongformerForSequenceClassification from the checkpoint of a model trained on another task or with another architecture (e.g. initializing a BertForSequenceClassification model from a BertForPreTraining model).\n",
      "- This IS NOT expected if you are initializing LongformerForSequenceClassification from the checkpoint of a model that you expect to be exactly identical (initializing a BertForSequenceClassification model from a BertForSequenceClassification model).\n",
      "Some weights of LongformerForSequenceClassification were not initialized from the model checkpoint at allenai/longformer-base-4096 and are newly initialized: ['classifier.dense.weight', 'classifier.out_proj.weight', 'classifier.out_proj.bias', 'classifier.dense.bias']\n",
      "You should probably TRAIN this model on a down-stream task to be able to use it for predictions and inference.\n"
     ]
    },
    {
     "name": "stdout",
     "output_type": "stream",
     "text": [
      "\n"
     ]
    },
    {
     "data": {
      "text/html": [
       "Waiting for W&B process to finish... <strong style=\"color:green\">(success).</strong>"
      ],
      "text/plain": [
       "<IPython.core.display.HTML object>"
      ]
     },
     "metadata": {},
     "output_type": "display_data"
    },
    {
     "data": {
      "application/vnd.jupyter.widget-view+json": {
       "model_id": "",
       "version_major": 2,
       "version_minor": 0
      },
      "text/plain": [
       "VBox(children=(Label(value='0.001 MB of 0.001 MB uploaded (0.000 MB deduped)\\r'), FloatProgress(value=1.0, max…"
      ]
     },
     "metadata": {},
     "output_type": "display_data"
    },
    {
     "data": {
      "text/html": [
       "<style>\n",
       "    table.wandb td:nth-child(1) { padding: 0 10px; text-align: right }\n",
       "    .wandb-row { display: flex; flex-direction: row; flex-wrap: wrap; width: 100% }\n",
       "    .wandb-col { display: flex; flex-direction: column; flex-basis: 100%; flex: 1; padding: 10px; }\n",
       "    </style>\n",
       "<div class=\"wandb-row\"><div class=\"wandb-col\"><h3>Run history:</h3><br/><table class=\"wandb\"><tr><td>avg_train_loss</td><td>███▆▃▂▂▁▁▁</td></tr><tr><td>avg_val_f1</td><td>▁▁▁▆█▇▇███</td></tr><tr><td>avg_val_loss</td><td>██▇▄▃▂▂▁▁▁</td></tr><tr><td>epoch</td><td>▁▂▃▃▄▅▆▆▇█</td></tr></table><br/></div><div class=\"wandb-col\"><h3>Run summary:</h3><br/><table class=\"wandb\"><tr><td>avg_train_loss</td><td>0.44688</td></tr><tr><td>avg_val_f1</td><td>0.6486</td></tr><tr><td>avg_val_loss</td><td>0.57791</td></tr><tr><td>epoch</td><td>9</td></tr></table><br/></div></div>"
      ],
      "text/plain": [
       "<IPython.core.display.HTML object>"
      ]
     },
     "metadata": {},
     "output_type": "display_data"
    },
    {
     "data": {
      "text/html": [
       "Synced <strong style=\"color:#cdcd00\">dutiful-sweep-1</strong>: <a href=\"https://wandb.ai/jonathanbt/longformer_4096/runs/ipj719ab\" target=\"_blank\">https://wandb.ai/jonathanbt/longformer_4096/runs/ipj719ab</a><br/>Synced 6 W&B file(s), 0 media file(s), 0 artifact file(s) and 0 other file(s)"
      ],
      "text/plain": [
       "<IPython.core.display.HTML object>"
      ]
     },
     "metadata": {},
     "output_type": "display_data"
    },
    {
     "data": {
      "text/html": [
       "Find logs at: <code>./wandb/run-20220322_150142-ipj719ab/logs</code>"
      ],
      "text/plain": [
       "<IPython.core.display.HTML object>"
      ]
     },
     "metadata": {},
     "output_type": "display_data"
    },
    {
     "name": "stderr",
     "output_type": "stream",
     "text": [
      "\u001b[34m\u001b[1mwandb\u001b[0m: Agent Starting Run: opw2n56e with config:\n",
      "\u001b[34m\u001b[1mwandb\u001b[0m: \tlearning_rate: 1e-06\n",
      "\u001b[34m\u001b[1mwandb\u001b[0m: \tweight_decay: 0.01\n",
      "Failed to detect the name of this notebook, you can set it manually with the WANDB_NOTEBOOK_NAME environment variable to enable code saving.\n"
     ]
    },
    {
     "name": "stdout",
     "output_type": "stream",
     "text": [
      "huggingface/tokenizers: The current process just got forked, after parallelism has already been used. Disabling parallelism to avoid deadlocks...\n",
      "To disable this warning, you can either:\n",
      "\t- Avoid using `tokenizers` before the fork if possible\n",
      "\t- Explicitly set the environment variable TOKENIZERS_PARALLELISM=(true | false)\n",
      "huggingface/tokenizers: The current process just got forked, after parallelism has already been used. Disabling parallelism to avoid deadlocks...\n",
      "To disable this warning, you can either:\n",
      "\t- Avoid using `tokenizers` before the fork if possible\n",
      "\t- Explicitly set the environment variable TOKENIZERS_PARALLELISM=(true | false)\n"
     ]
    },
    {
     "data": {
      "text/html": [
       "Tracking run with wandb version 0.12.11"
      ],
      "text/plain": [
       "<IPython.core.display.HTML object>"
      ]
     },
     "metadata": {},
     "output_type": "display_data"
    },
    {
     "data": {
      "text/html": [
       "Run data is saved locally in <code>/home/jbaumert/master-thesis/wandb/run-20220322_180015-opw2n56e</code>"
      ],
      "text/plain": [
       "<IPython.core.display.HTML object>"
      ]
     },
     "metadata": {},
     "output_type": "display_data"
    },
    {
     "data": {
      "text/html": [
       "Syncing run <strong><a href=\"https://wandb.ai/jonathanbt/longformer_4096/runs/opw2n56e\" target=\"_blank\">gallant-sweep-2</a></strong> to <a href=\"https://wandb.ai/jonathanbt/longformer_4096\" target=\"_blank\">Weights & Biases</a> (<a href=\"https://wandb.me/run\" target=\"_blank\">docs</a>)<br/>Sweep page:  <a href=\"https://wandb.ai/jonathanbt/longformer_4096/sweeps/krjdrgjn\" target=\"_blank\">https://wandb.ai/jonathanbt/longformer_4096/sweeps/krjdrgjn</a>"
      ],
      "text/plain": [
       "<IPython.core.display.HTML object>"
      ]
     },
     "metadata": {},
     "output_type": "display_data"
    },
    {
     "name": "stderr",
     "output_type": "stream",
     "text": [
      "Some weights of the model checkpoint at allenai/longformer-base-4096 were not used when initializing LongformerForSequenceClassification: ['lm_head.decoder.weight', 'lm_head.dense.weight', 'lm_head.layer_norm.weight', 'lm_head.dense.bias', 'lm_head.bias', 'lm_head.layer_norm.bias']\n",
      "- This IS expected if you are initializing LongformerForSequenceClassification from the checkpoint of a model trained on another task or with another architecture (e.g. initializing a BertForSequenceClassification model from a BertForPreTraining model).\n",
      "- This IS NOT expected if you are initializing LongformerForSequenceClassification from the checkpoint of a model that you expect to be exactly identical (initializing a BertForSequenceClassification model from a BertForSequenceClassification model).\n",
      "Some weights of LongformerForSequenceClassification were not initialized from the model checkpoint at allenai/longformer-base-4096 and are newly initialized: ['classifier.dense.weight', 'classifier.out_proj.weight', 'classifier.out_proj.bias', 'classifier.dense.bias']\n",
      "You should probably TRAIN this model on a down-stream task to be able to use it for predictions and inference.\n"
     ]
    },
    {
     "name": "stdout",
     "output_type": "stream",
     "text": [
      "\n"
     ]
    },
    {
     "data": {
      "text/html": [
       "Waiting for W&B process to finish... <strong style=\"color:green\">(success).</strong>"
      ],
      "text/plain": [
       "<IPython.core.display.HTML object>"
      ]
     },
     "metadata": {},
     "output_type": "display_data"
    },
    {
     "data": {
      "application/vnd.jupyter.widget-view+json": {
       "model_id": "",
       "version_major": 2,
       "version_minor": 0
      },
      "text/plain": [
       "VBox(children=(Label(value='0.001 MB of 0.001 MB uploaded (0.000 MB deduped)\\r'), FloatProgress(value=1.0, max…"
      ]
     },
     "metadata": {},
     "output_type": "display_data"
    },
    {
     "data": {
      "text/html": [
       "<style>\n",
       "    table.wandb td:nth-child(1) { padding: 0 10px; text-align: right }\n",
       "    .wandb-row { display: flex; flex-direction: row; flex-wrap: wrap; width: 100% }\n",
       "    .wandb-col { display: flex; flex-direction: column; flex-basis: 100%; flex: 1; padding: 10px; }\n",
       "    </style>\n",
       "<div class=\"wandb-row\"><div class=\"wandb-col\"><h3>Run history:</h3><br/><table class=\"wandb\"><tr><td>avg_train_loss</td><td>█▆▄▂▂▂▂▁▂▂</td></tr><tr><td>avg_val_f1</td><td>███▆▂▂▁▁▁▁</td></tr><tr><td>avg_val_loss</td><td>█▅▄▃▂▂▁▁▁▁</td></tr><tr><td>epoch</td><td>▁▂▃▃▄▅▆▆▇█</td></tr></table><br/></div><div class=\"wandb-col\"><h3>Run summary:</h3><br/><table class=\"wandb\"><tr><td>avg_train_loss</td><td>0.55864</td></tr><tr><td>avg_val_f1</td><td>0.39821</td></tr><tr><td>avg_val_loss</td><td>0.68468</td></tr><tr><td>epoch</td><td>9</td></tr></table><br/></div></div>"
      ],
      "text/plain": [
       "<IPython.core.display.HTML object>"
      ]
     },
     "metadata": {},
     "output_type": "display_data"
    },
    {
     "data": {
      "text/html": [
       "Synced <strong style=\"color:#cdcd00\">gallant-sweep-2</strong>: <a href=\"https://wandb.ai/jonathanbt/longformer_4096/runs/opw2n56e\" target=\"_blank\">https://wandb.ai/jonathanbt/longformer_4096/runs/opw2n56e</a><br/>Synced 6 W&B file(s), 0 media file(s), 0 artifact file(s) and 0 other file(s)"
      ],
      "text/plain": [
       "<IPython.core.display.HTML object>"
      ]
     },
     "metadata": {},
     "output_type": "display_data"
    },
    {
     "data": {
      "text/html": [
       "Find logs at: <code>./wandb/run-20220322_180015-opw2n56e/logs</code>"
      ],
      "text/plain": [
       "<IPython.core.display.HTML object>"
      ]
     },
     "metadata": {},
     "output_type": "display_data"
    },
    {
     "name": "stderr",
     "output_type": "stream",
     "text": [
      "\u001b[34m\u001b[1mwandb\u001b[0m: Sweep Agent: Waiting for job.\n",
      "\u001b[34m\u001b[1mwandb\u001b[0m: Job received.\n",
      "\u001b[34m\u001b[1mwandb\u001b[0m: Agent Starting Run: nzp9s889 with config:\n",
      "\u001b[34m\u001b[1mwandb\u001b[0m: \tlearning_rate: 1e-06\n",
      "\u001b[34m\u001b[1mwandb\u001b[0m: \tweight_decay: 0.0001\n",
      "Failed to detect the name of this notebook, you can set it manually with the WANDB_NOTEBOOK_NAME environment variable to enable code saving.\n"
     ]
    },
    {
     "name": "stdout",
     "output_type": "stream",
     "text": [
      "huggingface/tokenizers: The current process just got forked, after parallelism has already been used. Disabling parallelism to avoid deadlocks...\n",
      "To disable this warning, you can either:\n",
      "\t- Avoid using `tokenizers` before the fork if possible\n",
      "\t- Explicitly set the environment variable TOKENIZERS_PARALLELISM=(true | false)\n",
      "huggingface/tokenizers: The current process just got forked, after parallelism has already been used. Disabling parallelism to avoid deadlocks...\n",
      "To disable this warning, you can either:\n",
      "\t- Avoid using `tokenizers` before the fork if possible\n",
      "\t- Explicitly set the environment variable TOKENIZERS_PARALLELISM=(true | false)\n"
     ]
    },
    {
     "data": {
      "text/html": [
       "Tracking run with wandb version 0.12.11"
      ],
      "text/plain": [
       "<IPython.core.display.HTML object>"
      ]
     },
     "metadata": {},
     "output_type": "display_data"
    },
    {
     "data": {
      "text/html": [
       "Run data is saved locally in <code>/home/jbaumert/master-thesis/wandb/run-20220322_204304-nzp9s889</code>"
      ],
      "text/plain": [
       "<IPython.core.display.HTML object>"
      ]
     },
     "metadata": {},
     "output_type": "display_data"
    },
    {
     "data": {
      "text/html": [
       "Syncing run <strong><a href=\"https://wandb.ai/jonathanbt/longformer_4096/runs/nzp9s889\" target=\"_blank\">icy-sweep-3</a></strong> to <a href=\"https://wandb.ai/jonathanbt/longformer_4096\" target=\"_blank\">Weights & Biases</a> (<a href=\"https://wandb.me/run\" target=\"_blank\">docs</a>)<br/>Sweep page:  <a href=\"https://wandb.ai/jonathanbt/longformer_4096/sweeps/krjdrgjn\" target=\"_blank\">https://wandb.ai/jonathanbt/longformer_4096/sweeps/krjdrgjn</a>"
      ],
      "text/plain": [
       "<IPython.core.display.HTML object>"
      ]
     },
     "metadata": {},
     "output_type": "display_data"
    },
    {
     "name": "stderr",
     "output_type": "stream",
     "text": [
      "Some weights of the model checkpoint at allenai/longformer-base-4096 were not used when initializing LongformerForSequenceClassification: ['lm_head.decoder.weight', 'lm_head.dense.weight', 'lm_head.layer_norm.weight', 'lm_head.dense.bias', 'lm_head.bias', 'lm_head.layer_norm.bias']\n",
      "- This IS expected if you are initializing LongformerForSequenceClassification from the checkpoint of a model trained on another task or with another architecture (e.g. initializing a BertForSequenceClassification model from a BertForPreTraining model).\n",
      "- This IS NOT expected if you are initializing LongformerForSequenceClassification from the checkpoint of a model that you expect to be exactly identical (initializing a BertForSequenceClassification model from a BertForSequenceClassification model).\n",
      "Some weights of LongformerForSequenceClassification were not initialized from the model checkpoint at allenai/longformer-base-4096 and are newly initialized: ['classifier.dense.weight', 'classifier.out_proj.weight', 'classifier.out_proj.bias', 'classifier.dense.bias']\n",
      "You should probably TRAIN this model on a down-stream task to be able to use it for predictions and inference.\n"
     ]
    },
    {
     "name": "stdout",
     "output_type": "stream",
     "text": [
      "\n"
     ]
    },
    {
     "data": {
      "text/html": [
       "Waiting for W&B process to finish... <strong style=\"color:green\">(success).</strong>"
      ],
      "text/plain": [
       "<IPython.core.display.HTML object>"
      ]
     },
     "metadata": {},
     "output_type": "display_data"
    },
    {
     "data": {
      "application/vnd.jupyter.widget-view+json": {
       "model_id": "",
       "version_major": 2,
       "version_minor": 0
      },
      "text/plain": [
       "VBox(children=(Label(value='0.001 MB of 0.001 MB uploaded (0.000 MB deduped)\\r'), FloatProgress(value=1.0, max…"
      ]
     },
     "metadata": {},
     "output_type": "display_data"
    },
    {
     "data": {
      "text/html": [
       "<style>\n",
       "    table.wandb td:nth-child(1) { padding: 0 10px; text-align: right }\n",
       "    .wandb-row { display: flex; flex-direction: row; flex-wrap: wrap; width: 100% }\n",
       "    .wandb-col { display: flex; flex-direction: column; flex-basis: 100%; flex: 1; padding: 10px; }\n",
       "    </style>\n",
       "<div class=\"wandb-row\"><div class=\"wandb-col\"><h3>Run history:</h3><br/><table class=\"wandb\"><tr><td>avg_train_loss</td><td>██▇▅▃▂▁▁▁▁</td></tr><tr><td>avg_val_f1</td><td>▁▃▇█████▇█</td></tr><tr><td>avg_val_loss</td><td>█▇▄▃▂▂▂▁▁▁</td></tr><tr><td>epoch</td><td>▁▂▃▃▄▅▆▆▇█</td></tr></table><br/></div><div class=\"wandb-col\"><h3>Run summary:</h3><br/><table class=\"wandb\"><tr><td>avg_train_loss</td><td>0.44928</td></tr><tr><td>avg_val_f1</td><td>0.64448</td></tr><tr><td>avg_val_loss</td><td>0.57335</td></tr><tr><td>epoch</td><td>9</td></tr></table><br/></div></div>"
      ],
      "text/plain": [
       "<IPython.core.display.HTML object>"
      ]
     },
     "metadata": {},
     "output_type": "display_data"
    },
    {
     "data": {
      "text/html": [
       "Synced <strong style=\"color:#cdcd00\">icy-sweep-3</strong>: <a href=\"https://wandb.ai/jonathanbt/longformer_4096/runs/nzp9s889\" target=\"_blank\">https://wandb.ai/jonathanbt/longformer_4096/runs/nzp9s889</a><br/>Synced 6 W&B file(s), 0 media file(s), 0 artifact file(s) and 0 other file(s)"
      ],
      "text/plain": [
       "<IPython.core.display.HTML object>"
      ]
     },
     "metadata": {},
     "output_type": "display_data"
    },
    {
     "data": {
      "text/html": [
       "Find logs at: <code>./wandb/run-20220322_204304-nzp9s889/logs</code>"
      ],
      "text/plain": [
       "<IPython.core.display.HTML object>"
      ]
     },
     "metadata": {},
     "output_type": "display_data"
    },
    {
     "name": "stderr",
     "output_type": "stream",
     "text": [
      "\u001b[34m\u001b[1mwandb\u001b[0m: Agent Starting Run: cvzsijwr with config:\n",
      "\u001b[34m\u001b[1mwandb\u001b[0m: \tlearning_rate: 1e-05\n",
      "\u001b[34m\u001b[1mwandb\u001b[0m: \tweight_decay: 0\n",
      "Failed to detect the name of this notebook, you can set it manually with the WANDB_NOTEBOOK_NAME environment variable to enable code saving.\n"
     ]
    },
    {
     "name": "stdout",
     "output_type": "stream",
     "text": [
      "huggingface/tokenizers: The current process just got forked, after parallelism has already been used. Disabling parallelism to avoid deadlocks...\n",
      "To disable this warning, you can either:\n",
      "\t- Avoid using `tokenizers` before the fork if possible\n",
      "\t- Explicitly set the environment variable TOKENIZERS_PARALLELISM=(true | false)\n",
      "huggingface/tokenizers: The current process just got forked, after parallelism has already been used. Disabling parallelism to avoid deadlocks...\n",
      "To disable this warning, you can either:\n",
      "\t- Avoid using `tokenizers` before the fork if possible\n",
      "\t- Explicitly set the environment variable TOKENIZERS_PARALLELISM=(true | false)\n"
     ]
    },
    {
     "data": {
      "text/html": [
       "Tracking run with wandb version 0.12.11"
      ],
      "text/plain": [
       "<IPython.core.display.HTML object>"
      ]
     },
     "metadata": {},
     "output_type": "display_data"
    },
    {
     "data": {
      "text/html": [
       "Run data is saved locally in <code>/home/jbaumert/master-thesis/wandb/run-20220322_232646-cvzsijwr</code>"
      ],
      "text/plain": [
       "<IPython.core.display.HTML object>"
      ]
     },
     "metadata": {},
     "output_type": "display_data"
    },
    {
     "data": {
      "text/html": [
       "Syncing run <strong><a href=\"https://wandb.ai/jonathanbt/longformer_4096/runs/cvzsijwr\" target=\"_blank\">electric-sweep-4</a></strong> to <a href=\"https://wandb.ai/jonathanbt/longformer_4096\" target=\"_blank\">Weights & Biases</a> (<a href=\"https://wandb.me/run\" target=\"_blank\">docs</a>)<br/>Sweep page:  <a href=\"https://wandb.ai/jonathanbt/longformer_4096/sweeps/krjdrgjn\" target=\"_blank\">https://wandb.ai/jonathanbt/longformer_4096/sweeps/krjdrgjn</a>"
      ],
      "text/plain": [
       "<IPython.core.display.HTML object>"
      ]
     },
     "metadata": {},
     "output_type": "display_data"
    },
    {
     "name": "stderr",
     "output_type": "stream",
     "text": [
      "Some weights of the model checkpoint at allenai/longformer-base-4096 were not used when initializing LongformerForSequenceClassification: ['lm_head.decoder.weight', 'lm_head.dense.weight', 'lm_head.layer_norm.weight', 'lm_head.dense.bias', 'lm_head.bias', 'lm_head.layer_norm.bias']\n",
      "- This IS expected if you are initializing LongformerForSequenceClassification from the checkpoint of a model trained on another task or with another architecture (e.g. initializing a BertForSequenceClassification model from a BertForPreTraining model).\n",
      "- This IS NOT expected if you are initializing LongformerForSequenceClassification from the checkpoint of a model that you expect to be exactly identical (initializing a BertForSequenceClassification model from a BertForSequenceClassification model).\n",
      "Some weights of LongformerForSequenceClassification were not initialized from the model checkpoint at allenai/longformer-base-4096 and are newly initialized: ['classifier.dense.weight', 'classifier.out_proj.weight', 'classifier.out_proj.bias', 'classifier.dense.bias']\n",
      "You should probably TRAIN this model on a down-stream task to be able to use it for predictions and inference.\n"
     ]
    },
    {
     "name": "stdout",
     "output_type": "stream",
     "text": [
      "\n"
     ]
    },
    {
     "data": {
      "text/html": [
       "Waiting for W&B process to finish... <strong style=\"color:green\">(success).</strong>"
      ],
      "text/plain": [
       "<IPython.core.display.HTML object>"
      ]
     },
     "metadata": {},
     "output_type": "display_data"
    },
    {
     "data": {
      "application/vnd.jupyter.widget-view+json": {
       "model_id": "",
       "version_major": 2,
       "version_minor": 0
      },
      "text/plain": [
       "VBox(children=(Label(value='0.001 MB of 0.001 MB uploaded (0.000 MB deduped)\\r'), FloatProgress(value=1.0, max…"
      ]
     },
     "metadata": {},
     "output_type": "display_data"
    },
    {
     "data": {
      "text/html": [
       "<style>\n",
       "    table.wandb td:nth-child(1) { padding: 0 10px; text-align: right }\n",
       "    .wandb-row { display: flex; flex-direction: row; flex-wrap: wrap; width: 100% }\n",
       "    .wandb-col { display: flex; flex-direction: column; flex-basis: 100%; flex: 1; padding: 10px; }\n",
       "    </style>\n",
       "<div class=\"wandb-row\"><div class=\"wandb-col\"><h3>Run history:</h3><br/><table class=\"wandb\"><tr><td>avg_train_loss</td><td>█▆▅▄▃▃▂▂▁▁</td></tr><tr><td>avg_val_f1</td><td>▁▃▆▆▆██▇██</td></tr><tr><td>avg_val_loss</td><td>█▅▃▃▄▁▂▃▁▂</td></tr><tr><td>epoch</td><td>▁▂▃▃▄▅▆▆▇█</td></tr></table><br/></div><div class=\"wandb-col\"><h3>Run summary:</h3><br/><table class=\"wandb\"><tr><td>avg_train_loss</td><td>0.17645</td></tr><tr><td>avg_val_f1</td><td>0.75607</td></tr><tr><td>avg_val_loss</td><td>0.48799</td></tr><tr><td>epoch</td><td>9</td></tr></table><br/></div></div>"
      ],
      "text/plain": [
       "<IPython.core.display.HTML object>"
      ]
     },
     "metadata": {},
     "output_type": "display_data"
    },
    {
     "data": {
      "text/html": [
       "Synced <strong style=\"color:#cdcd00\">electric-sweep-4</strong>: <a href=\"https://wandb.ai/jonathanbt/longformer_4096/runs/cvzsijwr\" target=\"_blank\">https://wandb.ai/jonathanbt/longformer_4096/runs/cvzsijwr</a><br/>Synced 6 W&B file(s), 0 media file(s), 0 artifact file(s) and 0 other file(s)"
      ],
      "text/plain": [
       "<IPython.core.display.HTML object>"
      ]
     },
     "metadata": {},
     "output_type": "display_data"
    },
    {
     "data": {
      "text/html": [
       "Find logs at: <code>./wandb/run-20220322_232646-cvzsijwr/logs</code>"
      ],
      "text/plain": [
       "<IPython.core.display.HTML object>"
      ]
     },
     "metadata": {},
     "output_type": "display_data"
    },
    {
     "name": "stderr",
     "output_type": "stream",
     "text": [
      "\u001b[34m\u001b[1mwandb\u001b[0m: Agent Starting Run: 9tefnykl with config:\n",
      "\u001b[34m\u001b[1mwandb\u001b[0m: \tlearning_rate: 1e-05\n",
      "\u001b[34m\u001b[1mwandb\u001b[0m: \tweight_decay: 0.01\n",
      "Failed to detect the name of this notebook, you can set it manually with the WANDB_NOTEBOOK_NAME environment variable to enable code saving.\n"
     ]
    },
    {
     "name": "stdout",
     "output_type": "stream",
     "text": [
      "huggingface/tokenizers: The current process just got forked, after parallelism has already been used. Disabling parallelism to avoid deadlocks...\n",
      "To disable this warning, you can either:\n",
      "\t- Avoid using `tokenizers` before the fork if possible\n",
      "\t- Explicitly set the environment variable TOKENIZERS_PARALLELISM=(true | false)\n",
      "huggingface/tokenizers: The current process just got forked, after parallelism has already been used. Disabling parallelism to avoid deadlocks...\n",
      "To disable this warning, you can either:\n",
      "\t- Avoid using `tokenizers` before the fork if possible\n",
      "\t- Explicitly set the environment variable TOKENIZERS_PARALLELISM=(true | false)\n"
     ]
    },
    {
     "data": {
      "text/html": [
       "Tracking run with wandb version 0.12.11"
      ],
      "text/plain": [
       "<IPython.core.display.HTML object>"
      ]
     },
     "metadata": {},
     "output_type": "display_data"
    },
    {
     "data": {
      "text/html": [
       "Run data is saved locally in <code>/home/jbaumert/master-thesis/wandb/run-20220323_020751-9tefnykl</code>"
      ],
      "text/plain": [
       "<IPython.core.display.HTML object>"
      ]
     },
     "metadata": {},
     "output_type": "display_data"
    },
    {
     "data": {
      "text/html": [
       "Syncing run <strong><a href=\"https://wandb.ai/jonathanbt/longformer_4096/runs/9tefnykl\" target=\"_blank\">silver-sweep-5</a></strong> to <a href=\"https://wandb.ai/jonathanbt/longformer_4096\" target=\"_blank\">Weights & Biases</a> (<a href=\"https://wandb.me/run\" target=\"_blank\">docs</a>)<br/>Sweep page:  <a href=\"https://wandb.ai/jonathanbt/longformer_4096/sweeps/krjdrgjn\" target=\"_blank\">https://wandb.ai/jonathanbt/longformer_4096/sweeps/krjdrgjn</a>"
      ],
      "text/plain": [
       "<IPython.core.display.HTML object>"
      ]
     },
     "metadata": {},
     "output_type": "display_data"
    },
    {
     "name": "stderr",
     "output_type": "stream",
     "text": [
      "Some weights of the model checkpoint at allenai/longformer-base-4096 were not used when initializing LongformerForSequenceClassification: ['lm_head.decoder.weight', 'lm_head.dense.weight', 'lm_head.layer_norm.weight', 'lm_head.dense.bias', 'lm_head.bias', 'lm_head.layer_norm.bias']\n",
      "- This IS expected if you are initializing LongformerForSequenceClassification from the checkpoint of a model trained on another task or with another architecture (e.g. initializing a BertForSequenceClassification model from a BertForPreTraining model).\n",
      "- This IS NOT expected if you are initializing LongformerForSequenceClassification from the checkpoint of a model that you expect to be exactly identical (initializing a BertForSequenceClassification model from a BertForSequenceClassification model).\n",
      "Some weights of LongformerForSequenceClassification were not initialized from the model checkpoint at allenai/longformer-base-4096 and are newly initialized: ['classifier.dense.weight', 'classifier.out_proj.weight', 'classifier.out_proj.bias', 'classifier.dense.bias']\n",
      "You should probably TRAIN this model on a down-stream task to be able to use it for predictions and inference.\n"
     ]
    },
    {
     "name": "stdout",
     "output_type": "stream",
     "text": [
      "\n"
     ]
    },
    {
     "data": {
      "text/html": [
       "Waiting for W&B process to finish... <strong style=\"color:green\">(success).</strong>"
      ],
      "text/plain": [
       "<IPython.core.display.HTML object>"
      ]
     },
     "metadata": {},
     "output_type": "display_data"
    },
    {
     "data": {
      "application/vnd.jupyter.widget-view+json": {
       "model_id": "",
       "version_major": 2,
       "version_minor": 0
      },
      "text/plain": [
       "VBox(children=(Label(value='0.001 MB of 0.001 MB uploaded (0.000 MB deduped)\\r'), FloatProgress(value=1.0, max…"
      ]
     },
     "metadata": {},
     "output_type": "display_data"
    },
    {
     "data": {
      "text/html": [
       "<style>\n",
       "    table.wandb td:nth-child(1) { padding: 0 10px; text-align: right }\n",
       "    .wandb-row { display: flex; flex-direction: row; flex-wrap: wrap; width: 100% }\n",
       "    .wandb-col { display: flex; flex-direction: column; flex-basis: 100%; flex: 1; padding: 10px; }\n",
       "    </style>\n",
       "<div class=\"wandb-row\"><div class=\"wandb-col\"><h3>Run history:</h3><br/><table class=\"wandb\"><tr><td>avg_train_loss</td><td>█▇▃▃▂▂▁▁▁▁</td></tr><tr><td>avg_val_f1</td><td>▁▆▇▇▆█▆▇▇▇</td></tr><tr><td>avg_val_loss</td><td>█▃▃▁▂▃▂▁▂▂</td></tr><tr><td>epoch</td><td>▁▂▃▃▄▅▆▆▇█</td></tr></table><br/></div><div class=\"wandb-col\"><h3>Run summary:</h3><br/><table class=\"wandb\"><tr><td>avg_train_loss</td><td>0.46321</td></tr><tr><td>avg_val_f1</td><td>0.62701</td></tr><tr><td>avg_val_loss</td><td>0.58102</td></tr><tr><td>epoch</td><td>9</td></tr></table><br/></div></div>"
      ],
      "text/plain": [
       "<IPython.core.display.HTML object>"
      ]
     },
     "metadata": {},
     "output_type": "display_data"
    },
    {
     "data": {
      "text/html": [
       "Synced <strong style=\"color:#cdcd00\">silver-sweep-5</strong>: <a href=\"https://wandb.ai/jonathanbt/longformer_4096/runs/9tefnykl\" target=\"_blank\">https://wandb.ai/jonathanbt/longformer_4096/runs/9tefnykl</a><br/>Synced 6 W&B file(s), 0 media file(s), 0 artifact file(s) and 0 other file(s)"
      ],
      "text/plain": [
       "<IPython.core.display.HTML object>"
      ]
     },
     "metadata": {},
     "output_type": "display_data"
    },
    {
     "data": {
      "text/html": [
       "Find logs at: <code>./wandb/run-20220323_020751-9tefnykl/logs</code>"
      ],
      "text/plain": [
       "<IPython.core.display.HTML object>"
      ]
     },
     "metadata": {},
     "output_type": "display_data"
    },
    {
     "name": "stderr",
     "output_type": "stream",
     "text": [
      "\u001b[34m\u001b[1mwandb\u001b[0m: Agent Starting Run: 1gtvdb7c with config:\n",
      "\u001b[34m\u001b[1mwandb\u001b[0m: \tlearning_rate: 1e-05\n",
      "\u001b[34m\u001b[1mwandb\u001b[0m: \tweight_decay: 0.0001\n",
      "Failed to detect the name of this notebook, you can set it manually with the WANDB_NOTEBOOK_NAME environment variable to enable code saving.\n"
     ]
    },
    {
     "name": "stdout",
     "output_type": "stream",
     "text": [
      "huggingface/tokenizers: The current process just got forked, after parallelism has already been used. Disabling parallelism to avoid deadlocks...\n",
      "To disable this warning, you can either:\n",
      "\t- Avoid using `tokenizers` before the fork if possible\n",
      "\t- Explicitly set the environment variable TOKENIZERS_PARALLELISM=(true | false)\n",
      "huggingface/tokenizers: The current process just got forked, after parallelism has already been used. Disabling parallelism to avoid deadlocks...\n",
      "To disable this warning, you can either:\n",
      "\t- Avoid using `tokenizers` before the fork if possible\n",
      "\t- Explicitly set the environment variable TOKENIZERS_PARALLELISM=(true | false)\n"
     ]
    },
    {
     "data": {
      "text/html": [
       "Tracking run with wandb version 0.12.11"
      ],
      "text/plain": [
       "<IPython.core.display.HTML object>"
      ]
     },
     "metadata": {},
     "output_type": "display_data"
    },
    {
     "data": {
      "text/html": [
       "Run data is saved locally in <code>/home/jbaumert/master-thesis/wandb/run-20220323_044934-1gtvdb7c</code>"
      ],
      "text/plain": [
       "<IPython.core.display.HTML object>"
      ]
     },
     "metadata": {},
     "output_type": "display_data"
    },
    {
     "data": {
      "text/html": [
       "Syncing run <strong><a href=\"https://wandb.ai/jonathanbt/longformer_4096/runs/1gtvdb7c\" target=\"_blank\">golden-sweep-6</a></strong> to <a href=\"https://wandb.ai/jonathanbt/longformer_4096\" target=\"_blank\">Weights & Biases</a> (<a href=\"https://wandb.me/run\" target=\"_blank\">docs</a>)<br/>Sweep page:  <a href=\"https://wandb.ai/jonathanbt/longformer_4096/sweeps/krjdrgjn\" target=\"_blank\">https://wandb.ai/jonathanbt/longformer_4096/sweeps/krjdrgjn</a>"
      ],
      "text/plain": [
       "<IPython.core.display.HTML object>"
      ]
     },
     "metadata": {},
     "output_type": "display_data"
    },
    {
     "name": "stderr",
     "output_type": "stream",
     "text": [
      "Some weights of the model checkpoint at allenai/longformer-base-4096 were not used when initializing LongformerForSequenceClassification: ['lm_head.decoder.weight', 'lm_head.dense.weight', 'lm_head.layer_norm.weight', 'lm_head.dense.bias', 'lm_head.bias', 'lm_head.layer_norm.bias']\n",
      "- This IS expected if you are initializing LongformerForSequenceClassification from the checkpoint of a model trained on another task or with another architecture (e.g. initializing a BertForSequenceClassification model from a BertForPreTraining model).\n",
      "- This IS NOT expected if you are initializing LongformerForSequenceClassification from the checkpoint of a model that you expect to be exactly identical (initializing a BertForSequenceClassification model from a BertForSequenceClassification model).\n",
      "Some weights of LongformerForSequenceClassification were not initialized from the model checkpoint at allenai/longformer-base-4096 and are newly initialized: ['classifier.dense.weight', 'classifier.out_proj.weight', 'classifier.out_proj.bias', 'classifier.dense.bias']\n",
      "You should probably TRAIN this model on a down-stream task to be able to use it for predictions and inference.\n"
     ]
    },
    {
     "name": "stdout",
     "output_type": "stream",
     "text": [
      "\n"
     ]
    },
    {
     "data": {
      "text/html": [
       "Waiting for W&B process to finish... <strong style=\"color:green\">(success).</strong>"
      ],
      "text/plain": [
       "<IPython.core.display.HTML object>"
      ]
     },
     "metadata": {},
     "output_type": "display_data"
    },
    {
     "data": {
      "application/vnd.jupyter.widget-view+json": {
       "model_id": "",
       "version_major": 2,
       "version_minor": 0
      },
      "text/plain": [
       "VBox(children=(Label(value='0.001 MB of 0.001 MB uploaded (0.000 MB deduped)\\r'), FloatProgress(value=1.0, max…"
      ]
     },
     "metadata": {},
     "output_type": "display_data"
    },
    {
     "data": {
      "text/html": [
       "<style>\n",
       "    table.wandb td:nth-child(1) { padding: 0 10px; text-align: right }\n",
       "    .wandb-row { display: flex; flex-direction: row; flex-wrap: wrap; width: 100% }\n",
       "    .wandb-col { display: flex; flex-direction: column; flex-basis: 100%; flex: 1; padding: 10px; }\n",
       "    </style>\n",
       "<div class=\"wandb-row\"><div class=\"wandb-col\"><h3>Run history:</h3><br/><table class=\"wandb\"><tr><td>avg_train_loss</td><td>█▆▅▅▃▃▂▂▁▁</td></tr><tr><td>avg_val_f1</td><td>▁▆▇█▆▇▇███</td></tr><tr><td>avg_val_loss</td><td>█▅▃▁▅▃▃▂▂▂</td></tr><tr><td>epoch</td><td>▁▂▃▃▄▅▆▆▇█</td></tr></table><br/></div><div class=\"wandb-col\"><h3>Run summary:</h3><br/><table class=\"wandb\"><tr><td>avg_train_loss</td><td>0.18237</td></tr><tr><td>avg_val_f1</td><td>0.73738</td></tr><tr><td>avg_val_loss</td><td>0.50156</td></tr><tr><td>epoch</td><td>9</td></tr></table><br/></div></div>"
      ],
      "text/plain": [
       "<IPython.core.display.HTML object>"
      ]
     },
     "metadata": {},
     "output_type": "display_data"
    },
    {
     "data": {
      "text/html": [
       "Synced <strong style=\"color:#cdcd00\">golden-sweep-6</strong>: <a href=\"https://wandb.ai/jonathanbt/longformer_4096/runs/1gtvdb7c\" target=\"_blank\">https://wandb.ai/jonathanbt/longformer_4096/runs/1gtvdb7c</a><br/>Synced 6 W&B file(s), 0 media file(s), 0 artifact file(s) and 0 other file(s)"
      ],
      "text/plain": [
       "<IPython.core.display.HTML object>"
      ]
     },
     "metadata": {},
     "output_type": "display_data"
    },
    {
     "data": {
      "text/html": [
       "Find logs at: <code>./wandb/run-20220323_044934-1gtvdb7c/logs</code>"
      ],
      "text/plain": [
       "<IPython.core.display.HTML object>"
      ]
     },
     "metadata": {},
     "output_type": "display_data"
    },
    {
     "name": "stderr",
     "output_type": "stream",
     "text": [
      "\u001b[34m\u001b[1mwandb\u001b[0m: Agent Starting Run: t4qydh1f with config:\n",
      "\u001b[34m\u001b[1mwandb\u001b[0m: \tlearning_rate: 2e-05\n",
      "\u001b[34m\u001b[1mwandb\u001b[0m: \tweight_decay: 0\n",
      "Failed to detect the name of this notebook, you can set it manually with the WANDB_NOTEBOOK_NAME environment variable to enable code saving.\n"
     ]
    },
    {
     "name": "stdout",
     "output_type": "stream",
     "text": [
      "huggingface/tokenizers: The current process just got forked, after parallelism has already been used. Disabling parallelism to avoid deadlocks...\n",
      "To disable this warning, you can either:\n",
      "\t- Avoid using `tokenizers` before the fork if possible\n",
      "\t- Explicitly set the environment variable TOKENIZERS_PARALLELISM=(true | false)\n",
      "huggingface/tokenizers: The current process just got forked, after parallelism has already been used. Disabling parallelism to avoid deadlocks...\n",
      "To disable this warning, you can either:\n",
      "\t- Avoid using `tokenizers` before the fork if possible\n",
      "\t- Explicitly set the environment variable TOKENIZERS_PARALLELISM=(true | false)\n"
     ]
    },
    {
     "data": {
      "text/html": [
       "Tracking run with wandb version 0.12.11"
      ],
      "text/plain": [
       "<IPython.core.display.HTML object>"
      ]
     },
     "metadata": {},
     "output_type": "display_data"
    },
    {
     "data": {
      "text/html": [
       "Run data is saved locally in <code>/home/jbaumert/master-thesis/wandb/run-20220323_071434-t4qydh1f</code>"
      ],
      "text/plain": [
       "<IPython.core.display.HTML object>"
      ]
     },
     "metadata": {},
     "output_type": "display_data"
    },
    {
     "data": {
      "text/html": [
       "Syncing run <strong><a href=\"https://wandb.ai/jonathanbt/longformer_4096/runs/t4qydh1f\" target=\"_blank\">devout-sweep-7</a></strong> to <a href=\"https://wandb.ai/jonathanbt/longformer_4096\" target=\"_blank\">Weights & Biases</a> (<a href=\"https://wandb.me/run\" target=\"_blank\">docs</a>)<br/>Sweep page:  <a href=\"https://wandb.ai/jonathanbt/longformer_4096/sweeps/krjdrgjn\" target=\"_blank\">https://wandb.ai/jonathanbt/longformer_4096/sweeps/krjdrgjn</a>"
      ],
      "text/plain": [
       "<IPython.core.display.HTML object>"
      ]
     },
     "metadata": {},
     "output_type": "display_data"
    },
    {
     "name": "stderr",
     "output_type": "stream",
     "text": [
      "Some weights of the model checkpoint at allenai/longformer-base-4096 were not used when initializing LongformerForSequenceClassification: ['lm_head.decoder.weight', 'lm_head.dense.weight', 'lm_head.layer_norm.weight', 'lm_head.dense.bias', 'lm_head.bias', 'lm_head.layer_norm.bias']\n",
      "- This IS expected if you are initializing LongformerForSequenceClassification from the checkpoint of a model trained on another task or with another architecture (e.g. initializing a BertForSequenceClassification model from a BertForPreTraining model).\n",
      "- This IS NOT expected if you are initializing LongformerForSequenceClassification from the checkpoint of a model that you expect to be exactly identical (initializing a BertForSequenceClassification model from a BertForSequenceClassification model).\n",
      "Some weights of LongformerForSequenceClassification were not initialized from the model checkpoint at allenai/longformer-base-4096 and are newly initialized: ['classifier.dense.weight', 'classifier.out_proj.weight', 'classifier.out_proj.bias', 'classifier.dense.bias']\n",
      "You should probably TRAIN this model on a down-stream task to be able to use it for predictions and inference.\n"
     ]
    },
    {
     "name": "stdout",
     "output_type": "stream",
     "text": [
      "\n"
     ]
    },
    {
     "data": {
      "text/html": [
       "Waiting for W&B process to finish... <strong style=\"color:green\">(success).</strong>"
      ],
      "text/plain": [
       "<IPython.core.display.HTML object>"
      ]
     },
     "metadata": {},
     "output_type": "display_data"
    },
    {
     "data": {
      "application/vnd.jupyter.widget-view+json": {
       "model_id": "",
       "version_major": 2,
       "version_minor": 0
      },
      "text/plain": [
       "VBox(children=(Label(value='0.001 MB of 0.001 MB uploaded (0.000 MB deduped)\\r'), FloatProgress(value=1.0, max…"
      ]
     },
     "metadata": {},
     "output_type": "display_data"
    },
    {
     "data": {
      "text/html": [
       "<style>\n",
       "    table.wandb td:nth-child(1) { padding: 0 10px; text-align: right }\n",
       "    .wandb-row { display: flex; flex-direction: row; flex-wrap: wrap; width: 100% }\n",
       "    .wandb-col { display: flex; flex-direction: column; flex-basis: 100%; flex: 1; padding: 10px; }\n",
       "    </style>\n",
       "<div class=\"wandb-row\"><div class=\"wandb-col\"><h3>Run history:</h3><br/><table class=\"wandb\"><tr><td>avg_train_loss</td><td>█▆▅▄▃▂▂▁▁▁</td></tr><tr><td>avg_val_f1</td><td>▁▆▆███▇███</td></tr><tr><td>avg_val_loss</td><td>█▄▄▁▁▂▄▂▂▂</td></tr><tr><td>epoch</td><td>▁▂▃▃▄▅▆▆▇█</td></tr></table><br/></div><div class=\"wandb-col\"><h3>Run summary:</h3><br/><table class=\"wandb\"><tr><td>avg_train_loss</td><td>0.11664</td></tr><tr><td>avg_val_f1</td><td>0.77464</td></tr><tr><td>avg_val_loss</td><td>0.48912</td></tr><tr><td>epoch</td><td>9</td></tr></table><br/></div></div>"
      ],
      "text/plain": [
       "<IPython.core.display.HTML object>"
      ]
     },
     "metadata": {},
     "output_type": "display_data"
    },
    {
     "data": {
      "text/html": [
       "Synced <strong style=\"color:#cdcd00\">devout-sweep-7</strong>: <a href=\"https://wandb.ai/jonathanbt/longformer_4096/runs/t4qydh1f\" target=\"_blank\">https://wandb.ai/jonathanbt/longformer_4096/runs/t4qydh1f</a><br/>Synced 6 W&B file(s), 0 media file(s), 0 artifact file(s) and 0 other file(s)"
      ],
      "text/plain": [
       "<IPython.core.display.HTML object>"
      ]
     },
     "metadata": {},
     "output_type": "display_data"
    },
    {
     "data": {
      "text/html": [
       "Find logs at: <code>./wandb/run-20220323_071434-t4qydh1f/logs</code>"
      ],
      "text/plain": [
       "<IPython.core.display.HTML object>"
      ]
     },
     "metadata": {},
     "output_type": "display_data"
    },
    {
     "name": "stderr",
     "output_type": "stream",
     "text": [
      "\u001b[34m\u001b[1mwandb\u001b[0m: Agent Starting Run: 6stu8l6m with config:\n",
      "\u001b[34m\u001b[1mwandb\u001b[0m: \tlearning_rate: 2e-05\n",
      "\u001b[34m\u001b[1mwandb\u001b[0m: \tweight_decay: 0.01\n",
      "Failed to detect the name of this notebook, you can set it manually with the WANDB_NOTEBOOK_NAME environment variable to enable code saving.\n"
     ]
    },
    {
     "name": "stdout",
     "output_type": "stream",
     "text": [
      "huggingface/tokenizers: The current process just got forked, after parallelism has already been used. Disabling parallelism to avoid deadlocks...\n",
      "To disable this warning, you can either:\n",
      "\t- Avoid using `tokenizers` before the fork if possible\n",
      "\t- Explicitly set the environment variable TOKENIZERS_PARALLELISM=(true | false)\n",
      "huggingface/tokenizers: The current process just got forked, after parallelism has already been used. Disabling parallelism to avoid deadlocks...\n",
      "To disable this warning, you can either:\n",
      "\t- Avoid using `tokenizers` before the fork if possible\n",
      "\t- Explicitly set the environment variable TOKENIZERS_PARALLELISM=(true | false)\n"
     ]
    },
    {
     "data": {
      "text/html": [
       "Tracking run with wandb version 0.12.11"
      ],
      "text/plain": [
       "<IPython.core.display.HTML object>"
      ]
     },
     "metadata": {},
     "output_type": "display_data"
    },
    {
     "data": {
      "text/html": [
       "Run data is saved locally in <code>/home/jbaumert/master-thesis/wandb/run-20220323_093241-6stu8l6m</code>"
      ],
      "text/plain": [
       "<IPython.core.display.HTML object>"
      ]
     },
     "metadata": {},
     "output_type": "display_data"
    },
    {
     "data": {
      "text/html": [
       "Syncing run <strong><a href=\"https://wandb.ai/jonathanbt/longformer_4096/runs/6stu8l6m\" target=\"_blank\">swift-sweep-8</a></strong> to <a href=\"https://wandb.ai/jonathanbt/longformer_4096\" target=\"_blank\">Weights & Biases</a> (<a href=\"https://wandb.me/run\" target=\"_blank\">docs</a>)<br/>Sweep page:  <a href=\"https://wandb.ai/jonathanbt/longformer_4096/sweeps/krjdrgjn\" target=\"_blank\">https://wandb.ai/jonathanbt/longformer_4096/sweeps/krjdrgjn</a>"
      ],
      "text/plain": [
       "<IPython.core.display.HTML object>"
      ]
     },
     "metadata": {},
     "output_type": "display_data"
    },
    {
     "name": "stderr",
     "output_type": "stream",
     "text": [
      "Some weights of the model checkpoint at allenai/longformer-base-4096 were not used when initializing LongformerForSequenceClassification: ['lm_head.decoder.weight', 'lm_head.dense.weight', 'lm_head.layer_norm.weight', 'lm_head.dense.bias', 'lm_head.bias', 'lm_head.layer_norm.bias']\n",
      "- This IS expected if you are initializing LongformerForSequenceClassification from the checkpoint of a model trained on another task or with another architecture (e.g. initializing a BertForSequenceClassification model from a BertForPreTraining model).\n",
      "- This IS NOT expected if you are initializing LongformerForSequenceClassification from the checkpoint of a model that you expect to be exactly identical (initializing a BertForSequenceClassification model from a BertForSequenceClassification model).\n",
      "Some weights of LongformerForSequenceClassification were not initialized from the model checkpoint at allenai/longformer-base-4096 and are newly initialized: ['classifier.dense.weight', 'classifier.out_proj.weight', 'classifier.out_proj.bias', 'classifier.dense.bias']\n",
      "You should probably TRAIN this model on a down-stream task to be able to use it for predictions and inference.\n"
     ]
    },
    {
     "name": "stdout",
     "output_type": "stream",
     "text": [
      "\n"
     ]
    },
    {
     "data": {
      "text/html": [
       "Waiting for W&B process to finish... <strong style=\"color:green\">(success).</strong>"
      ],
      "text/plain": [
       "<IPython.core.display.HTML object>"
      ]
     },
     "metadata": {},
     "output_type": "display_data"
    },
    {
     "data": {
      "application/vnd.jupyter.widget-view+json": {
       "model_id": "",
       "version_major": 2,
       "version_minor": 0
      },
      "text/plain": [
       "VBox(children=(Label(value='0.001 MB of 0.001 MB uploaded (0.000 MB deduped)\\r'), FloatProgress(value=1.0, max…"
      ]
     },
     "metadata": {},
     "output_type": "display_data"
    },
    {
     "data": {
      "text/html": [
       "<style>\n",
       "    table.wandb td:nth-child(1) { padding: 0 10px; text-align: right }\n",
       "    .wandb-row { display: flex; flex-direction: row; flex-wrap: wrap; width: 100% }\n",
       "    .wandb-col { display: flex; flex-direction: column; flex-basis: 100%; flex: 1; padding: 10px; }\n",
       "    </style>\n",
       "<div class=\"wandb-row\"><div class=\"wandb-col\"><h3>Run history:</h3><br/><table class=\"wandb\"><tr><td>avg_train_loss</td><td>█▅▃▂▃▂▂▂▁▁</td></tr><tr><td>avg_val_f1</td><td>▂▄▁▂▅▁█▆▅▆</td></tr><tr><td>avg_val_loss</td><td>█▆▁▂▅▃▁▁▁▁</td></tr><tr><td>epoch</td><td>▁▂▃▃▄▅▆▆▇█</td></tr></table><br/></div><div class=\"wandb-col\"><h3>Run summary:</h3><br/><table class=\"wandb\"><tr><td>avg_train_loss</td><td>0.47257</td></tr><tr><td>avg_val_f1</td><td>0.63873</td></tr><tr><td>avg_val_loss</td><td>0.58847</td></tr><tr><td>epoch</td><td>9</td></tr></table><br/></div></div>"
      ],
      "text/plain": [
       "<IPython.core.display.HTML object>"
      ]
     },
     "metadata": {},
     "output_type": "display_data"
    },
    {
     "data": {
      "text/html": [
       "Synced <strong style=\"color:#cdcd00\">swift-sweep-8</strong>: <a href=\"https://wandb.ai/jonathanbt/longformer_4096/runs/6stu8l6m\" target=\"_blank\">https://wandb.ai/jonathanbt/longformer_4096/runs/6stu8l6m</a><br/>Synced 6 W&B file(s), 0 media file(s), 0 artifact file(s) and 0 other file(s)"
      ],
      "text/plain": [
       "<IPython.core.display.HTML object>"
      ]
     },
     "metadata": {},
     "output_type": "display_data"
    },
    {
     "data": {
      "text/html": [
       "Find logs at: <code>./wandb/run-20220323_093241-6stu8l6m/logs</code>"
      ],
      "text/plain": [
       "<IPython.core.display.HTML object>"
      ]
     },
     "metadata": {},
     "output_type": "display_data"
    },
    {
     "name": "stderr",
     "output_type": "stream",
     "text": [
      "\u001b[34m\u001b[1mwandb\u001b[0m: Agent Starting Run: lunkf3q8 with config:\n",
      "\u001b[34m\u001b[1mwandb\u001b[0m: \tlearning_rate: 2e-05\n",
      "\u001b[34m\u001b[1mwandb\u001b[0m: \tweight_decay: 0.0001\n",
      "Failed to detect the name of this notebook, you can set it manually with the WANDB_NOTEBOOK_NAME environment variable to enable code saving.\n"
     ]
    },
    {
     "name": "stdout",
     "output_type": "stream",
     "text": [
      "huggingface/tokenizers: The current process just got forked, after parallelism has already been used. Disabling parallelism to avoid deadlocks...\n",
      "To disable this warning, you can either:\n",
      "\t- Avoid using `tokenizers` before the fork if possible\n",
      "\t- Explicitly set the environment variable TOKENIZERS_PARALLELISM=(true | false)\n",
      "huggingface/tokenizers: The current process just got forked, after parallelism has already been used. Disabling parallelism to avoid deadlocks...\n",
      "To disable this warning, you can either:\n",
      "\t- Avoid using `tokenizers` before the fork if possible\n",
      "\t- Explicitly set the environment variable TOKENIZERS_PARALLELISM=(true | false)\n"
     ]
    },
    {
     "data": {
      "text/html": [
       "Tracking run with wandb version 0.12.11"
      ],
      "text/plain": [
       "<IPython.core.display.HTML object>"
      ]
     },
     "metadata": {},
     "output_type": "display_data"
    },
    {
     "data": {
      "text/html": [
       "Run data is saved locally in <code>/home/jbaumert/master-thesis/wandb/run-20220323_115038-lunkf3q8</code>"
      ],
      "text/plain": [
       "<IPython.core.display.HTML object>"
      ]
     },
     "metadata": {},
     "output_type": "display_data"
    },
    {
     "data": {
      "text/html": [
       "Syncing run <strong><a href=\"https://wandb.ai/jonathanbt/longformer_4096/runs/lunkf3q8\" target=\"_blank\">scarlet-sweep-9</a></strong> to <a href=\"https://wandb.ai/jonathanbt/longformer_4096\" target=\"_blank\">Weights & Biases</a> (<a href=\"https://wandb.me/run\" target=\"_blank\">docs</a>)<br/>Sweep page:  <a href=\"https://wandb.ai/jonathanbt/longformer_4096/sweeps/krjdrgjn\" target=\"_blank\">https://wandb.ai/jonathanbt/longformer_4096/sweeps/krjdrgjn</a>"
      ],
      "text/plain": [
       "<IPython.core.display.HTML object>"
      ]
     },
     "metadata": {},
     "output_type": "display_data"
    },
    {
     "name": "stderr",
     "output_type": "stream",
     "text": [
      "Some weights of the model checkpoint at allenai/longformer-base-4096 were not used when initializing LongformerForSequenceClassification: ['lm_head.decoder.weight', 'lm_head.dense.weight', 'lm_head.layer_norm.weight', 'lm_head.dense.bias', 'lm_head.bias', 'lm_head.layer_norm.bias']\n",
      "- This IS expected if you are initializing LongformerForSequenceClassification from the checkpoint of a model trained on another task or with another architecture (e.g. initializing a BertForSequenceClassification model from a BertForPreTraining model).\n",
      "- This IS NOT expected if you are initializing LongformerForSequenceClassification from the checkpoint of a model that you expect to be exactly identical (initializing a BertForSequenceClassification model from a BertForSequenceClassification model).\n",
      "Some weights of LongformerForSequenceClassification were not initialized from the model checkpoint at allenai/longformer-base-4096 and are newly initialized: ['classifier.dense.weight', 'classifier.out_proj.weight', 'classifier.out_proj.bias', 'classifier.dense.bias']\n",
      "You should probably TRAIN this model on a down-stream task to be able to use it for predictions and inference.\n"
     ]
    },
    {
     "name": "stdout",
     "output_type": "stream",
     "text": [
      "\n"
     ]
    },
    {
     "data": {
      "text/html": [
       "Waiting for W&B process to finish... <strong style=\"color:green\">(success).</strong>"
      ],
      "text/plain": [
       "<IPython.core.display.HTML object>"
      ]
     },
     "metadata": {},
     "output_type": "display_data"
    },
    {
     "data": {
      "application/vnd.jupyter.widget-view+json": {
       "model_id": "",
       "version_major": 2,
       "version_minor": 0
      },
      "text/plain": [
       "VBox(children=(Label(value='0.001 MB of 0.001 MB uploaded (0.000 MB deduped)\\r'), FloatProgress(value=1.0, max…"
      ]
     },
     "metadata": {},
     "output_type": "display_data"
    },
    {
     "data": {
      "text/html": [
       "<style>\n",
       "    table.wandb td:nth-child(1) { padding: 0 10px; text-align: right }\n",
       "    .wandb-row { display: flex; flex-direction: row; flex-wrap: wrap; width: 100% }\n",
       "    .wandb-col { display: flex; flex-direction: column; flex-basis: 100%; flex: 1; padding: 10px; }\n",
       "    </style>\n",
       "<div class=\"wandb-row\"><div class=\"wandb-col\"><h3>Run history:</h3><br/><table class=\"wandb\"><tr><td>avg_train_loss</td><td>█▇▅▄▃▃▂▂▁▁</td></tr><tr><td>avg_val_f1</td><td>▁▅▅▂▅▆█▇▇█</td></tr><tr><td>avg_val_loss</td><td>█▄▃▇▃▃▁▃▃▂</td></tr><tr><td>epoch</td><td>▁▂▃▃▄▅▆▆▇█</td></tr></table><br/></div><div class=\"wandb-col\"><h3>Run summary:</h3><br/><table class=\"wandb\"><tr><td>avg_train_loss</td><td>0.12567</td></tr><tr><td>avg_val_f1</td><td>0.7709</td></tr><tr><td>avg_val_loss</td><td>0.48544</td></tr><tr><td>epoch</td><td>9</td></tr></table><br/></div></div>"
      ],
      "text/plain": [
       "<IPython.core.display.HTML object>"
      ]
     },
     "metadata": {},
     "output_type": "display_data"
    },
    {
     "data": {
      "text/html": [
       "Synced <strong style=\"color:#cdcd00\">scarlet-sweep-9</strong>: <a href=\"https://wandb.ai/jonathanbt/longformer_4096/runs/lunkf3q8\" target=\"_blank\">https://wandb.ai/jonathanbt/longformer_4096/runs/lunkf3q8</a><br/>Synced 6 W&B file(s), 0 media file(s), 0 artifact file(s) and 0 other file(s)"
      ],
      "text/plain": [
       "<IPython.core.display.HTML object>"
      ]
     },
     "metadata": {},
     "output_type": "display_data"
    },
    {
     "data": {
      "text/html": [
       "Find logs at: <code>./wandb/run-20220323_115038-lunkf3q8/logs</code>"
      ],
      "text/plain": [
       "<IPython.core.display.HTML object>"
      ]
     },
     "metadata": {},
     "output_type": "display_data"
    },
    {
     "name": "stderr",
     "output_type": "stream",
     "text": [
      "\u001b[34m\u001b[1mwandb\u001b[0m: Agent Starting Run: u0ow4cla with config:\n",
      "\u001b[34m\u001b[1mwandb\u001b[0m: \tlearning_rate: 3e-05\n",
      "\u001b[34m\u001b[1mwandb\u001b[0m: \tweight_decay: 0\n",
      "Failed to detect the name of this notebook, you can set it manually with the WANDB_NOTEBOOK_NAME environment variable to enable code saving.\n"
     ]
    },
    {
     "name": "stdout",
     "output_type": "stream",
     "text": [
      "huggingface/tokenizers: The current process just got forked, after parallelism has already been used. Disabling parallelism to avoid deadlocks...\n",
      "To disable this warning, you can either:\n",
      "\t- Avoid using `tokenizers` before the fork if possible\n",
      "\t- Explicitly set the environment variable TOKENIZERS_PARALLELISM=(true | false)\n",
      "huggingface/tokenizers: The current process just got forked, after parallelism has already been used. Disabling parallelism to avoid deadlocks...\n",
      "To disable this warning, you can either:\n",
      "\t- Avoid using `tokenizers` before the fork if possible\n",
      "\t- Explicitly set the environment variable TOKENIZERS_PARALLELISM=(true | false)\n"
     ]
    },
    {
     "data": {
      "text/html": [
       "Tracking run with wandb version 0.12.11"
      ],
      "text/plain": [
       "<IPython.core.display.HTML object>"
      ]
     },
     "metadata": {},
     "output_type": "display_data"
    },
    {
     "data": {
      "text/html": [
       "Run data is saved locally in <code>/home/jbaumert/master-thesis/wandb/run-20220323_161009-u0ow4cla</code>"
      ],
      "text/plain": [
       "<IPython.core.display.HTML object>"
      ]
     },
     "metadata": {},
     "output_type": "display_data"
    },
    {
     "data": {
      "text/html": [
       "Syncing run <strong><a href=\"https://wandb.ai/jonathanbt/longformer_4096/runs/u0ow4cla\" target=\"_blank\">vital-sweep-10</a></strong> to <a href=\"https://wandb.ai/jonathanbt/longformer_4096\" target=\"_blank\">Weights & Biases</a> (<a href=\"https://wandb.me/run\" target=\"_blank\">docs</a>)<br/>Sweep page:  <a href=\"https://wandb.ai/jonathanbt/longformer_4096/sweeps/krjdrgjn\" target=\"_blank\">https://wandb.ai/jonathanbt/longformer_4096/sweeps/krjdrgjn</a>"
      ],
      "text/plain": [
       "<IPython.core.display.HTML object>"
      ]
     },
     "metadata": {},
     "output_type": "display_data"
    },
    {
     "name": "stderr",
     "output_type": "stream",
     "text": [
      "Some weights of the model checkpoint at allenai/longformer-base-4096 were not used when initializing LongformerForSequenceClassification: ['lm_head.decoder.weight', 'lm_head.dense.weight', 'lm_head.layer_norm.weight', 'lm_head.dense.bias', 'lm_head.bias', 'lm_head.layer_norm.bias']\n",
      "- This IS expected if you are initializing LongformerForSequenceClassification from the checkpoint of a model trained on another task or with another architecture (e.g. initializing a BertForSequenceClassification model from a BertForPreTraining model).\n",
      "- This IS NOT expected if you are initializing LongformerForSequenceClassification from the checkpoint of a model that you expect to be exactly identical (initializing a BertForSequenceClassification model from a BertForSequenceClassification model).\n",
      "Some weights of LongformerForSequenceClassification were not initialized from the model checkpoint at allenai/longformer-base-4096 and are newly initialized: ['classifier.dense.weight', 'classifier.out_proj.weight', 'classifier.out_proj.bias', 'classifier.dense.bias']\n",
      "You should probably TRAIN this model on a down-stream task to be able to use it for predictions and inference.\n"
     ]
    },
    {
     "name": "stdout",
     "output_type": "stream",
     "text": [
      "\n"
     ]
    },
    {
     "data": {
      "text/html": [
       "Waiting for W&B process to finish... <strong style=\"color:green\">(success).</strong>"
      ],
      "text/plain": [
       "<IPython.core.display.HTML object>"
      ]
     },
     "metadata": {},
     "output_type": "display_data"
    },
    {
     "data": {
      "application/vnd.jupyter.widget-view+json": {
       "model_id": "",
       "version_major": 2,
       "version_minor": 0
      },
      "text/plain": [
       "VBox(children=(Label(value='0.001 MB of 0.001 MB uploaded (0.000 MB deduped)\\r'), FloatProgress(value=1.0, max…"
      ]
     },
     "metadata": {},
     "output_type": "display_data"
    },
    {
     "data": {
      "text/html": [
       "<style>\n",
       "    table.wandb td:nth-child(1) { padding: 0 10px; text-align: right }\n",
       "    .wandb-row { display: flex; flex-direction: row; flex-wrap: wrap; width: 100% }\n",
       "    .wandb-col { display: flex; flex-direction: column; flex-basis: 100%; flex: 1; padding: 10px; }\n",
       "    </style>\n",
       "<div class=\"wandb-row\"><div class=\"wandb-col\"><h3>Run history:</h3><br/><table class=\"wandb\"><tr><td>avg_train_loss</td><td>█▇▅▄▃▂▂▁▁▁</td></tr><tr><td>avg_val_f1</td><td>▁▃▆▆█▇████</td></tr><tr><td>avg_val_loss</td><td>█▄▂▃▁▂▁▂▂▂</td></tr><tr><td>epoch</td><td>▁▂▃▃▄▅▆▆▇█</td></tr></table><br/></div><div class=\"wandb-col\"><h3>Run summary:</h3><br/><table class=\"wandb\"><tr><td>avg_train_loss</td><td>0.09475</td></tr><tr><td>avg_val_f1</td><td>0.79735</td></tr><tr><td>avg_val_loss</td><td>0.47034</td></tr><tr><td>epoch</td><td>9</td></tr></table><br/></div></div>"
      ],
      "text/plain": [
       "<IPython.core.display.HTML object>"
      ]
     },
     "metadata": {},
     "output_type": "display_data"
    },
    {
     "data": {
      "text/html": [
       "Synced <strong style=\"color:#cdcd00\">vital-sweep-10</strong>: <a href=\"https://wandb.ai/jonathanbt/longformer_4096/runs/u0ow4cla\" target=\"_blank\">https://wandb.ai/jonathanbt/longformer_4096/runs/u0ow4cla</a><br/>Synced 6 W&B file(s), 0 media file(s), 0 artifact file(s) and 0 other file(s)"
      ],
      "text/plain": [
       "<IPython.core.display.HTML object>"
      ]
     },
     "metadata": {},
     "output_type": "display_data"
    },
    {
     "data": {
      "text/html": [
       "Find logs at: <code>./wandb/run-20220323_161009-u0ow4cla/logs</code>"
      ],
      "text/plain": [
       "<IPython.core.display.HTML object>"
      ]
     },
     "metadata": {},
     "output_type": "display_data"
    },
    {
     "name": "stderr",
     "output_type": "stream",
     "text": [
      "\u001b[34m\u001b[1mwandb\u001b[0m: Sweep Agent: Waiting for job.\n",
      "\u001b[34m\u001b[1mwandb\u001b[0m: Job received.\n",
      "\u001b[34m\u001b[1mwandb\u001b[0m: Agent Starting Run: 2fhfitxv with config:\n",
      "\u001b[34m\u001b[1mwandb\u001b[0m: \tlearning_rate: 3e-05\n",
      "\u001b[34m\u001b[1mwandb\u001b[0m: \tweight_decay: 0.01\n",
      "Failed to detect the name of this notebook, you can set it manually with the WANDB_NOTEBOOK_NAME environment variable to enable code saving.\n"
     ]
    },
    {
     "name": "stdout",
     "output_type": "stream",
     "text": [
      "huggingface/tokenizers: The current process just got forked, after parallelism has already been used. Disabling parallelism to avoid deadlocks...\n",
      "To disable this warning, you can either:\n",
      "\t- Avoid using `tokenizers` before the fork if possible\n",
      "\t- Explicitly set the environment variable TOKENIZERS_PARALLELISM=(true | false)\n",
      "huggingface/tokenizers: The current process just got forked, after parallelism has already been used. Disabling parallelism to avoid deadlocks...\n",
      "To disable this warning, you can either:\n",
      "\t- Avoid using `tokenizers` before the fork if possible\n",
      "\t- Explicitly set the environment variable TOKENIZERS_PARALLELISM=(true | false)\n"
     ]
    },
    {
     "data": {
      "text/html": [
       "Tracking run with wandb version 0.12.11"
      ],
      "text/plain": [
       "<IPython.core.display.HTML object>"
      ]
     },
     "metadata": {},
     "output_type": "display_data"
    },
    {
     "data": {
      "text/html": [
       "Run data is saved locally in <code>/home/jbaumert/master-thesis/wandb/run-20220323_203920-2fhfitxv</code>"
      ],
      "text/plain": [
       "<IPython.core.display.HTML object>"
      ]
     },
     "metadata": {},
     "output_type": "display_data"
    },
    {
     "data": {
      "text/html": [
       "Syncing run <strong><a href=\"https://wandb.ai/jonathanbt/longformer_4096/runs/2fhfitxv\" target=\"_blank\">summer-sweep-11</a></strong> to <a href=\"https://wandb.ai/jonathanbt/longformer_4096\" target=\"_blank\">Weights & Biases</a> (<a href=\"https://wandb.me/run\" target=\"_blank\">docs</a>)<br/>Sweep page:  <a href=\"https://wandb.ai/jonathanbt/longformer_4096/sweeps/krjdrgjn\" target=\"_blank\">https://wandb.ai/jonathanbt/longformer_4096/sweeps/krjdrgjn</a>"
      ],
      "text/plain": [
       "<IPython.core.display.HTML object>"
      ]
     },
     "metadata": {},
     "output_type": "display_data"
    },
    {
     "name": "stderr",
     "output_type": "stream",
     "text": [
      "Some weights of the model checkpoint at allenai/longformer-base-4096 were not used when initializing LongformerForSequenceClassification: ['lm_head.decoder.weight', 'lm_head.dense.weight', 'lm_head.layer_norm.weight', 'lm_head.dense.bias', 'lm_head.bias', 'lm_head.layer_norm.bias']\n",
      "- This IS expected if you are initializing LongformerForSequenceClassification from the checkpoint of a model trained on another task or with another architecture (e.g. initializing a BertForSequenceClassification model from a BertForPreTraining model).\n",
      "- This IS NOT expected if you are initializing LongformerForSequenceClassification from the checkpoint of a model that you expect to be exactly identical (initializing a BertForSequenceClassification model from a BertForSequenceClassification model).\n",
      "Some weights of LongformerForSequenceClassification were not initialized from the model checkpoint at allenai/longformer-base-4096 and are newly initialized: ['classifier.dense.weight', 'classifier.out_proj.weight', 'classifier.out_proj.bias', 'classifier.dense.bias']\n",
      "You should probably TRAIN this model on a down-stream task to be able to use it for predictions and inference.\n"
     ]
    }
   ],
   "source": [
    "# Train\n",
    "def train(config=None):\n",
    "    \n",
    "    # Initialize a new wandb run\n",
    "    with wandb.init(config=config):\n",
    "        \n",
    "        # Set parameters to test\n",
    "        config = wandb.config\n",
    "        \n",
    "        # Load model\n",
    "        model = LongformerForSequenceClassification.from_pretrained(\"allenai/longformer-base-4096\", problem_type=\"multi_label_classification\", num_labels=13)\n",
    "        model = DataParallel(model)\n",
    "        model.to(device)\n",
    "        \n",
    "        # Use BCEWithLogitsLoss instead of CrossEntropyLoss\n",
    "        pos_weight = calculate_pos_weights(Y_train)\n",
    "        loss_fct_train = BCEWithLogitsLoss(pos_weight=pos_weight.to(device))\n",
    "        loss_fct_val = BCEWithLogitsLoss()\n",
    "\n",
    "        # Create the optimizer\n",
    "        optimizer = RAdam(model.parameters(), lr=config.learning_rate, weight_decay=config.weight_decay)\n",
    "        \n",
    "        # Create the learning rate scheduler (linear decreasing lr without warmup)\n",
    "        scheduler = get_linear_schedule_with_warmup(optimizer, \n",
    "                                            num_warmup_steps = 0, \n",
    "                                            num_training_steps = len(train_dataloader) * epochs)\n",
    "        \n",
    "        # Train and store metrics\n",
    "        for epoch in range(epochs):\n",
    "            avg_train_loss, avg_val_loss, avg_val_f1 = train_epoch(model, optimizer, scheduler, train_dataloader, val_dataloader, loss_fct_train, loss_fct_val, device)\n",
    "            wandb.log({\"avg_train_loss\": avg_train_loss, \"avg_val_loss\": avg_val_loss, \"avg_val_f1\": avg_val_f1, \"epoch\": epoch})    \n",
    "\n",
    "wandb.agent(sweep_id, train)"
   ]
  },
  {
   "cell_type": "code",
   "execution_count": 40,
   "metadata": {
    "scrolled": true
   },
   "outputs": [
    {
     "name": "stdout",
     "output_type": "stream",
     "text": [
      "Best run: vital-sweep-10 with 0.797350056246095 validation f1 score\n",
      "Best parameters: {'weight_decay': 0, 'learning_rate': 3e-05}\n"
     ]
    }
   ],
   "source": [
    "api = wandb.Api()\n",
    "sweep = api.sweep(\"jonathanbt/longformer_4096/krjdrgjn\")\n",
    "runs = sorted(sweep.runs, key=lambda run: run.summary.get(\"avg_val_f1\", 0), reverse=True)\n",
    "val_f1 = runs[0].summary.get(\"avg_val_f1\", 0)\n",
    "print(f\"Best run: {runs[0].name} with {val_f1} validation f1 score\")\n",
    "print('Best parameters: ' + str(runs[0].config))"
   ]
  },
  {
   "cell_type": "markdown",
   "metadata": {},
   "source": [
    "## 3. Retrain best model"
   ]
  },
  {
   "cell_type": "code",
   "execution_count": 21,
   "metadata": {},
   "outputs": [
    {
     "name": "stderr",
     "output_type": "stream",
     "text": [
      "Some weights of the model checkpoint at allenai/longformer-base-4096 were not used when initializing LongformerForSequenceClassification: ['lm_head.dense.weight', 'lm_head.decoder.weight', 'lm_head.bias', 'lm_head.layer_norm.weight', 'lm_head.dense.bias', 'lm_head.layer_norm.bias']\n",
      "- This IS expected if you are initializing LongformerForSequenceClassification from the checkpoint of a model trained on another task or with another architecture (e.g. initializing a BertForSequenceClassification model from a BertForPreTraining model).\n",
      "- This IS NOT expected if you are initializing LongformerForSequenceClassification from the checkpoint of a model that you expect to be exactly identical (initializing a BertForSequenceClassification model from a BertForSequenceClassification model).\n",
      "Some weights of LongformerForSequenceClassification were not initialized from the model checkpoint at allenai/longformer-base-4096 and are newly initialized: ['classifier.dense.bias', 'classifier.out_proj.bias', 'classifier.out_proj.weight', 'classifier.dense.weight']\n",
      "You should probably TRAIN this model on a down-stream task to be able to use it for predictions and inference.\n"
     ]
    },
    {
     "data": {
      "text/plain": [
       "DataParallel(\n",
       "  (module): LongformerForSequenceClassification(\n",
       "    (longformer): LongformerModel(\n",
       "      (embeddings): LongformerEmbeddings(\n",
       "        (word_embeddings): Embedding(50265, 768, padding_idx=1)\n",
       "        (position_embeddings): Embedding(4098, 768, padding_idx=1)\n",
       "        (token_type_embeddings): Embedding(1, 768)\n",
       "        (LayerNorm): LayerNorm((768,), eps=1e-05, elementwise_affine=True)\n",
       "        (dropout): Dropout(p=0.1, inplace=False)\n",
       "      )\n",
       "      (encoder): LongformerEncoder(\n",
       "        (layer): ModuleList(\n",
       "          (0): LongformerLayer(\n",
       "            (attention): LongformerAttention(\n",
       "              (self): LongformerSelfAttention(\n",
       "                (query): Linear(in_features=768, out_features=768, bias=True)\n",
       "                (key): Linear(in_features=768, out_features=768, bias=True)\n",
       "                (value): Linear(in_features=768, out_features=768, bias=True)\n",
       "                (query_global): Linear(in_features=768, out_features=768, bias=True)\n",
       "                (key_global): Linear(in_features=768, out_features=768, bias=True)\n",
       "                (value_global): Linear(in_features=768, out_features=768, bias=True)\n",
       "              )\n",
       "              (output): LongformerSelfOutput(\n",
       "                (dense): Linear(in_features=768, out_features=768, bias=True)\n",
       "                (LayerNorm): LayerNorm((768,), eps=1e-05, elementwise_affine=True)\n",
       "                (dropout): Dropout(p=0.1, inplace=False)\n",
       "              )\n",
       "            )\n",
       "            (intermediate): LongformerIntermediate(\n",
       "              (dense): Linear(in_features=768, out_features=3072, bias=True)\n",
       "              (intermediate_act_fn): GELUActivation()\n",
       "            )\n",
       "            (output): LongformerOutput(\n",
       "              (dense): Linear(in_features=3072, out_features=768, bias=True)\n",
       "              (LayerNorm): LayerNorm((768,), eps=1e-05, elementwise_affine=True)\n",
       "              (dropout): Dropout(p=0.1, inplace=False)\n",
       "            )\n",
       "          )\n",
       "          (1): LongformerLayer(\n",
       "            (attention): LongformerAttention(\n",
       "              (self): LongformerSelfAttention(\n",
       "                (query): Linear(in_features=768, out_features=768, bias=True)\n",
       "                (key): Linear(in_features=768, out_features=768, bias=True)\n",
       "                (value): Linear(in_features=768, out_features=768, bias=True)\n",
       "                (query_global): Linear(in_features=768, out_features=768, bias=True)\n",
       "                (key_global): Linear(in_features=768, out_features=768, bias=True)\n",
       "                (value_global): Linear(in_features=768, out_features=768, bias=True)\n",
       "              )\n",
       "              (output): LongformerSelfOutput(\n",
       "                (dense): Linear(in_features=768, out_features=768, bias=True)\n",
       "                (LayerNorm): LayerNorm((768,), eps=1e-05, elementwise_affine=True)\n",
       "                (dropout): Dropout(p=0.1, inplace=False)\n",
       "              )\n",
       "            )\n",
       "            (intermediate): LongformerIntermediate(\n",
       "              (dense): Linear(in_features=768, out_features=3072, bias=True)\n",
       "              (intermediate_act_fn): GELUActivation()\n",
       "            )\n",
       "            (output): LongformerOutput(\n",
       "              (dense): Linear(in_features=3072, out_features=768, bias=True)\n",
       "              (LayerNorm): LayerNorm((768,), eps=1e-05, elementwise_affine=True)\n",
       "              (dropout): Dropout(p=0.1, inplace=False)\n",
       "            )\n",
       "          )\n",
       "          (2): LongformerLayer(\n",
       "            (attention): LongformerAttention(\n",
       "              (self): LongformerSelfAttention(\n",
       "                (query): Linear(in_features=768, out_features=768, bias=True)\n",
       "                (key): Linear(in_features=768, out_features=768, bias=True)\n",
       "                (value): Linear(in_features=768, out_features=768, bias=True)\n",
       "                (query_global): Linear(in_features=768, out_features=768, bias=True)\n",
       "                (key_global): Linear(in_features=768, out_features=768, bias=True)\n",
       "                (value_global): Linear(in_features=768, out_features=768, bias=True)\n",
       "              )\n",
       "              (output): LongformerSelfOutput(\n",
       "                (dense): Linear(in_features=768, out_features=768, bias=True)\n",
       "                (LayerNorm): LayerNorm((768,), eps=1e-05, elementwise_affine=True)\n",
       "                (dropout): Dropout(p=0.1, inplace=False)\n",
       "              )\n",
       "            )\n",
       "            (intermediate): LongformerIntermediate(\n",
       "              (dense): Linear(in_features=768, out_features=3072, bias=True)\n",
       "              (intermediate_act_fn): GELUActivation()\n",
       "            )\n",
       "            (output): LongformerOutput(\n",
       "              (dense): Linear(in_features=3072, out_features=768, bias=True)\n",
       "              (LayerNorm): LayerNorm((768,), eps=1e-05, elementwise_affine=True)\n",
       "              (dropout): Dropout(p=0.1, inplace=False)\n",
       "            )\n",
       "          )\n",
       "          (3): LongformerLayer(\n",
       "            (attention): LongformerAttention(\n",
       "              (self): LongformerSelfAttention(\n",
       "                (query): Linear(in_features=768, out_features=768, bias=True)\n",
       "                (key): Linear(in_features=768, out_features=768, bias=True)\n",
       "                (value): Linear(in_features=768, out_features=768, bias=True)\n",
       "                (query_global): Linear(in_features=768, out_features=768, bias=True)\n",
       "                (key_global): Linear(in_features=768, out_features=768, bias=True)\n",
       "                (value_global): Linear(in_features=768, out_features=768, bias=True)\n",
       "              )\n",
       "              (output): LongformerSelfOutput(\n",
       "                (dense): Linear(in_features=768, out_features=768, bias=True)\n",
       "                (LayerNorm): LayerNorm((768,), eps=1e-05, elementwise_affine=True)\n",
       "                (dropout): Dropout(p=0.1, inplace=False)\n",
       "              )\n",
       "            )\n",
       "            (intermediate): LongformerIntermediate(\n",
       "              (dense): Linear(in_features=768, out_features=3072, bias=True)\n",
       "              (intermediate_act_fn): GELUActivation()\n",
       "            )\n",
       "            (output): LongformerOutput(\n",
       "              (dense): Linear(in_features=3072, out_features=768, bias=True)\n",
       "              (LayerNorm): LayerNorm((768,), eps=1e-05, elementwise_affine=True)\n",
       "              (dropout): Dropout(p=0.1, inplace=False)\n",
       "            )\n",
       "          )\n",
       "          (4): LongformerLayer(\n",
       "            (attention): LongformerAttention(\n",
       "              (self): LongformerSelfAttention(\n",
       "                (query): Linear(in_features=768, out_features=768, bias=True)\n",
       "                (key): Linear(in_features=768, out_features=768, bias=True)\n",
       "                (value): Linear(in_features=768, out_features=768, bias=True)\n",
       "                (query_global): Linear(in_features=768, out_features=768, bias=True)\n",
       "                (key_global): Linear(in_features=768, out_features=768, bias=True)\n",
       "                (value_global): Linear(in_features=768, out_features=768, bias=True)\n",
       "              )\n",
       "              (output): LongformerSelfOutput(\n",
       "                (dense): Linear(in_features=768, out_features=768, bias=True)\n",
       "                (LayerNorm): LayerNorm((768,), eps=1e-05, elementwise_affine=True)\n",
       "                (dropout): Dropout(p=0.1, inplace=False)\n",
       "              )\n",
       "            )\n",
       "            (intermediate): LongformerIntermediate(\n",
       "              (dense): Linear(in_features=768, out_features=3072, bias=True)\n",
       "              (intermediate_act_fn): GELUActivation()\n",
       "            )\n",
       "            (output): LongformerOutput(\n",
       "              (dense): Linear(in_features=3072, out_features=768, bias=True)\n",
       "              (LayerNorm): LayerNorm((768,), eps=1e-05, elementwise_affine=True)\n",
       "              (dropout): Dropout(p=0.1, inplace=False)\n",
       "            )\n",
       "          )\n",
       "          (5): LongformerLayer(\n",
       "            (attention): LongformerAttention(\n",
       "              (self): LongformerSelfAttention(\n",
       "                (query): Linear(in_features=768, out_features=768, bias=True)\n",
       "                (key): Linear(in_features=768, out_features=768, bias=True)\n",
       "                (value): Linear(in_features=768, out_features=768, bias=True)\n",
       "                (query_global): Linear(in_features=768, out_features=768, bias=True)\n",
       "                (key_global): Linear(in_features=768, out_features=768, bias=True)\n",
       "                (value_global): Linear(in_features=768, out_features=768, bias=True)\n",
       "              )\n",
       "              (output): LongformerSelfOutput(\n",
       "                (dense): Linear(in_features=768, out_features=768, bias=True)\n",
       "                (LayerNorm): LayerNorm((768,), eps=1e-05, elementwise_affine=True)\n",
       "                (dropout): Dropout(p=0.1, inplace=False)\n",
       "              )\n",
       "            )\n",
       "            (intermediate): LongformerIntermediate(\n",
       "              (dense): Linear(in_features=768, out_features=3072, bias=True)\n",
       "              (intermediate_act_fn): GELUActivation()\n",
       "            )\n",
       "            (output): LongformerOutput(\n",
       "              (dense): Linear(in_features=3072, out_features=768, bias=True)\n",
       "              (LayerNorm): LayerNorm((768,), eps=1e-05, elementwise_affine=True)\n",
       "              (dropout): Dropout(p=0.1, inplace=False)\n",
       "            )\n",
       "          )\n",
       "          (6): LongformerLayer(\n",
       "            (attention): LongformerAttention(\n",
       "              (self): LongformerSelfAttention(\n",
       "                (query): Linear(in_features=768, out_features=768, bias=True)\n",
       "                (key): Linear(in_features=768, out_features=768, bias=True)\n",
       "                (value): Linear(in_features=768, out_features=768, bias=True)\n",
       "                (query_global): Linear(in_features=768, out_features=768, bias=True)\n",
       "                (key_global): Linear(in_features=768, out_features=768, bias=True)\n",
       "                (value_global): Linear(in_features=768, out_features=768, bias=True)\n",
       "              )\n",
       "              (output): LongformerSelfOutput(\n",
       "                (dense): Linear(in_features=768, out_features=768, bias=True)\n",
       "                (LayerNorm): LayerNorm((768,), eps=1e-05, elementwise_affine=True)\n",
       "                (dropout): Dropout(p=0.1, inplace=False)\n",
       "              )\n",
       "            )\n",
       "            (intermediate): LongformerIntermediate(\n",
       "              (dense): Linear(in_features=768, out_features=3072, bias=True)\n",
       "              (intermediate_act_fn): GELUActivation()\n",
       "            )\n",
       "            (output): LongformerOutput(\n",
       "              (dense): Linear(in_features=3072, out_features=768, bias=True)\n",
       "              (LayerNorm): LayerNorm((768,), eps=1e-05, elementwise_affine=True)\n",
       "              (dropout): Dropout(p=0.1, inplace=False)\n",
       "            )\n",
       "          )\n",
       "          (7): LongformerLayer(\n",
       "            (attention): LongformerAttention(\n",
       "              (self): LongformerSelfAttention(\n",
       "                (query): Linear(in_features=768, out_features=768, bias=True)\n",
       "                (key): Linear(in_features=768, out_features=768, bias=True)\n",
       "                (value): Linear(in_features=768, out_features=768, bias=True)\n",
       "                (query_global): Linear(in_features=768, out_features=768, bias=True)\n",
       "                (key_global): Linear(in_features=768, out_features=768, bias=True)\n",
       "                (value_global): Linear(in_features=768, out_features=768, bias=True)\n",
       "              )\n",
       "              (output): LongformerSelfOutput(\n",
       "                (dense): Linear(in_features=768, out_features=768, bias=True)\n",
       "                (LayerNorm): LayerNorm((768,), eps=1e-05, elementwise_affine=True)\n",
       "                (dropout): Dropout(p=0.1, inplace=False)\n",
       "              )\n",
       "            )\n",
       "            (intermediate): LongformerIntermediate(\n",
       "              (dense): Linear(in_features=768, out_features=3072, bias=True)\n",
       "              (intermediate_act_fn): GELUActivation()\n",
       "            )\n",
       "            (output): LongformerOutput(\n",
       "              (dense): Linear(in_features=3072, out_features=768, bias=True)\n",
       "              (LayerNorm): LayerNorm((768,), eps=1e-05, elementwise_affine=True)\n",
       "              (dropout): Dropout(p=0.1, inplace=False)\n",
       "            )\n",
       "          )\n",
       "          (8): LongformerLayer(\n",
       "            (attention): LongformerAttention(\n",
       "              (self): LongformerSelfAttention(\n",
       "                (query): Linear(in_features=768, out_features=768, bias=True)\n",
       "                (key): Linear(in_features=768, out_features=768, bias=True)\n",
       "                (value): Linear(in_features=768, out_features=768, bias=True)\n",
       "                (query_global): Linear(in_features=768, out_features=768, bias=True)\n",
       "                (key_global): Linear(in_features=768, out_features=768, bias=True)\n",
       "                (value_global): Linear(in_features=768, out_features=768, bias=True)\n",
       "              )\n",
       "              (output): LongformerSelfOutput(\n",
       "                (dense): Linear(in_features=768, out_features=768, bias=True)\n",
       "                (LayerNorm): LayerNorm((768,), eps=1e-05, elementwise_affine=True)\n",
       "                (dropout): Dropout(p=0.1, inplace=False)\n",
       "              )\n",
       "            )\n",
       "            (intermediate): LongformerIntermediate(\n",
       "              (dense): Linear(in_features=768, out_features=3072, bias=True)\n",
       "              (intermediate_act_fn): GELUActivation()\n",
       "            )\n",
       "            (output): LongformerOutput(\n",
       "              (dense): Linear(in_features=3072, out_features=768, bias=True)\n",
       "              (LayerNorm): LayerNorm((768,), eps=1e-05, elementwise_affine=True)\n",
       "              (dropout): Dropout(p=0.1, inplace=False)\n",
       "            )\n",
       "          )\n",
       "          (9): LongformerLayer(\n",
       "            (attention): LongformerAttention(\n",
       "              (self): LongformerSelfAttention(\n",
       "                (query): Linear(in_features=768, out_features=768, bias=True)\n",
       "                (key): Linear(in_features=768, out_features=768, bias=True)\n",
       "                (value): Linear(in_features=768, out_features=768, bias=True)\n",
       "                (query_global): Linear(in_features=768, out_features=768, bias=True)\n",
       "                (key_global): Linear(in_features=768, out_features=768, bias=True)\n",
       "                (value_global): Linear(in_features=768, out_features=768, bias=True)\n",
       "              )\n",
       "              (output): LongformerSelfOutput(\n",
       "                (dense): Linear(in_features=768, out_features=768, bias=True)\n",
       "                (LayerNorm): LayerNorm((768,), eps=1e-05, elementwise_affine=True)\n",
       "                (dropout): Dropout(p=0.1, inplace=False)\n",
       "              )\n",
       "            )\n",
       "            (intermediate): LongformerIntermediate(\n",
       "              (dense): Linear(in_features=768, out_features=3072, bias=True)\n",
       "              (intermediate_act_fn): GELUActivation()\n",
       "            )\n",
       "            (output): LongformerOutput(\n",
       "              (dense): Linear(in_features=3072, out_features=768, bias=True)\n",
       "              (LayerNorm): LayerNorm((768,), eps=1e-05, elementwise_affine=True)\n",
       "              (dropout): Dropout(p=0.1, inplace=False)\n",
       "            )\n",
       "          )\n",
       "          (10): LongformerLayer(\n",
       "            (attention): LongformerAttention(\n",
       "              (self): LongformerSelfAttention(\n",
       "                (query): Linear(in_features=768, out_features=768, bias=True)\n",
       "                (key): Linear(in_features=768, out_features=768, bias=True)\n",
       "                (value): Linear(in_features=768, out_features=768, bias=True)\n",
       "                (query_global): Linear(in_features=768, out_features=768, bias=True)\n",
       "                (key_global): Linear(in_features=768, out_features=768, bias=True)\n",
       "                (value_global): Linear(in_features=768, out_features=768, bias=True)\n",
       "              )\n",
       "              (output): LongformerSelfOutput(\n",
       "                (dense): Linear(in_features=768, out_features=768, bias=True)\n",
       "                (LayerNorm): LayerNorm((768,), eps=1e-05, elementwise_affine=True)\n",
       "                (dropout): Dropout(p=0.1, inplace=False)\n",
       "              )\n",
       "            )\n",
       "            (intermediate): LongformerIntermediate(\n",
       "              (dense): Linear(in_features=768, out_features=3072, bias=True)\n",
       "              (intermediate_act_fn): GELUActivation()\n",
       "            )\n",
       "            (output): LongformerOutput(\n",
       "              (dense): Linear(in_features=3072, out_features=768, bias=True)\n",
       "              (LayerNorm): LayerNorm((768,), eps=1e-05, elementwise_affine=True)\n",
       "              (dropout): Dropout(p=0.1, inplace=False)\n",
       "            )\n",
       "          )\n",
       "          (11): LongformerLayer(\n",
       "            (attention): LongformerAttention(\n",
       "              (self): LongformerSelfAttention(\n",
       "                (query): Linear(in_features=768, out_features=768, bias=True)\n",
       "                (key): Linear(in_features=768, out_features=768, bias=True)\n",
       "                (value): Linear(in_features=768, out_features=768, bias=True)\n",
       "                (query_global): Linear(in_features=768, out_features=768, bias=True)\n",
       "                (key_global): Linear(in_features=768, out_features=768, bias=True)\n",
       "                (value_global): Linear(in_features=768, out_features=768, bias=True)\n",
       "              )\n",
       "              (output): LongformerSelfOutput(\n",
       "                (dense): Linear(in_features=768, out_features=768, bias=True)\n",
       "                (LayerNorm): LayerNorm((768,), eps=1e-05, elementwise_affine=True)\n",
       "                (dropout): Dropout(p=0.1, inplace=False)\n",
       "              )\n",
       "            )\n",
       "            (intermediate): LongformerIntermediate(\n",
       "              (dense): Linear(in_features=768, out_features=3072, bias=True)\n",
       "              (intermediate_act_fn): GELUActivation()\n",
       "            )\n",
       "            (output): LongformerOutput(\n",
       "              (dense): Linear(in_features=3072, out_features=768, bias=True)\n",
       "              (LayerNorm): LayerNorm((768,), eps=1e-05, elementwise_affine=True)\n",
       "              (dropout): Dropout(p=0.1, inplace=False)\n",
       "            )\n",
       "          )\n",
       "        )\n",
       "      )\n",
       "    )\n",
       "    (classifier): LongformerClassificationHead(\n",
       "      (dense): Linear(in_features=768, out_features=768, bias=True)\n",
       "      (dropout): Dropout(p=0.1, inplace=False)\n",
       "      (out_proj): Linear(in_features=768, out_features=13, bias=True)\n",
       "    )\n",
       "  )\n",
       ")"
      ]
     },
     "execution_count": 21,
     "metadata": {},
     "output_type": "execute_result"
    }
   ],
   "source": [
    "# Load model\n",
    "model = LongformerForSequenceClassification.from_pretrained(\"allenai/longformer-base-4096\", problem_type=\"multi_label_classification\", num_labels=13)\n",
    "model = DataParallel(model)\n",
    "model.to(device)"
   ]
  },
  {
   "cell_type": "code",
   "execution_count": 22,
   "metadata": {},
   "outputs": [],
   "source": [
    "# Prepare training\n",
    "\n",
    "# Parameters\n",
    "epochs = 10\n",
    "learning_rate = 3e-5 \n",
    "warumup_steps = 0\n",
    "accumulation_steps = 32 # simulate batch size \n",
    "\n",
    "# Use BCEWithLogitsLoss instead of CrossEntropyLoss\n",
    "pos_weight = calculate_pos_weights(Y_train)\n",
    "loss_fct_train = BCEWithLogitsLoss(pos_weight=pos_weight.to(device))\n",
    "loss_fct_val = BCEWithLogitsLoss()\n",
    "\n",
    "# Optimizer\n",
    "optimizer = RAdam(model.parameters(), lr=learning_rate)\n",
    "\n",
    "# Learning rate scheduler (linear decreasing lr without warmup)\n",
    "scheduler = get_linear_schedule_with_warmup(optimizer, \n",
    "                                            num_warmup_steps = warumup_steps, \n",
    "                                            num_training_steps = len(train_dataloader) * epochs)"
   ]
  },
  {
   "cell_type": "code",
   "execution_count": 23,
   "metadata": {},
   "outputs": [
    {
     "name": "stdout",
     "output_type": "stream",
     "text": [
      "\n",
      "======== Epoch 1 / 10 ========\n",
      "Training...\n",
      "  Batch   100  of  5,485.    Elapsed: 0:00:52.\n",
      "  Batch   200  of  5,485.    Elapsed: 0:01:43.\n",
      "  Batch   300  of  5,485.    Elapsed: 0:02:35.\n",
      "  Batch   400  of  5,485.    Elapsed: 0:03:27.\n",
      "  Batch   500  of  5,485.    Elapsed: 0:04:18.\n",
      "  Batch   600  of  5,485.    Elapsed: 0:05:10.\n",
      "  Batch   700  of  5,485.    Elapsed: 0:06:02.\n",
      "  Batch   800  of  5,485.    Elapsed: 0:06:53.\n",
      "  Batch   900  of  5,485.    Elapsed: 0:07:45.\n",
      "  Batch 1,000  of  5,485.    Elapsed: 0:08:37.\n",
      "  Batch 1,100  of  5,485.    Elapsed: 0:09:29.\n",
      "  Batch 1,200  of  5,485.    Elapsed: 0:10:22.\n",
      "  Batch 1,300  of  5,485.    Elapsed: 0:11:27.\n",
      "  Batch 1,400  of  5,485.    Elapsed: 0:13:15.\n",
      "  Batch 1,500  of  5,485.    Elapsed: 0:15:00.\n",
      "  Batch 1,600  of  5,485.    Elapsed: 0:16:44.\n",
      "  Batch 1,700  of  5,485.    Elapsed: 0:18:30.\n",
      "  Batch 1,800  of  5,485.    Elapsed: 0:20:15.\n",
      "  Batch 1,900  of  5,485.    Elapsed: 0:22:00.\n",
      "  Batch 2,000  of  5,485.    Elapsed: 0:23:45.\n",
      "  Batch 2,100  of  5,485.    Elapsed: 0:25:08.\n",
      "  Batch 2,200  of  5,485.    Elapsed: 0:26:45.\n",
      "  Batch 2,300  of  5,485.    Elapsed: 0:28:21.\n",
      "  Batch 2,400  of  5,485.    Elapsed: 0:29:57.\n",
      "  Batch 2,500  of  5,485.    Elapsed: 0:31:33.\n",
      "  Batch 2,600  of  5,485.    Elapsed: 0:33:08.\n",
      "  Batch 2,700  of  5,485.    Elapsed: 0:34:43.\n",
      "  Batch 2,800  of  5,485.    Elapsed: 0:36:18.\n",
      "  Batch 2,900  of  5,485.    Elapsed: 0:37:53.\n",
      "  Batch 3,000  of  5,485.    Elapsed: 0:39:26.\n",
      "  Batch 3,100  of  5,485.    Elapsed: 0:40:47.\n",
      "  Batch 3,200  of  5,485.    Elapsed: 0:42:24.\n",
      "  Batch 3,300  of  5,485.    Elapsed: 0:43:59.\n",
      "  Batch 3,400  of  5,485.    Elapsed: 0:45:36.\n",
      "  Batch 3,500  of  5,485.    Elapsed: 0:47:09.\n",
      "  Batch 3,600  of  5,485.    Elapsed: 0:48:38.\n",
      "  Batch 3,700  of  5,485.    Elapsed: 0:50:13.\n",
      "  Batch 3,800  of  5,485.    Elapsed: 0:51:48.\n",
      "  Batch 3,900  of  5,485.    Elapsed: 0:53:20.\n",
      "  Batch 4,000  of  5,485.    Elapsed: 0:54:41.\n",
      "  Batch 4,100  of  5,485.    Elapsed: 0:55:53.\n",
      "  Batch 4,200  of  5,485.    Elapsed: 0:56:55.\n",
      "  Batch 4,300  of  5,485.    Elapsed: 0:58:13.\n",
      "  Batch 4,400  of  5,485.    Elapsed: 0:59:35.\n",
      "  Batch 4,500  of  5,485.    Elapsed: 1:00:55.\n",
      "  Batch 4,600  of  5,485.    Elapsed: 1:02:16.\n",
      "  Batch 4,700  of  5,485.    Elapsed: 1:03:40.\n",
      "  Batch 4,800  of  5,485.    Elapsed: 1:05:15.\n",
      "  Batch 4,900  of  5,485.    Elapsed: 1:06:51.\n",
      "  Batch 5,000  of  5,485.    Elapsed: 1:08:18.\n",
      "  Batch 5,100  of  5,485.    Elapsed: 1:09:40.\n",
      "  Batch 5,200  of  5,485.    Elapsed: 1:11:00.\n",
      "  Batch 5,300  of  5,485.    Elapsed: 1:12:21.\n",
      "  Batch 5,400  of  5,485.    Elapsed: 1:13:42.\n",
      "\n",
      "  Average training loss: 17.66\n",
      "  Training epoch took: 1:14:39\n",
      "\n",
      "Running Validation...\n",
      "  Macro F1 score: 0.64\n",
      "  Validation Loss: 0.64\n",
      "  Validation took: 0:04:12\n",
      "\n",
      "======== Epoch 2 / 10 ========\n",
      "Training...\n",
      "  Batch   100  of  5,485.    Elapsed: 0:01:31.\n",
      "  Batch   200  of  5,485.    Elapsed: 0:03:00.\n",
      "  Batch   300  of  5,485.    Elapsed: 0:04:30.\n",
      "  Batch   400  of  5,485.    Elapsed: 0:06:00.\n",
      "  Batch   500  of  5,485.    Elapsed: 0:07:30.\n",
      "  Batch   600  of  5,485.    Elapsed: 0:09:00.\n",
      "  Batch   700  of  5,485.    Elapsed: 0:10:29.\n",
      "  Batch   800  of  5,485.    Elapsed: 0:11:59.\n",
      "  Batch   900  of  5,485.    Elapsed: 0:13:19.\n",
      "  Batch 1,000  of  5,485.    Elapsed: 0:14:39.\n",
      "  Batch 1,100  of  5,485.    Elapsed: 0:16:08.\n",
      "  Batch 1,200  of  5,485.    Elapsed: 0:17:37.\n",
      "  Batch 1,300  of  5,485.    Elapsed: 0:19:06.\n",
      "  Batch 1,400  of  5,485.    Elapsed: 0:20:35.\n",
      "  Batch 1,500  of  5,485.    Elapsed: 0:22:05.\n",
      "  Batch 1,600  of  5,485.    Elapsed: 0:23:34.\n",
      "  Batch 1,700  of  5,485.    Elapsed: 0:25:04.\n",
      "  Batch 1,800  of  5,485.    Elapsed: 0:26:34.\n",
      "  Batch 1,900  of  5,485.    Elapsed: 0:28:04.\n",
      "  Batch 2,000  of  5,485.    Elapsed: 0:29:31.\n",
      "  Batch 2,100  of  5,485.    Elapsed: 0:30:54.\n",
      "  Batch 2,200  of  5,485.    Elapsed: 0:32:28.\n",
      "  Batch 2,300  of  5,485.    Elapsed: 0:34:03.\n",
      "  Batch 2,400  of  5,485.    Elapsed: 0:35:39.\n",
      "  Batch 2,500  of  5,485.    Elapsed: 0:37:14.\n",
      "  Batch 2,600  of  5,485.    Elapsed: 0:38:49.\n",
      "  Batch 2,700  of  5,485.    Elapsed: 0:40:25.\n",
      "  Batch 2,800  of  5,485.    Elapsed: 0:42:00.\n",
      "  Batch 2,900  of  5,485.    Elapsed: 0:43:36.\n",
      "  Batch 3,000  of  5,485.    Elapsed: 0:45:06.\n",
      "  Batch 3,100  of  5,485.    Elapsed: 0:46:34.\n",
      "  Batch 3,200  of  5,485.    Elapsed: 0:48:09.\n",
      "  Batch 3,300  of  5,485.    Elapsed: 0:49:45.\n",
      "  Batch 3,400  of  5,485.    Elapsed: 0:51:16.\n",
      "  Batch 3,500  of  5,485.    Elapsed: 0:52:46.\n",
      "  Batch 3,600  of  5,485.    Elapsed: 0:54:15.\n",
      "  Batch 3,700  of  5,485.    Elapsed: 0:55:45.\n",
      "  Batch 3,800  of  5,485.    Elapsed: 0:57:15.\n",
      "  Batch 3,900  of  5,485.    Elapsed: 0:58:46.\n",
      "  Batch 4,000  of  5,485.    Elapsed: 1:00:16.\n",
      "  Batch 4,100  of  5,485.    Elapsed: 1:01:36.\n",
      "  Batch 4,200  of  5,485.    Elapsed: 1:02:52.\n",
      "  Batch 4,300  of  5,485.    Elapsed: 1:04:24.\n",
      "  Batch 4,400  of  5,485.    Elapsed: 1:05:59.\n",
      "  Batch 4,500  of  5,485.    Elapsed: 1:07:38.\n",
      "  Batch 4,600  of  5,485.    Elapsed: 1:09:18.\n",
      "  Batch 4,700  of  5,485.    Elapsed: 1:11:02.\n",
      "  Batch 4,800  of  5,485.    Elapsed: 1:12:46.\n",
      "  Batch 4,900  of  5,485.    Elapsed: 1:14:33.\n",
      "  Batch 5,000  of  5,485.    Elapsed: 1:16:12.\n",
      "  Batch 5,100  of  5,485.    Elapsed: 1:17:50.\n",
      "  Batch 5,200  of  5,485.    Elapsed: 1:19:37.\n",
      "  Batch 5,300  of  5,485.    Elapsed: 1:21:22.\n",
      "  Batch 5,400  of  5,485.    Elapsed: 1:23:07.\n",
      "\n",
      "  Average training loss: 13.83\n",
      "  Training epoch took: 1:24:37\n",
      "\n",
      "Running Validation...\n",
      "  Macro F1 score: 0.57\n",
      "  Validation Loss: 0.59\n",
      "  Validation took: 0:05:41\n",
      "\n",
      "======== Epoch 3 / 10 ========\n",
      "Training...\n",
      "  Batch   100  of  5,485.    Elapsed: 0:00:51.\n",
      "  Batch   200  of  5,485.    Elapsed: 0:01:42.\n",
      "  Batch   300  of  5,485.    Elapsed: 0:02:33.\n",
      "  Batch   400  of  5,485.    Elapsed: 0:03:23.\n",
      "  Batch   500  of  5,485.    Elapsed: 0:04:13.\n",
      "  Batch   600  of  5,485.    Elapsed: 0:05:04.\n",
      "  Batch   700  of  5,485.    Elapsed: 0:05:54.\n",
      "  Batch   800  of  5,485.    Elapsed: 0:06:44.\n",
      "  Batch   900  of  5,485.    Elapsed: 0:07:35.\n",
      "  Batch 1,000  of  5,485.    Elapsed: 0:08:25.\n",
      "  Batch 1,100  of  5,485.    Elapsed: 0:09:15.\n",
      "  Batch 1,200  of  5,485.    Elapsed: 0:10:06.\n",
      "  Batch 1,300  of  5,485.    Elapsed: 0:10:57.\n",
      "  Batch 1,400  of  5,485.    Elapsed: 0:11:48.\n",
      "  Batch 1,500  of  5,485.    Elapsed: 0:12:38.\n",
      "  Batch 1,600  of  5,485.    Elapsed: 0:13:29.\n",
      "  Batch 1,700  of  5,485.    Elapsed: 0:14:21.\n",
      "  Batch 1,800  of  5,485.    Elapsed: 0:15:12.\n",
      "  Batch 1,900  of  5,485.    Elapsed: 0:16:03.\n",
      "  Batch 2,000  of  5,485.    Elapsed: 0:16:54.\n",
      "  Batch 2,100  of  5,485.    Elapsed: 0:17:45.\n",
      "  Batch 2,200  of  5,485.    Elapsed: 0:18:36.\n",
      "  Batch 2,300  of  5,485.    Elapsed: 0:19:27.\n",
      "  Batch 2,400  of  5,485.    Elapsed: 0:20:17.\n",
      "  Batch 2,500  of  5,485.    Elapsed: 0:21:08.\n",
      "  Batch 2,600  of  5,485.    Elapsed: 0:21:59.\n",
      "  Batch 2,700  of  5,485.    Elapsed: 0:22:50.\n",
      "  Batch 2,800  of  5,485.    Elapsed: 0:23:41.\n",
      "  Batch 2,900  of  5,485.    Elapsed: 0:24:32.\n",
      "  Batch 3,000  of  5,485.    Elapsed: 0:25:22.\n",
      "  Batch 3,100  of  5,485.    Elapsed: 0:26:13.\n",
      "  Batch 3,200  of  5,485.    Elapsed: 0:27:04.\n",
      "  Batch 3,300  of  5,485.    Elapsed: 0:27:55.\n",
      "  Batch 3,400  of  5,485.    Elapsed: 0:28:46.\n",
      "  Batch 3,500  of  5,485.    Elapsed: 0:29:47.\n",
      "  Batch 3,600  of  5,485.    Elapsed: 0:30:54.\n",
      "  Batch 3,700  of  5,485.    Elapsed: 0:31:45.\n",
      "  Batch 3,800  of  5,485.    Elapsed: 0:32:36.\n",
      "  Batch 3,900  of  5,485.    Elapsed: 0:33:27.\n",
      "  Batch 4,000  of  5,485.    Elapsed: 0:34:18.\n",
      "  Batch 4,100  of  5,485.    Elapsed: 0:35:09.\n",
      "  Batch 4,200  of  5,485.    Elapsed: 0:36:00.\n",
      "  Batch 4,300  of  5,485.    Elapsed: 0:36:51.\n",
      "  Batch 4,400  of  5,485.    Elapsed: 0:37:42.\n",
      "  Batch 4,500  of  5,485.    Elapsed: 0:38:33.\n",
      "  Batch 4,600  of  5,485.    Elapsed: 0:39:24.\n",
      "  Batch 4,700  of  5,485.    Elapsed: 0:40:15.\n",
      "  Batch 4,800  of  5,485.    Elapsed: 0:41:06.\n",
      "  Batch 4,900  of  5,485.    Elapsed: 0:41:57.\n",
      "  Batch 5,000  of  5,485.    Elapsed: 0:42:48.\n",
      "  Batch 5,100  of  5,485.    Elapsed: 0:43:39.\n",
      "  Batch 5,200  of  5,485.    Elapsed: 0:44:30.\n",
      "  Batch 5,300  of  5,485.    Elapsed: 0:45:20.\n",
      "  Batch 5,400  of  5,485.    Elapsed: 0:46:10.\n",
      "\n",
      "  Average training loss: 12.41\n",
      "  Training epoch took: 0:46:53\n",
      "\n",
      "Running Validation...\n",
      "  Macro F1 score: 0.68\n",
      "  Validation Loss: 0.60\n",
      "  Validation took: 0:02:33\n",
      "\n",
      "======== Epoch 4 / 10 ========\n",
      "Training...\n"
     ]
    },
    {
     "name": "stdout",
     "output_type": "stream",
     "text": [
      "  Batch   100  of  5,485.    Elapsed: 0:00:51.\n",
      "  Batch   200  of  5,485.    Elapsed: 0:01:42.\n",
      "  Batch   300  of  5,485.    Elapsed: 0:02:33.\n",
      "  Batch   400  of  5,485.    Elapsed: 0:03:25.\n",
      "  Batch   500  of  5,485.    Elapsed: 0:04:16.\n",
      "  Batch   600  of  5,485.    Elapsed: 0:05:07.\n",
      "  Batch   700  of  5,485.    Elapsed: 0:05:58.\n",
      "  Batch   800  of  5,485.    Elapsed: 0:06:49.\n",
      "  Batch   900  of  5,485.    Elapsed: 0:07:41.\n",
      "  Batch 1,000  of  5,485.    Elapsed: 0:08:32.\n",
      "  Batch 1,100  of  5,485.    Elapsed: 0:09:23.\n",
      "  Batch 1,200  of  5,485.    Elapsed: 0:10:15.\n",
      "  Batch 1,300  of  5,485.    Elapsed: 0:11:06.\n",
      "  Batch 1,400  of  5,485.    Elapsed: 0:11:58.\n",
      "  Batch 1,500  of  5,485.    Elapsed: 0:12:49.\n",
      "  Batch 1,600  of  5,485.    Elapsed: 0:13:40.\n",
      "  Batch 1,700  of  5,485.    Elapsed: 0:14:32.\n",
      "  Batch 1,800  of  5,485.    Elapsed: 0:15:23.\n",
      "  Batch 1,900  of  5,485.    Elapsed: 0:16:14.\n",
      "  Batch 2,000  of  5,485.    Elapsed: 0:17:05.\n",
      "  Batch 2,100  of  5,485.    Elapsed: 0:17:56.\n",
      "  Batch 2,200  of  5,485.    Elapsed: 0:18:49.\n",
      "  Batch 2,300  of  5,485.    Elapsed: 0:19:40.\n",
      "  Batch 2,400  of  5,485.    Elapsed: 0:20:31.\n",
      "  Batch 2,500  of  5,485.    Elapsed: 0:21:23.\n",
      "  Batch 2,600  of  5,485.    Elapsed: 0:22:14.\n",
      "  Batch 2,700  of  5,485.    Elapsed: 0:23:03.\n",
      "  Batch 2,800  of  5,485.    Elapsed: 0:23:53.\n",
      "  Batch 2,900  of  5,485.    Elapsed: 0:24:45.\n",
      "  Batch 3,000  of  5,485.    Elapsed: 0:25:36.\n",
      "  Batch 3,100  of  5,485.    Elapsed: 0:26:27.\n",
      "  Batch 3,200  of  5,485.    Elapsed: 0:27:18.\n",
      "  Batch 3,300  of  5,485.    Elapsed: 0:28:09.\n",
      "  Batch 3,400  of  5,485.    Elapsed: 0:29:01.\n",
      "  Batch 3,500  of  5,485.    Elapsed: 0:29:52.\n",
      "  Batch 3,600  of  5,485.    Elapsed: 0:30:43.\n",
      "  Batch 3,700  of  5,485.    Elapsed: 0:31:34.\n",
      "  Batch 3,800  of  5,485.    Elapsed: 0:32:25.\n",
      "  Batch 3,900  of  5,485.    Elapsed: 0:33:17.\n",
      "  Batch 4,000  of  5,485.    Elapsed: 0:34:08.\n",
      "  Batch 4,100  of  5,485.    Elapsed: 0:34:59.\n",
      "  Batch 4,200  of  5,485.    Elapsed: 0:35:50.\n",
      "  Batch 4,300  of  5,485.    Elapsed: 0:36:41.\n",
      "  Batch 4,400  of  5,485.    Elapsed: 0:37:32.\n",
      "  Batch 4,500  of  5,485.    Elapsed: 0:38:24.\n",
      "  Batch 4,600  of  5,485.    Elapsed: 0:39:15.\n",
      "  Batch 4,700  of  5,485.    Elapsed: 0:40:06.\n",
      "  Batch 4,800  of  5,485.    Elapsed: 0:40:57.\n",
      "  Batch 4,900  of  5,485.    Elapsed: 0:41:48.\n",
      "  Batch 5,000  of  5,485.    Elapsed: 0:42:39.\n",
      "  Batch 5,100  of  5,485.    Elapsed: 0:43:30.\n",
      "  Batch 5,200  of  5,485.    Elapsed: 0:44:21.\n",
      "  Batch 5,300  of  5,485.    Elapsed: 0:45:12.\n",
      "  Batch 5,400  of  5,485.    Elapsed: 0:46:03.\n",
      "\n",
      "  Average training loss: 11.19\n",
      "  Training epoch took: 0:46:47\n",
      "\n",
      "Running Validation...\n",
      "  Macro F1 score: 0.76\n",
      "  Validation Loss: 0.50\n",
      "  Validation took: 0:02:45\n",
      "\n",
      "======== Epoch 5 / 10 ========\n",
      "Training...\n",
      "  Batch   100  of  5,485.    Elapsed: 0:00:56.\n",
      "  Batch   200  of  5,485.    Elapsed: 0:01:51.\n",
      "  Batch   300  of  5,485.    Elapsed: 0:02:43.\n",
      "  Batch   400  of  5,485.    Elapsed: 0:03:36.\n",
      "  Batch   500  of  5,485.    Elapsed: 0:04:30.\n",
      "  Batch   600  of  5,485.    Elapsed: 0:05:23.\n",
      "  Batch   700  of  5,485.    Elapsed: 0:06:15.\n",
      "  Batch   800  of  5,485.    Elapsed: 0:07:07.\n",
      "  Batch   900  of  5,485.    Elapsed: 0:07:58.\n",
      "  Batch 1,000  of  5,485.    Elapsed: 0:08:49.\n",
      "  Batch 1,100  of  5,485.    Elapsed: 0:09:41.\n",
      "  Batch 1,200  of  5,485.    Elapsed: 0:10:32.\n",
      "  Batch 1,300  of  5,485.    Elapsed: 0:11:23.\n",
      "  Batch 1,400  of  5,485.    Elapsed: 0:12:14.\n",
      "  Batch 1,500  of  5,485.    Elapsed: 0:13:05.\n",
      "  Batch 1,600  of  5,485.    Elapsed: 0:13:57.\n",
      "  Batch 1,700  of  5,485.    Elapsed: 0:14:55.\n",
      "  Batch 1,800  of  5,485.    Elapsed: 0:15:47.\n",
      "  Batch 1,900  of  5,485.    Elapsed: 0:16:38.\n",
      "  Batch 2,000  of  5,485.    Elapsed: 0:17:29.\n",
      "  Batch 2,100  of  5,485.    Elapsed: 0:18:20.\n",
      "  Batch 2,200  of  5,485.    Elapsed: 0:19:12.\n",
      "  Batch 2,300  of  5,485.    Elapsed: 0:20:03.\n",
      "  Batch 2,400  of  5,485.    Elapsed: 0:20:54.\n",
      "  Batch 2,500  of  5,485.    Elapsed: 0:21:45.\n",
      "  Batch 2,600  of  5,485.    Elapsed: 0:22:37.\n",
      "  Batch 2,700  of  5,485.    Elapsed: 0:23:27.\n",
      "  Batch 2,800  of  5,485.    Elapsed: 0:24:18.\n",
      "  Batch 2,900  of  5,485.    Elapsed: 0:25:09.\n",
      "  Batch 3,000  of  5,485.    Elapsed: 0:26:02.\n",
      "  Batch 3,100  of  5,485.    Elapsed: 0:26:55.\n",
      "  Batch 3,200  of  5,485.    Elapsed: 0:27:45.\n",
      "  Batch 3,300  of  5,485.    Elapsed: 0:28:36.\n",
      "  Batch 3,400  of  5,485.    Elapsed: 0:29:26.\n",
      "  Batch 3,500  of  5,485.    Elapsed: 0:30:17.\n",
      "  Batch 3,600  of  5,485.    Elapsed: 0:31:06.\n",
      "  Batch 3,700  of  5,485.    Elapsed: 0:31:56.\n",
      "  Batch 3,800  of  5,485.    Elapsed: 0:32:47.\n",
      "  Batch 3,900  of  5,485.    Elapsed: 0:33:38.\n",
      "  Batch 4,000  of  5,485.    Elapsed: 0:34:28.\n",
      "  Batch 4,100  of  5,485.    Elapsed: 0:35:19.\n",
      "  Batch 4,200  of  5,485.    Elapsed: 0:36:10.\n",
      "  Batch 4,300  of  5,485.    Elapsed: 0:37:00.\n",
      "  Batch 4,400  of  5,485.    Elapsed: 0:37:51.\n",
      "  Batch 4,500  of  5,485.    Elapsed: 0:38:42.\n",
      "  Batch 4,600  of  5,485.    Elapsed: 0:39:33.\n",
      "  Batch 4,700  of  5,485.    Elapsed: 0:40:23.\n",
      "  Batch 4,800  of  5,485.    Elapsed: 0:41:14.\n",
      "  Batch 4,900  of  5,485.    Elapsed: 0:42:04.\n",
      "  Batch 5,000  of  5,485.    Elapsed: 0:43:00.\n",
      "  Batch 5,100  of  5,485.    Elapsed: 0:43:53.\n",
      "  Batch 5,200  of  5,485.    Elapsed: 0:44:44.\n",
      "  Batch 5,300  of  5,485.    Elapsed: 0:45:35.\n",
      "  Batch 5,400  of  5,485.    Elapsed: 0:46:26.\n",
      "\n",
      "  Average training loss: 9.74\n",
      "  Training epoch took: 0:47:09\n",
      "\n",
      "Running Validation...\n",
      "  Macro F1 score: 0.73\n",
      "  Validation Loss: 0.52\n",
      "  Validation took: 0:02:35\n",
      "\n",
      "======== Epoch 6 / 10 ========\n",
      "Training...\n",
      "  Batch   100  of  5,485.    Elapsed: 0:00:51.\n",
      "  Batch   200  of  5,485.    Elapsed: 0:01:41.\n",
      "  Batch   300  of  5,485.    Elapsed: 0:02:32.\n",
      "  Batch   400  of  5,485.    Elapsed: 0:03:23.\n",
      "  Batch   500  of  5,485.    Elapsed: 0:04:14.\n",
      "  Batch   600  of  5,485.    Elapsed: 0:05:04.\n",
      "  Batch   700  of  5,485.    Elapsed: 0:05:55.\n",
      "  Batch   800  of  5,485.    Elapsed: 0:06:46.\n",
      "  Batch   900  of  5,485.    Elapsed: 0:07:36.\n",
      "  Batch 1,000  of  5,485.    Elapsed: 0:08:27.\n",
      "  Batch 1,100  of  5,485.    Elapsed: 0:09:18.\n",
      "  Batch 1,200  of  5,485.    Elapsed: 0:10:08.\n",
      "  Batch 1,300  of  5,485.    Elapsed: 0:10:59.\n",
      "  Batch 1,400  of  5,485.    Elapsed: 0:11:49.\n",
      "  Batch 1,500  of  5,485.    Elapsed: 0:12:41.\n",
      "  Batch 1,600  of  5,485.    Elapsed: 0:13:31.\n",
      "  Batch 1,700  of  5,485.    Elapsed: 0:14:21.\n",
      "  Batch 1,800  of  5,485.    Elapsed: 0:15:12.\n",
      "  Batch 1,900  of  5,485.    Elapsed: 0:16:04.\n",
      "  Batch 2,000  of  5,485.    Elapsed: 0:16:55.\n",
      "  Batch 2,100  of  5,485.    Elapsed: 0:17:45.\n",
      "  Batch 2,200  of  5,485.    Elapsed: 0:18:36.\n",
      "  Batch 2,300  of  5,485.    Elapsed: 0:19:26.\n",
      "  Batch 2,400  of  5,485.    Elapsed: 0:20:17.\n",
      "  Batch 2,500  of  5,485.    Elapsed: 0:21:08.\n",
      "  Batch 2,600  of  5,485.    Elapsed: 0:21:59.\n",
      "  Batch 2,700  of  5,485.    Elapsed: 0:22:51.\n",
      "  Batch 2,800  of  5,485.    Elapsed: 0:23:43.\n",
      "  Batch 2,900  of  5,485.    Elapsed: 0:24:34.\n",
      "  Batch 3,000  of  5,485.    Elapsed: 0:25:25.\n",
      "  Batch 3,100  of  5,485.    Elapsed: 0:26:16.\n",
      "  Batch 3,200  of  5,485.    Elapsed: 0:27:07.\n",
      "  Batch 3,300  of  5,485.    Elapsed: 0:27:58.\n",
      "  Batch 3,400  of  5,485.    Elapsed: 0:28:49.\n",
      "  Batch 3,500  of  5,485.    Elapsed: 0:29:40.\n",
      "  Batch 3,600  of  5,485.    Elapsed: 0:30:31.\n",
      "  Batch 3,700  of  5,485.    Elapsed: 0:31:22.\n",
      "  Batch 3,800  of  5,485.    Elapsed: 0:32:14.\n",
      "  Batch 3,900  of  5,485.    Elapsed: 0:33:05.\n",
      "  Batch 4,000  of  5,485.    Elapsed: 0:33:56.\n",
      "  Batch 4,100  of  5,485.    Elapsed: 0:34:48.\n",
      "  Batch 4,200  of  5,485.    Elapsed: 0:35:39.\n",
      "  Batch 4,300  of  5,485.    Elapsed: 0:36:31.\n",
      "  Batch 4,400  of  5,485.    Elapsed: 0:37:22.\n",
      "  Batch 4,500  of  5,485.    Elapsed: 0:38:13.\n",
      "  Batch 4,600  of  5,485.    Elapsed: 0:39:04.\n",
      "  Batch 4,700  of  5,485.    Elapsed: 0:39:55.\n",
      "  Batch 4,800  of  5,485.    Elapsed: 0:40:46.\n",
      "  Batch 4,900  of  5,485.    Elapsed: 0:41:37.\n",
      "  Batch 5,000  of  5,485.    Elapsed: 0:42:28.\n",
      "  Batch 5,100  of  5,485.    Elapsed: 0:43:19.\n",
      "  Batch 5,200  of  5,485.    Elapsed: 0:44:11.\n",
      "  Batch 5,300  of  5,485.    Elapsed: 0:45:02.\n",
      "  Batch 5,400  of  5,485.    Elapsed: 0:45:53.\n",
      "\n",
      "  Average training loss: 8.64\n",
      "  Training epoch took: 0:46:37\n",
      "\n",
      "Running Validation...\n",
      "  Macro F1 score: 0.70\n",
      "  Validation Loss: 0.53\n",
      "  Validation took: 0:02:41\n",
      "\n",
      "======== Epoch 7 / 10 ========\n",
      "Training...\n"
     ]
    },
    {
     "name": "stdout",
     "output_type": "stream",
     "text": [
      "  Batch   100  of  5,485.    Elapsed: 0:00:52.\n",
      "  Batch   200  of  5,485.    Elapsed: 0:01:43.\n",
      "  Batch   300  of  5,485.    Elapsed: 0:02:33.\n",
      "  Batch   400  of  5,485.    Elapsed: 0:03:24.\n",
      "  Batch   500  of  5,485.    Elapsed: 0:04:14.\n",
      "  Batch   600  of  5,485.    Elapsed: 0:05:05.\n",
      "  Batch   700  of  5,485.    Elapsed: 0:05:55.\n",
      "  Batch   800  of  5,485.    Elapsed: 0:06:45.\n",
      "  Batch   900  of  5,485.    Elapsed: 0:07:36.\n",
      "  Batch 1,000  of  5,485.    Elapsed: 0:08:26.\n",
      "  Batch 1,100  of  5,485.    Elapsed: 0:09:17.\n",
      "  Batch 1,200  of  5,485.    Elapsed: 0:10:07.\n",
      "  Batch 1,300  of  5,485.    Elapsed: 0:10:58.\n",
      "  Batch 1,400  of  5,485.    Elapsed: 0:11:49.\n",
      "  Batch 1,500  of  5,485.    Elapsed: 0:12:39.\n",
      "  Batch 1,600  of  5,485.    Elapsed: 0:13:30.\n",
      "  Batch 1,700  of  5,485.    Elapsed: 0:14:20.\n",
      "  Batch 1,800  of  5,485.    Elapsed: 0:15:11.\n",
      "  Batch 1,900  of  5,485.    Elapsed: 0:16:02.\n",
      "  Batch 2,000  of  5,485.    Elapsed: 0:16:53.\n",
      "  Batch 2,100  of  5,485.    Elapsed: 0:17:46.\n",
      "  Batch 2,200  of  5,485.    Elapsed: 0:18:37.\n",
      "  Batch 2,300  of  5,485.    Elapsed: 0:19:28.\n",
      "  Batch 2,400  of  5,485.    Elapsed: 0:20:19.\n",
      "  Batch 2,500  of  5,485.    Elapsed: 0:21:10.\n",
      "  Batch 2,600  of  5,485.    Elapsed: 0:22:01.\n",
      "  Batch 2,700  of  5,485.    Elapsed: 0:22:51.\n",
      "  Batch 2,800  of  5,485.    Elapsed: 0:23:42.\n",
      "  Batch 2,900  of  5,485.    Elapsed: 0:24:33.\n",
      "  Batch 3,000  of  5,485.    Elapsed: 0:25:23.\n",
      "  Batch 3,100  of  5,485.    Elapsed: 0:26:14.\n",
      "  Batch 3,200  of  5,485.    Elapsed: 0:27:04.\n",
      "  Batch 3,300  of  5,485.    Elapsed: 0:27:55.\n",
      "  Batch 3,400  of  5,485.    Elapsed: 0:28:46.\n",
      "  Batch 3,500  of  5,485.    Elapsed: 0:29:36.\n",
      "  Batch 3,600  of  5,485.    Elapsed: 0:30:27.\n",
      "  Batch 3,700  of  5,485.    Elapsed: 0:31:18.\n",
      "  Batch 3,800  of  5,485.    Elapsed: 0:32:08.\n",
      "  Batch 3,900  of  5,485.    Elapsed: 0:32:59.\n",
      "  Batch 4,000  of  5,485.    Elapsed: 0:33:53.\n",
      "  Batch 4,100  of  5,485.    Elapsed: 0:34:47.\n",
      "  Batch 4,200  of  5,485.    Elapsed: 0:35:38.\n",
      "  Batch 4,300  of  5,485.    Elapsed: 0:36:32.\n",
      "  Batch 4,400  of  5,485.    Elapsed: 0:37:25.\n",
      "  Batch 4,500  of  5,485.    Elapsed: 0:38:18.\n",
      "  Batch 4,600  of  5,485.    Elapsed: 0:39:10.\n",
      "  Batch 4,700  of  5,485.    Elapsed: 0:40:05.\n",
      "  Batch 4,800  of  5,485.    Elapsed: 0:40:59.\n",
      "  Batch 4,900  of  5,485.    Elapsed: 0:41:53.\n",
      "  Batch 5,000  of  5,485.    Elapsed: 0:42:47.\n",
      "  Batch 5,100  of  5,485.    Elapsed: 0:43:39.\n",
      "  Batch 5,200  of  5,485.    Elapsed: 0:44:33.\n",
      "  Batch 5,300  of  5,485.    Elapsed: 0:45:26.\n",
      "  Batch 5,400  of  5,485.    Elapsed: 0:46:19.\n",
      "\n",
      "  Average training loss: 7.86\n",
      "  Training epoch took: 0:47:05\n",
      "\n",
      "Running Validation...\n",
      "  Macro F1 score: 0.69\n",
      "  Validation Loss: 0.55\n",
      "  Validation took: 0:03:00\n",
      "\n",
      "======== Epoch 8 / 10 ========\n",
      "Training...\n",
      "  Batch   100  of  5,485.    Elapsed: 0:00:56.\n",
      "  Batch   200  of  5,485.    Elapsed: 0:01:52.\n",
      "  Batch   300  of  5,485.    Elapsed: 0:02:48.\n",
      "  Batch   400  of  5,485.    Elapsed: 0:03:44.\n",
      "  Batch   500  of  5,485.    Elapsed: 0:04:39.\n",
      "  Batch   600  of  5,485.    Elapsed: 0:05:35.\n",
      "  Batch   700  of  5,485.    Elapsed: 0:06:30.\n",
      "  Batch   800  of  5,485.    Elapsed: 0:07:26.\n",
      "  Batch   900  of  5,485.    Elapsed: 0:08:22.\n",
      "  Batch 1,000  of  5,485.    Elapsed: 0:09:17.\n",
      "  Batch 1,100  of  5,485.    Elapsed: 0:10:12.\n",
      "  Batch 1,200  of  5,485.    Elapsed: 0:11:09.\n",
      "  Batch 1,300  of  5,485.    Elapsed: 0:12:04.\n",
      "  Batch 1,400  of  5,485.    Elapsed: 0:12:57.\n",
      "  Batch 1,500  of  5,485.    Elapsed: 0:13:54.\n",
      "  Batch 1,600  of  5,485.    Elapsed: 0:14:51.\n",
      "  Batch 1,700  of  5,485.    Elapsed: 0:15:47.\n",
      "  Batch 1,800  of  5,485.    Elapsed: 0:16:42.\n",
      "  Batch 1,900  of  5,485.    Elapsed: 0:17:37.\n",
      "  Batch 2,000  of  5,485.    Elapsed: 0:18:33.\n",
      "  Batch 2,100  of  5,485.    Elapsed: 0:19:28.\n",
      "  Batch 2,200  of  5,485.    Elapsed: 0:20:23.\n",
      "  Batch 2,300  of  5,485.    Elapsed: 0:21:17.\n",
      "  Batch 2,400  of  5,485.    Elapsed: 0:22:12.\n",
      "  Batch 2,500  of  5,485.    Elapsed: 0:23:07.\n",
      "  Batch 2,600  of  5,485.    Elapsed: 0:24:01.\n",
      "  Batch 2,700  of  5,485.    Elapsed: 0:24:56.\n",
      "  Batch 2,800  of  5,485.    Elapsed: 0:25:51.\n",
      "  Batch 2,900  of  5,485.    Elapsed: 0:26:47.\n",
      "  Batch 3,000  of  5,485.    Elapsed: 0:27:43.\n",
      "  Batch 3,100  of  5,485.    Elapsed: 0:28:39.\n",
      "  Batch 3,200  of  5,485.    Elapsed: 0:29:35.\n",
      "  Batch 3,300  of  5,485.    Elapsed: 0:30:31.\n",
      "  Batch 3,400  of  5,485.    Elapsed: 0:31:28.\n",
      "  Batch 3,500  of  5,485.    Elapsed: 0:32:24.\n",
      "  Batch 3,600  of  5,485.    Elapsed: 0:33:22.\n",
      "  Batch 3,700  of  5,485.    Elapsed: 0:34:18.\n",
      "  Batch 3,800  of  5,485.    Elapsed: 0:35:13.\n",
      "  Batch 3,900  of  5,485.    Elapsed: 0:36:09.\n",
      "  Batch 4,000  of  5,485.    Elapsed: 0:37:04.\n",
      "  Batch 4,100  of  5,485.    Elapsed: 0:38:00.\n",
      "  Batch 4,200  of  5,485.    Elapsed: 0:38:57.\n",
      "  Batch 4,300  of  5,485.    Elapsed: 0:39:52.\n",
      "  Batch 4,400  of  5,485.    Elapsed: 0:40:50.\n",
      "  Batch 4,500  of  5,485.    Elapsed: 0:41:47.\n",
      "  Batch 4,600  of  5,485.    Elapsed: 0:42:41.\n",
      "  Batch 4,700  of  5,485.    Elapsed: 0:43:36.\n",
      "  Batch 4,800  of  5,485.    Elapsed: 0:44:31.\n",
      "  Batch 4,900  of  5,485.    Elapsed: 0:45:25.\n",
      "  Batch 5,000  of  5,485.    Elapsed: 0:46:20.\n",
      "  Batch 5,100  of  5,485.    Elapsed: 0:47:16.\n",
      "  Batch 5,200  of  5,485.    Elapsed: 0:48:11.\n",
      "  Batch 5,300  of  5,485.    Elapsed: 0:49:06.\n",
      "  Batch 5,400  of  5,485.    Elapsed: 0:50:02.\n",
      "\n",
      "  Average training loss: 7.04\n",
      "  Training epoch took: 0:50:49\n",
      "\n",
      "Running Validation...\n",
      "  Macro F1 score: 0.73\n",
      "  Validation Loss: 0.52\n",
      "  Validation took: 0:03:09\n",
      "\n",
      "======== Epoch 9 / 10 ========\n",
      "Training...\n",
      "  Batch   100  of  5,485.    Elapsed: 0:00:54.\n",
      "  Batch   200  of  5,485.    Elapsed: 0:01:47.\n",
      "  Batch   300  of  5,485.    Elapsed: 0:02:41.\n",
      "  Batch   400  of  5,485.    Elapsed: 0:03:35.\n",
      "  Batch   500  of  5,485.    Elapsed: 0:04:28.\n",
      "  Batch   600  of  5,485.    Elapsed: 0:05:21.\n",
      "  Batch   700  of  5,485.    Elapsed: 0:06:14.\n",
      "  Batch   800  of  5,485.    Elapsed: 0:07:08.\n",
      "  Batch   900  of  5,485.    Elapsed: 0:08:03.\n",
      "  Batch 1,000  of  5,485.    Elapsed: 0:08:58.\n",
      "  Batch 1,100  of  5,485.    Elapsed: 0:09:53.\n",
      "  Batch 1,200  of  5,485.    Elapsed: 0:10:50.\n",
      "  Batch 1,300  of  5,485.    Elapsed: 0:11:48.\n",
      "  Batch 1,400  of  5,485.    Elapsed: 0:12:46.\n",
      "  Batch 1,500  of  5,485.    Elapsed: 0:13:43.\n",
      "  Batch 1,600  of  5,485.    Elapsed: 0:14:41.\n",
      "  Batch 1,700  of  5,485.    Elapsed: 0:15:39.\n",
      "  Batch 1,800  of  5,485.    Elapsed: 0:16:37.\n",
      "  Batch 1,900  of  5,485.    Elapsed: 0:17:36.\n",
      "  Batch 2,000  of  5,485.    Elapsed: 0:18:33.\n",
      "  Batch 2,100  of  5,485.    Elapsed: 0:19:28.\n",
      "  Batch 2,200  of  5,485.    Elapsed: 0:20:24.\n",
      "  Batch 2,300  of  5,485.    Elapsed: 0:21:19.\n",
      "  Batch 2,400  of  5,485.    Elapsed: 0:22:15.\n",
      "  Batch 2,500  of  5,485.    Elapsed: 0:23:13.\n",
      "  Batch 2,600  of  5,485.    Elapsed: 0:24:09.\n",
      "  Batch 2,700  of  5,485.    Elapsed: 0:25:07.\n",
      "  Batch 2,800  of  5,485.    Elapsed: 0:26:04.\n",
      "  Batch 2,900  of  5,485.    Elapsed: 0:27:01.\n",
      "  Batch 3,000  of  5,485.    Elapsed: 0:27:57.\n",
      "  Batch 3,100  of  5,485.    Elapsed: 0:28:54.\n",
      "  Batch 3,200  of  5,485.    Elapsed: 0:29:51.\n",
      "  Batch 3,300  of  5,485.    Elapsed: 0:30:50.\n",
      "  Batch 3,400  of  5,485.    Elapsed: 0:31:47.\n",
      "  Batch 3,500  of  5,485.    Elapsed: 0:32:42.\n",
      "  Batch 3,600  of  5,485.    Elapsed: 0:33:38.\n",
      "  Batch 3,700  of  5,485.    Elapsed: 0:34:34.\n",
      "  Batch 3,800  of  5,485.    Elapsed: 0:35:30.\n",
      "  Batch 3,900  of  5,485.    Elapsed: 0:36:27.\n",
      "  Batch 4,000  of  5,485.    Elapsed: 0:37:23.\n",
      "  Batch 4,100  of  5,485.    Elapsed: 0:38:19.\n",
      "  Batch 4,200  of  5,485.    Elapsed: 0:39:17.\n",
      "  Batch 4,300  of  5,485.    Elapsed: 0:40:15.\n",
      "  Batch 4,400  of  5,485.    Elapsed: 0:41:12.\n",
      "  Batch 4,500  of  5,485.    Elapsed: 0:42:07.\n",
      "  Batch 4,600  of  5,485.    Elapsed: 0:43:03.\n",
      "  Batch 4,700  of  5,485.    Elapsed: 0:43:59.\n",
      "  Batch 4,800  of  5,485.    Elapsed: 0:44:57.\n",
      "  Batch 4,900  of  5,485.    Elapsed: 0:45:54.\n",
      "  Batch 5,000  of  5,485.    Elapsed: 0:46:51.\n",
      "  Batch 5,100  of  5,485.    Elapsed: 0:47:47.\n",
      "  Batch 5,200  of  5,485.    Elapsed: 0:48:46.\n",
      "  Batch 5,300  of  5,485.    Elapsed: 0:49:44.\n",
      "  Batch 5,400  of  5,485.    Elapsed: 0:50:42.\n",
      "\n",
      "  Average training loss: 6.43\n",
      "  Training epoch took: 0:51:29\n",
      "\n",
      "Running Validation...\n",
      "  Macro F1 score: 0.71\n",
      "  Validation Loss: 0.57\n",
      "  Validation took: 0:03:10\n",
      "\n",
      "======== Epoch 10 / 10 ========\n",
      "Training...\n"
     ]
    },
    {
     "name": "stdout",
     "output_type": "stream",
     "text": [
      "  Batch   100  of  5,485.    Elapsed: 0:00:52.\n",
      "  Batch   200  of  5,485.    Elapsed: 0:01:42.\n",
      "  Batch   300  of  5,485.    Elapsed: 0:02:34.\n",
      "  Batch   400  of  5,485.    Elapsed: 0:03:25.\n",
      "  Batch   500  of  5,485.    Elapsed: 0:04:16.\n",
      "  Batch   600  of  5,485.    Elapsed: 0:05:07.\n",
      "  Batch   700  of  5,485.    Elapsed: 0:05:57.\n",
      "  Batch   800  of  5,485.    Elapsed: 0:06:49.\n",
      "  Batch   900  of  5,485.    Elapsed: 0:07:40.\n",
      "  Batch 1,000  of  5,485.    Elapsed: 0:08:31.\n",
      "  Batch 1,100  of  5,485.    Elapsed: 0:09:23.\n",
      "  Batch 1,200  of  5,485.    Elapsed: 0:10:15.\n",
      "  Batch 1,300  of  5,485.    Elapsed: 0:11:06.\n",
      "  Batch 1,400  of  5,485.    Elapsed: 0:11:57.\n",
      "  Batch 1,500  of  5,485.    Elapsed: 0:12:48.\n",
      "  Batch 1,600  of  5,485.    Elapsed: 0:13:40.\n",
      "  Batch 1,700  of  5,485.    Elapsed: 0:14:31.\n",
      "  Batch 1,800  of  5,485.    Elapsed: 0:15:23.\n",
      "  Batch 1,900  of  5,485.    Elapsed: 0:16:14.\n",
      "  Batch 2,000  of  5,485.    Elapsed: 0:17:05.\n",
      "  Batch 2,100  of  5,485.    Elapsed: 0:17:57.\n",
      "  Batch 2,200  of  5,485.    Elapsed: 0:18:48.\n",
      "  Batch 2,300  of  5,485.    Elapsed: 0:19:38.\n",
      "  Batch 2,400  of  5,485.    Elapsed: 0:20:30.\n",
      "  Batch 2,500  of  5,485.    Elapsed: 0:21:21.\n",
      "  Batch 2,600  of  5,485.    Elapsed: 0:22:12.\n",
      "  Batch 2,700  of  5,485.    Elapsed: 0:23:03.\n",
      "  Batch 2,800  of  5,485.    Elapsed: 0:23:54.\n",
      "  Batch 2,900  of  5,485.    Elapsed: 0:24:45.\n",
      "  Batch 3,000  of  5,485.    Elapsed: 0:25:36.\n",
      "  Batch 3,100  of  5,485.    Elapsed: 0:26:27.\n",
      "  Batch 3,200  of  5,485.    Elapsed: 0:27:18.\n",
      "  Batch 3,300  of  5,485.    Elapsed: 0:28:08.\n",
      "  Batch 3,400  of  5,485.    Elapsed: 0:29:00.\n",
      "  Batch 3,500  of  5,485.    Elapsed: 0:29:52.\n",
      "  Batch 3,600  of  5,485.    Elapsed: 0:30:41.\n",
      "  Batch 3,700  of  5,485.    Elapsed: 0:31:29.\n",
      "  Batch 3,800  of  5,485.    Elapsed: 0:32:17.\n",
      "  Batch 3,900  of  5,485.    Elapsed: 0:33:06.\n",
      "  Batch 4,000  of  5,485.    Elapsed: 0:33:55.\n",
      "  Batch 4,100  of  5,485.    Elapsed: 0:34:45.\n",
      "  Batch 4,200  of  5,485.    Elapsed: 0:35:37.\n",
      "  Batch 4,300  of  5,485.    Elapsed: 0:36:27.\n",
      "  Batch 4,400  of  5,485.    Elapsed: 0:37:18.\n",
      "  Batch 4,500  of  5,485.    Elapsed: 0:38:09.\n",
      "  Batch 4,600  of  5,485.    Elapsed: 0:39:00.\n",
      "  Batch 4,700  of  5,485.    Elapsed: 0:39:51.\n",
      "  Batch 4,800  of  5,485.    Elapsed: 0:40:41.\n",
      "  Batch 4,900  of  5,485.    Elapsed: 0:41:32.\n",
      "  Batch 5,000  of  5,485.    Elapsed: 0:42:23.\n",
      "  Batch 5,100  of  5,485.    Elapsed: 0:43:15.\n",
      "  Batch 5,200  of  5,485.    Elapsed: 0:44:06.\n",
      "  Batch 5,300  of  5,485.    Elapsed: 0:44:56.\n",
      "  Batch 5,400  of  5,485.    Elapsed: 0:45:48.\n",
      "\n",
      "  Average training loss: 5.78\n",
      "  Training epoch took: 0:46:31\n",
      "\n",
      "Running Validation...\n",
      "  Macro F1 score: 0.76\n",
      "  Validation Loss: 0.49\n",
      "  Validation took: 0:02:33\n",
      "\n",
      "Training complete!\n",
      "Total training took 9:35:27 (h:mm:ss)\n"
     ]
    }
   ],
   "source": [
    "# Training\n",
    "\n",
    "# Store training and validation loss, validation F1 score, and timings\n",
    "training_stats = []\n",
    "\n",
    "# Measure the total training time for the whole run\n",
    "total_t0 = time.time()\n",
    "\n",
    "# For each epoch...\n",
    "for epoch_i in range(0, epochs):\n",
    "    \n",
    "    # ========================================\n",
    "    #               Training\n",
    "    # ========================================\n",
    "\n",
    "    print(\"\")\n",
    "    print('======== Epoch {:} / {:} ========'.format(epoch_i + 1, epochs))\n",
    "    print('Training...')\n",
    "\n",
    "    t0 = time.time()\n",
    "    total_train_loss = 0\n",
    "\n",
    "    model.train()\n",
    "    \n",
    "    i = 0\n",
    "\n",
    "    for step, batch in enumerate(train_dataloader):\n",
    "\n",
    "        # Print progress update \n",
    "        if step % 100 == 0 and not step == 0:\n",
    "            elapsed = format_time(time.time() - t0)\n",
    "            print('  Batch {:>5,}  of  {:>5,}.    Elapsed: {:}.'.format(step, len(train_dataloader), elapsed))\n",
    "\n",
    "        # Unpack the batch from the dataloader and copy each tensor to the GPU\n",
    "        b_input_ids = batch[0].to(device)\n",
    "        b_input_mask = batch[1].to(device)\n",
    "        b_labels = batch[2].to(device)      \n",
    "\n",
    "        # Perform a forward pass (evaluate the model on this training batch) and return the loss (because we provided labels) and the logits\n",
    "        result = model(b_input_ids, \n",
    "                       token_type_ids=None, \n",
    "                       attention_mask=b_input_mask, \n",
    "                       labels=b_labels,\n",
    "                       return_dict=True)\n",
    "\n",
    "        logits = result.logits\n",
    "        loss = loss_fct_train(logits, b_labels)\n",
    "\n",
    "        # Accumulate the training loss over all of the batches so that we can calculate the average loss at the end\n",
    "        total_train_loss += (loss.item() * accumulation_steps)\n",
    "\n",
    "        # Perform a backward pass to calculate the gradients\n",
    "        loss.backward()\n",
    "\n",
    "        if (i+1) % accumulation_steps == 0: \n",
    "\n",
    "            # Clip the norm of the gradients to 1.0. to help prevent the \"exploding gradients\" problem\n",
    "            torch.nn.utils.clip_grad_norm_(model.parameters(), 1.0)\n",
    "\n",
    "            # Update parameters and take a step using the computed gradient\n",
    "            optimizer.step()\n",
    "\n",
    "            # Update the learning rate\n",
    "            scheduler.step()\n",
    "            \n",
    "            # Always clear any previously calculated gradients before performing a backward pass\n",
    "            model.zero_grad() \n",
    "        \n",
    "        i += 1\n",
    "\n",
    "    # Calculate the average loss over all of the batches\n",
    "    avg_train_loss = total_train_loss / len(train_dataloader)            \n",
    "    \n",
    "    # Measure how long this epoch took\n",
    "    training_time = format_time(time.time() - t0)\n",
    "\n",
    "    print(\"\")\n",
    "    print(\"  Average training loss: {0:.2f}\".format(avg_train_loss))\n",
    "    print(\"  Training epoch took: {:}\".format(training_time))\n",
    "        \n",
    "    # ========================================\n",
    "    #               Validation\n",
    "    # ========================================\n",
    "\n",
    "    print(\"\")\n",
    "    print(\"Running Validation...\")\n",
    "\n",
    "    t0 = time.time()\n",
    "\n",
    "    model.eval()\n",
    "    \n",
    "    predictions , true_labels = [], []\n",
    "\n",
    "    total_eval_f1 = 0\n",
    "    total_eval_loss = 0\n",
    "    nb_eval_steps = 0\n",
    "\n",
    "    for batch in val_dataloader:\n",
    "        \n",
    "        # Unpack the batch from the dataloader and copy each tensor to the GPU\n",
    "        b_input_ids = batch[0].to(device)\n",
    "        b_input_mask = batch[1].to(device)\n",
    "        b_labels = batch[2].to(device)\n",
    "        \n",
    "        # Tell pytorch not to bother with constructing the compute graph during the forward pass, since this is only needed for backprop (training)\n",
    "        with torch.no_grad():        \n",
    "\n",
    "            # Forward pass, calculate logit predictions\n",
    "            result = model(b_input_ids, \n",
    "                           token_type_ids=None, \n",
    "                           attention_mask=b_input_mask,\n",
    "                           labels=b_labels,\n",
    "                           return_dict=True)\n",
    "\n",
    "        # Get the loss and \"logits\" output by the model\n",
    "        logits = result.logits\n",
    "        loss = loss_fct_val(logits, b_labels)\n",
    "            \n",
    "        # Accumulate the validation loss\n",
    "        total_eval_loss += loss.item()\n",
    "\n",
    "        # Move logits and labels to CPU\n",
    "        logits = logits.detach().cpu().numpy()\n",
    "        label_ids = b_labels.to('cpu').numpy()\n",
    "\n",
    "        # Store predictions and true labels\n",
    "        predictions.append(logits)\n",
    "        true_labels.append(label_ids)\n",
    "        \n",
    "    # Report the final macro F1 score for this validation run\n",
    "    predicted_labels = torch.round(torch.sigmoid(torch.Tensor(np.concatenate(predictions, axis=0)))).numpy().astype(int)\n",
    "    true_labels = np.concatenate(true_labels, axis=0).astype(int)\n",
    "    avg_val_f1 = f1_score(predicted_labels, true_labels, average='macro')\n",
    "    print(\"  Macro F1 score: {0:.2f}\".format(avg_val_f1))    \n",
    "    \n",
    "    # Calculate the average loss over all of the batches\n",
    "    avg_val_loss = total_eval_loss / len(val_dataloader)\n",
    "    \n",
    "    # Measure how long the validation run took\n",
    "    validation_time = format_time(time.time() - t0)\n",
    "    \n",
    "    print(\"  Validation Loss: {0:.2f}\".format(avg_val_loss))\n",
    "    print(\"  Validation took: {:}\".format(validation_time))\n",
    "\n",
    "    # Record all statistics from this epoch\n",
    "    training_stats.append(\n",
    "        {\n",
    "            'epoch': epoch_i + 1,\n",
    "            'Training Loss': avg_train_loss,\n",
    "            'Valid. Loss': avg_val_loss,\n",
    "            'Valid. Macro F1 score.': avg_val_f1,\n",
    "            'Training Time': training_time,\n",
    "            'Validation Time': validation_time\n",
    "        }\n",
    "    )\n",
    "    \n",
    "    # Save model from best epoch (lowest validation loss)\n",
    "    min_val_loss = 1\n",
    "    # Get smallest validation loss\n",
    "    for training_stat in training_stats:\n",
    "        if training_stat['Valid. Loss'] < min_val_loss:\n",
    "            min_val_loss = training_stat['Valid. Loss']\n",
    "    if avg_val_loss == min_val_loss:\n",
    "        # Save model (and overwrite previous model if it exists)\n",
    "        torch.save({\n",
    "            'model_state_dict': model.state_dict(),\n",
    "            'optimizer_state_dict': optimizer.state_dict(),\n",
    "        }, 'models/longformer_4096_32.pt')\n",
    "\n",
    "print(\"\")\n",
    "print(\"Training complete!\")\n",
    "\n",
    "print(\"Total training took {:} (h:mm:ss)\".format(format_time(time.time()-total_t0)))"
   ]
  },
  {
   "cell_type": "code",
   "execution_count": 24,
   "metadata": {},
   "outputs": [
    {
     "data": {
      "text/html": [
       "<div>\n",
       "<style scoped>\n",
       "    .dataframe tbody tr th:only-of-type {\n",
       "        vertical-align: middle;\n",
       "    }\n",
       "\n",
       "    .dataframe tbody tr th {\n",
       "        vertical-align: top;\n",
       "    }\n",
       "\n",
       "    .dataframe thead th {\n",
       "        text-align: right;\n",
       "    }\n",
       "</style>\n",
       "<table border=\"1\" class=\"dataframe\">\n",
       "  <thead>\n",
       "    <tr style=\"text-align: right;\">\n",
       "      <th></th>\n",
       "      <th>Training Loss</th>\n",
       "      <th>Valid. Loss</th>\n",
       "      <th>Valid. Macro F1 score.</th>\n",
       "      <th>Training Time</th>\n",
       "      <th>Validation Time</th>\n",
       "    </tr>\n",
       "    <tr>\n",
       "      <th>epoch</th>\n",
       "      <th></th>\n",
       "      <th></th>\n",
       "      <th></th>\n",
       "      <th></th>\n",
       "      <th></th>\n",
       "    </tr>\n",
       "  </thead>\n",
       "  <tbody>\n",
       "    <tr>\n",
       "      <th>1</th>\n",
       "      <td>17.657926</td>\n",
       "      <td>0.642972</td>\n",
       "      <td>0.643694</td>\n",
       "      <td>1:14:39</td>\n",
       "      <td>0:04:12</td>\n",
       "    </tr>\n",
       "    <tr>\n",
       "      <th>2</th>\n",
       "      <td>13.827334</td>\n",
       "      <td>0.591591</td>\n",
       "      <td>0.568659</td>\n",
       "      <td>1:24:37</td>\n",
       "      <td>0:05:41</td>\n",
       "    </tr>\n",
       "    <tr>\n",
       "      <th>...</th>\n",
       "      <td>...</td>\n",
       "      <td>...</td>\n",
       "      <td>...</td>\n",
       "      <td>...</td>\n",
       "      <td>...</td>\n",
       "    </tr>\n",
       "    <tr>\n",
       "      <th>9</th>\n",
       "      <td>6.428110</td>\n",
       "      <td>0.568708</td>\n",
       "      <td>0.706037</td>\n",
       "      <td>0:51:29</td>\n",
       "      <td>0:03:10</td>\n",
       "    </tr>\n",
       "    <tr>\n",
       "      <th>10</th>\n",
       "      <td>5.784703</td>\n",
       "      <td>0.490839</td>\n",
       "      <td>0.759028</td>\n",
       "      <td>0:46:31</td>\n",
       "      <td>0:02:33</td>\n",
       "    </tr>\n",
       "  </tbody>\n",
       "</table>\n",
       "<p>10 rows × 5 columns</p>\n",
       "</div>"
      ],
      "text/plain": [
       "       Training Loss  Valid. Loss  Valid. Macro F1 score. Training Time  \\\n",
       "epoch                                                                     \n",
       "1          17.657926     0.642972                0.643694       1:14:39   \n",
       "2          13.827334     0.591591                0.568659       1:24:37   \n",
       "...              ...          ...                     ...           ...   \n",
       "9           6.428110     0.568708                0.706037       0:51:29   \n",
       "10          5.784703     0.490839                0.759028       0:46:31   \n",
       "\n",
       "      Validation Time  \n",
       "epoch                  \n",
       "1             0:04:12  \n",
       "2             0:05:41  \n",
       "...               ...  \n",
       "9             0:03:10  \n",
       "10            0:02:33  \n",
       "\n",
       "[10 rows x 5 columns]"
      ]
     },
     "execution_count": 24,
     "metadata": {},
     "output_type": "execute_result"
    }
   ],
   "source": [
    "# Look at training summary\n",
    "\n",
    "df_stats = pd.DataFrame(data=training_stats)\n",
    "df_stats = df_stats.set_index('epoch')\n",
    "df_stats"
   ]
  },
  {
   "cell_type": "code",
   "execution_count": 25,
   "metadata": {},
   "outputs": [
    {
     "data": {
      "image/png": "[encoded data removed]",
      "text/plain": [
       "<Figure size 864x432 with 1 Axes>"
      ]
     },
     "metadata": {},
     "output_type": "display_data"
    }
   ],
   "source": [
    "# Plot the learning curve\n",
    "\n",
    "sns.set(style='darkgrid')\n",
    "# sns.set(font_scale=1.5)\n",
    "plt.rcParams[\"figure.figsize\"] = (12,6)\n",
    "\n",
    "plt.plot(df_stats['Training Loss'], 'b-o', label=\"Training\")\n",
    "plt.plot(df_stats['Valid. Loss'], 'g-o', label=\"Validation\")\n",
    "\n",
    "plt.title(\"Training & Validation Loss\")\n",
    "plt.xlabel(\"Epoch\")\n",
    "plt.ylabel(\"Loss\")\n",
    "plt.legend()\n",
    "plt.xticks(list(range(1,epochs+1)))\n",
    "\n",
    "plt.show()"
   ]
  },
  {
   "cell_type": "code",
   "execution_count": 26,
   "metadata": {},
   "outputs": [],
   "source": [
    "# Restore best model\n",
    "\n",
    "checkpoint = torch.load('models/longformer_4096_32.pt')\n",
    "model.load_state_dict(checkpoint['model_state_dict'])\n",
    "optimizer.load_state_dict(checkpoint['optimizer_state_dict'])"
   ]
  },
  {
   "cell_type": "markdown",
   "metadata": {},
   "source": [
    "## 4. Predict on test set"
   ]
  },
  {
   "cell_type": "code",
   "execution_count": 27,
   "metadata": {},
   "outputs": [
    {
     "data": {
      "application/vnd.jupyter.widget-view+json": {
       "model_id": "3a649beee4454de7b3139391f1fd4fcf",
       "version_major": 2,
       "version_minor": 0
      },
      "text/plain": [
       "  0%|          | 0/1308 [00:00<?, ?it/s]"
      ]
     },
     "metadata": {},
     "output_type": "display_data"
    }
   ],
   "source": [
    "model.eval()\n",
    "\n",
    "predictions , true_labels = [], []\n",
    "\n",
    "# Predict \n",
    "for batch in tqdm(test_dataloader):\n",
    "    \n",
    "    # Unpack the betch from the dataloader and copy each tensor to the GPU\n",
    "    b_input_ids = batch[0].to(device)\n",
    "    b_input_mask = batch[1].to(device)\n",
    "    b_labels = batch[2].to(device)\n",
    "  \n",
    "    with torch.no_grad():\n",
    "        # Forward pass: calculate logit predictions\n",
    "        result = model(b_input_ids, \n",
    "                     token_type_ids=None, \n",
    "                     attention_mask=b_input_mask,\n",
    "                     return_dict=True)\n",
    "    logits = result.logits\n",
    "\n",
    "    # Move logits and labels to CPU\n",
    "    logits = logits.detach().cpu().numpy()\n",
    "    label_ids = b_labels.to('cpu').numpy()\n",
    "  \n",
    "    # Store predictions and true labels\n",
    "    predictions.append(logits)\n",
    "    true_labels.append(label_ids)\n",
    "\n",
    "# Transform output for further use\n",
    "predicted_labels = torch.round(torch.sigmoid(torch.Tensor(np.concatenate(predictions, axis=0)))).numpy().astype(int)\n",
    "true_labels = np.concatenate(true_labels, axis=0).astype(int)"
   ]
  },
  {
   "cell_type": "code",
   "execution_count": 28,
   "metadata": {},
   "outputs": [
    {
     "name": "stdout",
     "output_type": "stream",
     "text": [
      "              precision    recall  f1-score   support\n",
      "\n",
      "           0       0.72      0.73      0.73       156\n",
      "           1       0.91      0.70      0.79      1077\n",
      "           2       0.86      0.66      0.75      1041\n",
      "           3       0.90      0.76      0.82       981\n",
      "           4       0.90      0.74      0.81      1011\n",
      "           5       0.85      0.75      0.79       958\n",
      "           6       0.87      0.78      0.82       899\n",
      "           7       0.70      0.72      0.71       153\n",
      "           8       0.94      0.73      0.82      1116\n",
      "           9       0.83      0.62      0.71       828\n",
      "          10       0.74      0.80      0.77       472\n",
      "          11       0.89      0.76      0.82       930\n",
      "          12       0.71      0.72      0.71       153\n",
      "\n",
      "   micro avg       0.87      0.73      0.79      9775\n",
      "   macro avg       0.83      0.73      0.77      9775\n",
      "weighted avg       0.87      0.73      0.79      9775\n",
      " samples avg       0.72      0.66      0.66      9775\n",
      "\n"
     ]
    },
    {
     "data": {
      "image/png": "[encoded data removed]",
      "text/plain": [
       "<Figure size 1080x1584 with 28 Axes>"
      ]
     },
     "metadata": {},
     "output_type": "display_data"
    }
   ],
   "source": [
    "# Print classification report\n",
    "print(classification_report(true_labels, predicted_labels))\n",
    "\n",
    "# Plot confusion matrices for each label\n",
    "sdgs = [1, 3, 4, 5, 6, 7, 8, 11, 12, 13, 15, 16, 17]\n",
    "counter = 0\n",
    "fig, axes = plt.subplots(nrows=5, ncols=3, figsize=(15, 22))\n",
    "plt.subplots_adjust(hspace=0.5)\n",
    "for ax in axes.flatten():\n",
    "    if counter <= 12:\n",
    "        cm = confusion_matrix(true_labels[:, counter], predicted_labels[:, counter])\n",
    "        sns.heatmap(cm, annot=True, fmt=\"g\", ax=ax, cmap=\"Greens\")\n",
    "        ax.set_title(\"SDG \" + str(sdgs[counter]))\n",
    "        ax.set_xlabel(\"Predicted labels\")\n",
    "        ax.set_ylabel(\"True labels\")\n",
    "        counter += 1\n",
    "    else:\n",
    "        ax.set_visible(False)\n",
    "        counter += 1"
   ]
  }
 ],
 "metadata": {
  "accelerator": "GPU",
  "colab": {
   "collapsed_sections": [
    "Yfbm6ImQ-7vf",
    "n4Z-kw6JBKXU",
    "LPDGpSCvB3Cm"
   ],
   "name": "05_Longformer.ipynb",
   "provenance": []
  },
  "kernelspec": {
   "display_name": "Python 3 (ipykernel)",
   "language": "python",
   "name": "python3"
  },
  "language_info": {
   "codemirror_mode": {
    "name": "ipython",
    "version": 3
   },
   "file_extension": ".py",
   "mimetype": "text/x-python",
   "name": "python",
   "nbconvert_exporter": "python",
   "pygments_lexer": "ipython3",
   "version": "3.8.12"
  },
  "widgets": {
   "application/vnd.jupyter.widget-state+json": {
    "008850e5449240089fca25a482abdbbf": {
     "model_module": "@jupyter-widgets/controls",
     "model_module_version": "1.5.0",
     "model_name": "DescriptionStyleModel",
     "state": {
      "_model_module": "@jupyter-widgets/controls",
      "_model_module_version": "1.5.0",
      "_model_name": "DescriptionStyleModel",
      "_view_count": null,
      "_view_module": "@jupyter-widgets/base",
      "_view_module_version": "1.2.0",
      "_view_name": "StyleView",
      "description_width": ""
     }
    },
    "016524887cab4a17a51671813bf8f7c1": {
     "model_module": "@jupyter-widgets/base",
     "model_module_version": "1.2.0",
     "model_name": "LayoutModel",
     "state": {
      "_model_module": "@jupyter-widgets/base",
      "_model_module_version": "1.2.0",
      "_model_name": "LayoutModel",
      "_view_count": null,
      "_view_module": "@jupyter-widgets/base",
      "_view_module_version": "1.2.0",
      "_view_name": "LayoutView",
      "align_content": null,
      "align_items": null,
      "align_self": null,
      "border": null,
      "bottom": null,
      "display": null,
      "flex": null,
      "flex_flow": null,
      "grid_area": null,
      "grid_auto_columns": null,
      "grid_auto_flow": null,
      "grid_auto_rows": null,
      "grid_column": null,
      "grid_gap": null,
      "grid_row": null,
      "grid_template_areas": null,
      "grid_template_columns": null,
      "grid_template_rows": null,
      "height": null,
      "justify_content": null,
      "justify_items": null,
      "left": null,
      "margin": null,
      "max_height": null,
      "max_width": null,
      "min_height": null,
      "min_width": null,
      "object_fit": null,
      "object_position": null,
      "order": null,
      "overflow": null,
      "overflow_x": null,
      "overflow_y": null,
      "padding": null,
      "right": null,
      "top": null,
      "visibility": null,
      "width": null
     }
    },
    "03800f50e97b49a8ac6d6b9bf406c014": {
     "model_module": "@jupyter-widgets/controls",
     "model_module_version": "1.5.0",
     "model_name": "DescriptionStyleModel",
     "state": {
      "_model_module": "@jupyter-widgets/controls",
      "_model_module_version": "1.5.0",
      "_model_name": "DescriptionStyleModel",
      "_view_count": null,
      "_view_module": "@jupyter-widgets/base",
      "_view_module_version": "1.2.0",
      "_view_name": "StyleView",
      "description_width": ""
     }
    },
    "039f975c301a478ea4c2d988852a3e65": {
     "model_module": "@jupyter-widgets/controls",
     "model_module_version": "1.5.0",
     "model_name": "DescriptionStyleModel",
     "state": {
      "_model_module": "@jupyter-widgets/controls",
      "_model_module_version": "1.5.0",
      "_model_name": "DescriptionStyleModel",
      "_view_count": null,
      "_view_module": "@jupyter-widgets/base",
      "_view_module_version": "1.2.0",
      "_view_name": "StyleView",
      "description_width": ""
     }
    },
    "04bdd218313f4c459f820f52ffe7e769": {
     "model_module": "@jupyter-widgets/base",
     "model_module_version": "1.2.0",
     "model_name": "LayoutModel",
     "state": {
      "_model_module": "@jupyter-widgets/base",
      "_model_module_version": "1.2.0",
      "_model_name": "LayoutModel",
      "_view_count": null,
      "_view_module": "@jupyter-widgets/base",
      "_view_module_version": "1.2.0",
      "_view_name": "LayoutView",
      "align_content": null,
      "align_items": null,
      "align_self": null,
      "border": null,
      "bottom": null,
      "display": null,
      "flex": null,
      "flex_flow": null,
      "grid_area": null,
      "grid_auto_columns": null,
      "grid_auto_flow": null,
      "grid_auto_rows": null,
      "grid_column": null,
      "grid_gap": null,
      "grid_row": null,
      "grid_template_areas": null,
      "grid_template_columns": null,
      "grid_template_rows": null,
      "height": null,
      "justify_content": null,
      "justify_items": null,
      "left": null,
      "margin": null,
      "max_height": null,
      "max_width": null,
      "min_height": null,
      "min_width": null,
      "object_fit": null,
      "object_position": null,
      "order": null,
      "overflow": null,
      "overflow_x": null,
      "overflow_y": null,
      "padding": null,
      "right": null,
      "top": null,
      "visibility": null,
      "width": null
     }
    },
    "08bc372ce9664a2ca32b5aabe0103675": {
     "model_module": "@jupyter-widgets/controls",
     "model_module_version": "1.5.0",
     "model_name": "HTMLModel",
     "state": {
      "_dom_classes": [],
      "_model_module": "@jupyter-widgets/controls",
      "_model_module_version": "1.5.0",
      "_model_name": "HTMLModel",
      "_view_count": null,
      "_view_module": "@jupyter-widgets/controls",
      "_view_module_version": "1.5.0",
      "_view_name": "HTMLView",
      "description": "",
      "description_tooltip": null,
      "layout": "IPY_MODEL_1c63fe6b0af94fdcaf5acaa526d7a883",
      "placeholder": "​",
      "style": "IPY_MODEL_ba33bf99d8a9450fac7cad3c4772ea67",
      "value": "Downloading: 100%"
     }
    },
    "08c83720c64f42aaa6fcb4a424fd0411": {
     "model_module": "@jupyter-widgets/controls",
     "model_module_version": "1.5.0",
     "model_name": "FloatProgressModel",
     "state": {
      "_dom_classes": [],
      "_model_module": "@jupyter-widgets/controls",
      "_model_module_version": "1.5.0",
      "_model_name": "FloatProgressModel",
      "_view_count": null,
      "_view_module": "@jupyter-widgets/controls",
      "_view_module_version": "1.5.0",
      "_view_name": "ProgressView",
      "bar_style": "success",
      "description": "",
      "description_tooltip": null,
      "layout": "IPY_MODEL_f4b61aa632744f7d8187039b26813d25",
      "max": 29,
      "min": 0,
      "orientation": "horizontal",
      "style": "IPY_MODEL_e8d3b0b9718f4dabb53ce30d4bd5bf67",
      "value": 29
     }
    },
    "0db5ecbb76c74bbba6b10cc604239254": {
     "model_module": "@jupyter-widgets/controls",
     "model_module_version": "1.5.0",
     "model_name": "HBoxModel",
     "state": {
      "_dom_classes": [],
      "_model_module": "@jupyter-widgets/controls",
      "_model_module_version": "1.5.0",
      "_model_name": "HBoxModel",
      "_view_count": null,
      "_view_module": "@jupyter-widgets/controls",
      "_view_module_version": "1.5.0",
      "_view_name": "HBoxView",
      "box_style": "",
      "children": [
       "IPY_MODEL_b67bcadaf8a849cb8b35002ad99a47ba",
       "IPY_MODEL_08c83720c64f42aaa6fcb4a424fd0411",
       "IPY_MODEL_7525b3f44436498db69112fd63e52309"
      ],
      "layout": "IPY_MODEL_e8f01e9382304533923ff66a659c6e71"
     }
    },
    "0ee9aaf58a854ca697e00fcf06cea6ff": {
     "model_module": "@jupyter-widgets/controls",
     "model_module_version": "1.5.0",
     "model_name": "HTMLModel",
     "state": {
      "_dom_classes": [],
      "_model_module": "@jupyter-widgets/controls",
      "_model_module_version": "1.5.0",
      "_model_name": "HTMLModel",
      "_view_count": null,
      "_view_module": "@jupyter-widgets/controls",
      "_view_module_version": "1.5.0",
      "_view_name": "HTMLView",
      "description": "",
      "description_tooltip": null,
      "layout": "IPY_MODEL_5a03bcd8bc5a4d75896f9158971bf28f",
      "placeholder": "​",
      "style": "IPY_MODEL_008850e5449240089fca25a482abdbbf",
      "value": "Downloading: 100%"
     }
    },
    "11ce621711f8483d82f8286e2a5bbae7": {
     "model_module": "@jupyter-widgets/controls",
     "model_module_version": "1.5.0",
     "model_name": "FloatProgressModel",
     "state": {
      "_dom_classes": [],
      "_model_module": "@jupyter-widgets/controls",
      "_model_module_version": "1.5.0",
      "_model_name": "FloatProgressModel",
      "_view_count": null,
      "_view_module": "@jupyter-widgets/controls",
      "_view_module_version": "1.5.0",
      "_view_name": "ProgressView",
      "bar_style": "success",
      "description": "",
      "description_tooltip": null,
      "layout": "IPY_MODEL_1b41ed57a7e545ab837f1258de831a23",
      "max": 435797,
      "min": 0,
      "orientation": "horizontal",
      "style": "IPY_MODEL_42959c61765f4405a840295edeafd2cf",
      "value": 435797
     }
    },
    "153af96145d34f3f8e6de00e8283b4c4": {
     "model_module": "@jupyter-widgets/controls",
     "model_module_version": "1.5.0",
     "model_name": "ProgressStyleModel",
     "state": {
      "_model_module": "@jupyter-widgets/controls",
      "_model_module_version": "1.5.0",
      "_model_name": "ProgressStyleModel",
      "_view_count": null,
      "_view_module": "@jupyter-widgets/base",
      "_view_module_version": "1.2.0",
      "_view_name": "StyleView",
      "bar_color": null,
      "description_width": ""
     }
    },
    "1b41ed57a7e545ab837f1258de831a23": {
     "model_module": "@jupyter-widgets/base",
     "model_module_version": "1.2.0",
     "model_name": "LayoutModel",
     "state": {
      "_model_module": "@jupyter-widgets/base",
      "_model_module_version": "1.2.0",
      "_model_name": "LayoutModel",
      "_view_count": null,
      "_view_module": "@jupyter-widgets/base",
      "_view_module_version": "1.2.0",
      "_view_name": "LayoutView",
      "align_content": null,
      "align_items": null,
      "align_self": null,
      "border": null,
      "bottom": null,
      "display": null,
      "flex": null,
      "flex_flow": null,
      "grid_area": null,
      "grid_auto_columns": null,
      "grid_auto_flow": null,
      "grid_auto_rows": null,
      "grid_column": null,
      "grid_gap": null,
      "grid_row": null,
      "grid_template_areas": null,
      "grid_template_columns": null,
      "grid_template_rows": null,
      "height": null,
      "justify_content": null,
      "justify_items": null,
      "left": null,
      "margin": null,
      "max_height": null,
      "max_width": null,
      "min_height": null,
      "min_width": null,
      "object_fit": null,
      "object_position": null,
      "order": null,
      "overflow": null,
      "overflow_x": null,
      "overflow_y": null,
      "padding": null,
      "right": null,
      "top": null,
      "visibility": null,
      "width": null
     }
    },
    "1c63fe6b0af94fdcaf5acaa526d7a883": {
     "model_module": "@jupyter-widgets/base",
     "model_module_version": "1.2.0",
     "model_name": "LayoutModel",
     "state": {
      "_model_module": "@jupyter-widgets/base",
      "_model_module_version": "1.2.0",
      "_model_name": "LayoutModel",
      "_view_count": null,
      "_view_module": "@jupyter-widgets/base",
      "_view_module_version": "1.2.0",
      "_view_name": "LayoutView",
      "align_content": null,
      "align_items": null,
      "align_self": null,
      "border": null,
      "bottom": null,
      "display": null,
      "flex": null,
      "flex_flow": null,
      "grid_area": null,
      "grid_auto_columns": null,
      "grid_auto_flow": null,
      "grid_auto_rows": null,
      "grid_column": null,
      "grid_gap": null,
      "grid_row": null,
      "grid_template_areas": null,
      "grid_template_columns": null,
      "grid_template_rows": null,
      "height": null,
      "justify_content": null,
      "justify_items": null,
      "left": null,
      "margin": null,
      "max_height": null,
      "max_width": null,
      "min_height": null,
      "min_width": null,
      "object_fit": null,
      "object_position": null,
      "order": null,
      "overflow": null,
      "overflow_x": null,
      "overflow_y": null,
      "padding": null,
      "right": null,
      "top": null,
      "visibility": null,
      "width": null
     }
    },
    "1cc5a790c46e430fb5314b3150cade8e": {
     "model_module": "@jupyter-widgets/controls",
     "model_module_version": "1.5.0",
     "model_name": "HTMLModel",
     "state": {
      "_dom_classes": [],
      "_model_module": "@jupyter-widgets/controls",
      "_model_module_version": "1.5.0",
      "_model_name": "HTMLModel",
      "_view_count": null,
      "_view_module": "@jupyter-widgets/controls",
      "_view_module_version": "1.5.0",
      "_view_name": "HTMLView",
      "description": "",
      "description_tooltip": null,
      "layout": "IPY_MODEL_a41192eb6d2145208cab617196425861",
      "placeholder": "​",
      "style": "IPY_MODEL_2aa9c8f9167642aba5af6ab803d5a5db",
      "value": "Downloading: 100%"
     }
    },
    "2066b972b91747a38dd46cf968a6b513": {
     "model_module": "@jupyter-widgets/base",
     "model_module_version": "1.2.0",
     "model_name": "LayoutModel",
     "state": {
      "_model_module": "@jupyter-widgets/base",
      "_model_module_version": "1.2.0",
      "_model_name": "LayoutModel",
      "_view_count": null,
      "_view_module": "@jupyter-widgets/base",
      "_view_module_version": "1.2.0",
      "_view_name": "LayoutView",
      "align_content": null,
      "align_items": null,
      "align_self": null,
      "border": null,
      "bottom": null,
      "display": null,
      "flex": null,
      "flex_flow": null,
      "grid_area": null,
      "grid_auto_columns": null,
      "grid_auto_flow": null,
      "grid_auto_rows": null,
      "grid_column": null,
      "grid_gap": null,
      "grid_row": null,
      "grid_template_areas": null,
      "grid_template_columns": null,
      "grid_template_rows": null,
      "height": null,
      "justify_content": null,
      "justify_items": null,
      "left": null,
      "margin": null,
      "max_height": null,
      "max_width": null,
      "min_height": null,
      "min_width": null,
      "object_fit": null,
      "object_position": null,
      "order": null,
      "overflow": null,
      "overflow_x": null,
      "overflow_y": null,
      "padding": null,
      "right": null,
      "top": null,
      "visibility": null,
      "width": null
     }
    },
    "20fd169ccc5e49ee87ec3898376c607c": {
     "model_module": "@jupyter-widgets/controls",
     "model_module_version": "1.5.0",
     "model_name": "DescriptionStyleModel",
     "state": {
      "_model_module": "@jupyter-widgets/controls",
      "_model_module_version": "1.5.0",
      "_model_name": "DescriptionStyleModel",
      "_view_count": null,
      "_view_module": "@jupyter-widgets/base",
      "_view_module_version": "1.2.0",
      "_view_name": "StyleView",
      "description_width": ""
     }
    },
    "2199304dd9ff4351a5afe552f5a3d246": {
     "model_module": "@jupyter-widgets/base",
     "model_module_version": "1.2.0",
     "model_name": "LayoutModel",
     "state": {
      "_model_module": "@jupyter-widgets/base",
      "_model_module_version": "1.2.0",
      "_model_name": "LayoutModel",
      "_view_count": null,
      "_view_module": "@jupyter-widgets/base",
      "_view_module_version": "1.2.0",
      "_view_name": "LayoutView",
      "align_content": null,
      "align_items": null,
      "align_self": null,
      "border": null,
      "bottom": null,
      "display": null,
      "flex": null,
      "flex_flow": null,
      "grid_area": null,
      "grid_auto_columns": null,
      "grid_auto_flow": null,
      "grid_auto_rows": null,
      "grid_column": null,
      "grid_gap": null,
      "grid_row": null,
      "grid_template_areas": null,
      "grid_template_columns": null,
      "grid_template_rows": null,
      "height": null,
      "justify_content": null,
      "justify_items": null,
      "left": null,
      "margin": null,
      "max_height": null,
      "max_width": null,
      "min_height": null,
      "min_width": null,
      "object_fit": null,
      "object_position": null,
      "order": null,
      "overflow": null,
      "overflow_x": null,
      "overflow_y": null,
      "padding": null,
      "right": null,
      "top": null,
      "visibility": null,
      "width": null
     }
    },
    "21af39ed71ce4dc5ae4bd0cf06894833": {
     "model_module": "@jupyter-widgets/base",
     "model_module_version": "1.2.0",
     "model_name": "LayoutModel",
     "state": {
      "_model_module": "@jupyter-widgets/base",
      "_model_module_version": "1.2.0",
      "_model_name": "LayoutModel",
      "_view_count": null,
      "_view_module": "@jupyter-widgets/base",
      "_view_module_version": "1.2.0",
      "_view_name": "LayoutView",
      "align_content": null,
      "align_items": null,
      "align_self": null,
      "border": null,
      "bottom": null,
      "display": null,
      "flex": null,
      "flex_flow": null,
      "grid_area": null,
      "grid_auto_columns": null,
      "grid_auto_flow": null,
      "grid_auto_rows": null,
      "grid_column": null,
      "grid_gap": null,
      "grid_row": null,
      "grid_template_areas": null,
      "grid_template_columns": null,
      "grid_template_rows": null,
      "height": null,
      "justify_content": null,
      "justify_items": null,
      "left": null,
      "margin": null,
      "max_height": null,
      "max_width": null,
      "min_height": null,
      "min_width": null,
      "object_fit": null,
      "object_position": null,
      "order": null,
      "overflow": null,
      "overflow_x": null,
      "overflow_y": null,
      "padding": null,
      "right": null,
      "top": null,
      "visibility": null,
      "width": null
     }
    },
    "291bf7010fd94663ba48287c669dc812": {
     "model_module": "@jupyter-widgets/base",
     "model_module_version": "1.2.0",
     "model_name": "LayoutModel",
     "state": {
      "_model_module": "@jupyter-widgets/base",
      "_model_module_version": "1.2.0",
      "_model_name": "LayoutModel",
      "_view_count": null,
      "_view_module": "@jupyter-widgets/base",
      "_view_module_version": "1.2.0",
      "_view_name": "LayoutView",
      "align_content": null,
      "align_items": null,
      "align_self": null,
      "border": null,
      "bottom": null,
      "display": null,
      "flex": null,
      "flex_flow": null,
      "grid_area": null,
      "grid_auto_columns": null,
      "grid_auto_flow": null,
      "grid_auto_rows": null,
      "grid_column": null,
      "grid_gap": null,
      "grid_row": null,
      "grid_template_areas": null,
      "grid_template_columns": null,
      "grid_template_rows": null,
      "height": null,
      "justify_content": null,
      "justify_items": null,
      "left": null,
      "margin": null,
      "max_height": null,
      "max_width": null,
      "min_height": null,
      "min_width": null,
      "object_fit": null,
      "object_position": null,
      "order": null,
      "overflow": null,
      "overflow_x": null,
      "overflow_y": null,
      "padding": null,
      "right": null,
      "top": null,
      "visibility": null,
      "width": null
     }
    },
    "2a26a6ba4b524dbe8da3db267c246216": {
     "model_module": "@jupyter-widgets/controls",
     "model_module_version": "1.5.0",
     "model_name": "DescriptionStyleModel",
     "state": {
      "_model_module": "@jupyter-widgets/controls",
      "_model_module_version": "1.5.0",
      "_model_name": "DescriptionStyleModel",
      "_view_count": null,
      "_view_module": "@jupyter-widgets/base",
      "_view_module_version": "1.2.0",
      "_view_name": "StyleView",
      "description_width": ""
     }
    },
    "2aa9c8f9167642aba5af6ab803d5a5db": {
     "model_module": "@jupyter-widgets/controls",
     "model_module_version": "1.5.0",
     "model_name": "DescriptionStyleModel",
     "state": {
      "_model_module": "@jupyter-widgets/controls",
      "_model_module_version": "1.5.0",
      "_model_name": "DescriptionStyleModel",
      "_view_count": null,
      "_view_module": "@jupyter-widgets/base",
      "_view_module_version": "1.2.0",
      "_view_name": "StyleView",
      "description_width": ""
     }
    },
    "2c6f5d07b9ca451392e729e35530b3ec": {
     "model_module": "@jupyter-widgets/base",
     "model_module_version": "1.2.0",
     "model_name": "LayoutModel",
     "state": {
      "_model_module": "@jupyter-widgets/base",
      "_model_module_version": "1.2.0",
      "_model_name": "LayoutModel",
      "_view_count": null,
      "_view_module": "@jupyter-widgets/base",
      "_view_module_version": "1.2.0",
      "_view_name": "LayoutView",
      "align_content": null,
      "align_items": null,
      "align_self": null,
      "border": null,
      "bottom": null,
      "display": null,
      "flex": null,
      "flex_flow": null,
      "grid_area": null,
      "grid_auto_columns": null,
      "grid_auto_flow": null,
      "grid_auto_rows": null,
      "grid_column": null,
      "grid_gap": null,
      "grid_row": null,
      "grid_template_areas": null,
      "grid_template_columns": null,
      "grid_template_rows": null,
      "height": null,
      "justify_content": null,
      "justify_items": null,
      "left": null,
      "margin": null,
      "max_height": null,
      "max_width": null,
      "min_height": null,
      "min_width": null,
      "object_fit": null,
      "object_position": null,
      "order": null,
      "overflow": null,
      "overflow_x": null,
      "overflow_y": null,
      "padding": null,
      "right": null,
      "top": null,
      "visibility": null,
      "width": null
     }
    },
    "2d063cc750e64aa0846d11c685bc1753": {
     "model_module": "@jupyter-widgets/base",
     "model_module_version": "1.2.0",
     "model_name": "LayoutModel",
     "state": {
      "_model_module": "@jupyter-widgets/base",
      "_model_module_version": "1.2.0",
      "_model_name": "LayoutModel",
      "_view_count": null,
      "_view_module": "@jupyter-widgets/base",
      "_view_module_version": "1.2.0",
      "_view_name": "LayoutView",
      "align_content": null,
      "align_items": null,
      "align_self": null,
      "border": null,
      "bottom": null,
      "display": null,
      "flex": null,
      "flex_flow": null,
      "grid_area": null,
      "grid_auto_columns": null,
      "grid_auto_flow": null,
      "grid_auto_rows": null,
      "grid_column": null,
      "grid_gap": null,
      "grid_row": null,
      "grid_template_areas": null,
      "grid_template_columns": null,
      "grid_template_rows": null,
      "height": null,
      "justify_content": null,
      "justify_items": null,
      "left": null,
      "margin": null,
      "max_height": null,
      "max_width": null,
      "min_height": null,
      "min_width": null,
      "object_fit": null,
      "object_position": null,
      "order": null,
      "overflow": null,
      "overflow_x": null,
      "overflow_y": null,
      "padding": null,
      "right": null,
      "top": null,
      "visibility": null,
      "width": null
     }
    },
    "30d3ca112d0f447db72d64dfe70b1336": {
     "model_module": "@jupyter-widgets/controls",
     "model_module_version": "1.5.0",
     "model_name": "DescriptionStyleModel",
     "state": {
      "_model_module": "@jupyter-widgets/controls",
      "_model_module_version": "1.5.0",
      "_model_name": "DescriptionStyleModel",
      "_view_count": null,
      "_view_module": "@jupyter-widgets/base",
      "_view_module_version": "1.2.0",
      "_view_name": "StyleView",
      "description_width": ""
     }
    },
    "33be17b0ddd8464cb18df3ce248abc95": {
     "model_module": "@jupyter-widgets/base",
     "model_module_version": "1.2.0",
     "model_name": "LayoutModel",
     "state": {
      "_model_module": "@jupyter-widgets/base",
      "_model_module_version": "1.2.0",
      "_model_name": "LayoutModel",
      "_view_count": null,
      "_view_module": "@jupyter-widgets/base",
      "_view_module_version": "1.2.0",
      "_view_name": "LayoutView",
      "align_content": null,
      "align_items": null,
      "align_self": null,
      "border": null,
      "bottom": null,
      "display": null,
      "flex": null,
      "flex_flow": null,
      "grid_area": null,
      "grid_auto_columns": null,
      "grid_auto_flow": null,
      "grid_auto_rows": null,
      "grid_column": null,
      "grid_gap": null,
      "grid_row": null,
      "grid_template_areas": null,
      "grid_template_columns": null,
      "grid_template_rows": null,
      "height": null,
      "justify_content": null,
      "justify_items": null,
      "left": null,
      "margin": null,
      "max_height": null,
      "max_width": null,
      "min_height": null,
      "min_width": null,
      "object_fit": null,
      "object_position": null,
      "order": null,
      "overflow": null,
      "overflow_x": null,
      "overflow_y": null,
      "padding": null,
      "right": null,
      "top": null,
      "visibility": null,
      "width": null
     }
    },
    "395539bda7d746ce90ea71b43c575d37": {
     "model_module": "@jupyter-widgets/controls",
     "model_module_version": "1.5.0",
     "model_name": "HBoxModel",
     "state": {
      "_dom_classes": [],
      "_model_module": "@jupyter-widgets/controls",
      "_model_module_version": "1.5.0",
      "_model_name": "HBoxModel",
      "_view_count": null,
      "_view_module": "@jupyter-widgets/controls",
      "_view_module_version": "1.5.0",
      "_view_name": "HBoxView",
      "box_style": "",
      "children": [
       "IPY_MODEL_d90b37c36d104ae7a9e8b3cb9ffeb8a7",
       "IPY_MODEL_3cf74ce7751d4d1682d5bea43b6a076a",
       "IPY_MODEL_90ffecf062044c459752dc13992355c8"
      ],
      "layout": "IPY_MODEL_6954298f37bb4a8aabd602fcc37597fa"
     }
    },
    "3955dad51e244f6f96c3cc5b48aaa724": {
     "model_module": "@jupyter-widgets/controls",
     "model_module_version": "1.5.0",
     "model_name": "HTMLModel",
     "state": {
      "_dom_classes": [],
      "_model_module": "@jupyter-widgets/controls",
      "_model_module_version": "1.5.0",
      "_model_name": "HTMLModel",
      "_view_count": null,
      "_view_module": "@jupyter-widgets/controls",
      "_view_module_version": "1.5.0",
      "_view_name": "HTMLView",
      "description": "",
      "description_tooltip": null,
      "layout": "IPY_MODEL_2d063cc750e64aa0846d11c685bc1753",
      "placeholder": "​",
      "style": "IPY_MODEL_2a26a6ba4b524dbe8da3db267c246216",
      "value": "Downloading: 100%"
     }
    },
    "3a5388ff2b4a4c998730cd3382bac064": {
     "model_module": "@jupyter-widgets/base",
     "model_module_version": "1.2.0",
     "model_name": "LayoutModel",
     "state": {
      "_model_module": "@jupyter-widgets/base",
      "_model_module_version": "1.2.0",
      "_model_name": "LayoutModel",
      "_view_count": null,
      "_view_module": "@jupyter-widgets/base",
      "_view_module_version": "1.2.0",
      "_view_name": "LayoutView",
      "align_content": null,
      "align_items": null,
      "align_self": null,
      "border": null,
      "bottom": null,
      "display": null,
      "flex": null,
      "flex_flow": null,
      "grid_area": null,
      "grid_auto_columns": null,
      "grid_auto_flow": null,
      "grid_auto_rows": null,
      "grid_column": null,
      "grid_gap": null,
      "grid_row": null,
      "grid_template_areas": null,
      "grid_template_columns": null,
      "grid_template_rows": null,
      "height": null,
      "justify_content": null,
      "justify_items": null,
      "left": null,
      "margin": null,
      "max_height": null,
      "max_width": null,
      "min_height": null,
      "min_width": null,
      "object_fit": null,
      "object_position": null,
      "order": null,
      "overflow": null,
      "overflow_x": null,
      "overflow_y": null,
      "padding": null,
      "right": null,
      "top": null,
      "visibility": null,
      "width": null
     }
    },
    "3ab691d1d1654d77adf5d5cb017a7092": {
     "model_module": "@jupyter-widgets/controls",
     "model_module_version": "1.5.0",
     "model_name": "ProgressStyleModel",
     "state": {
      "_model_module": "@jupyter-widgets/controls",
      "_model_module_version": "1.5.0",
      "_model_name": "ProgressStyleModel",
      "_view_count": null,
      "_view_module": "@jupyter-widgets/base",
      "_view_module_version": "1.2.0",
      "_view_name": "StyleView",
      "bar_color": null,
      "description_width": ""
     }
    },
    "3c73707d4a0a4bb68d9a5a71b26a9a2d": {
     "model_module": "@jupyter-widgets/base",
     "model_module_version": "1.2.0",
     "model_name": "LayoutModel",
     "state": {
      "_model_module": "@jupyter-widgets/base",
      "_model_module_version": "1.2.0",
      "_model_name": "LayoutModel",
      "_view_count": null,
      "_view_module": "@jupyter-widgets/base",
      "_view_module_version": "1.2.0",
      "_view_name": "LayoutView",
      "align_content": null,
      "align_items": null,
      "align_self": null,
      "border": null,
      "bottom": null,
      "display": null,
      "flex": null,
      "flex_flow": null,
      "grid_area": null,
      "grid_auto_columns": null,
      "grid_auto_flow": null,
      "grid_auto_rows": null,
      "grid_column": null,
      "grid_gap": null,
      "grid_row": null,
      "grid_template_areas": null,
      "grid_template_columns": null,
      "grid_template_rows": null,
      "height": null,
      "justify_content": null,
      "justify_items": null,
      "left": null,
      "margin": null,
      "max_height": null,
      "max_width": null,
      "min_height": null,
      "min_width": null,
      "object_fit": null,
      "object_position": null,
      "order": null,
      "overflow": null,
      "overflow_x": null,
      "overflow_y": null,
      "padding": null,
      "right": null,
      "top": null,
      "visibility": null,
      "width": null
     }
    },
    "3cf74ce7751d4d1682d5bea43b6a076a": {
     "model_module": "@jupyter-widgets/controls",
     "model_module_version": "1.5.0",
     "model_name": "FloatProgressModel",
     "state": {
      "_dom_classes": [],
      "_model_module": "@jupyter-widgets/controls",
      "_model_module_version": "1.5.0",
      "_model_name": "FloatProgressModel",
      "_view_count": null,
      "_view_module": "@jupyter-widgets/controls",
      "_view_module_version": "1.5.0",
      "_view_name": "ProgressView",
      "bar_style": "success",
      "description": "",
      "description_tooltip": null,
      "layout": "IPY_MODEL_3c73707d4a0a4bb68d9a5a71b26a9a2d",
      "max": 597257159,
      "min": 0,
      "orientation": "horizontal",
      "style": "IPY_MODEL_3ab691d1d1654d77adf5d5cb017a7092",
      "value": 597257159
     }
    },
    "4124e9298ef74a67b4c8318cd947ebc7": {
     "model_module": "@jupyter-widgets/controls",
     "model_module_version": "1.5.0",
     "model_name": "HTMLModel",
     "state": {
      "_dom_classes": [],
      "_model_module": "@jupyter-widgets/controls",
      "_model_module_version": "1.5.0",
      "_model_name": "HTMLModel",
      "_view_count": null,
      "_view_module": "@jupyter-widgets/controls",
      "_view_module_version": "1.5.0",
      "_view_name": "HTMLView",
      "description": "",
      "description_tooltip": null,
      "layout": "IPY_MODEL_d8472d3f93864e24bf2b6267a48e89dd",
      "placeholder": "​",
      "style": "IPY_MODEL_8867af3b96f344fbaf82884fa1984aad",
      "value": " 1.29M/1.29M [00:00&lt;00:00, 1.51MB/s]"
     }
    },
    "42959c61765f4405a840295edeafd2cf": {
     "model_module": "@jupyter-widgets/controls",
     "model_module_version": "1.5.0",
     "model_name": "ProgressStyleModel",
     "state": {
      "_model_module": "@jupyter-widgets/controls",
      "_model_module_version": "1.5.0",
      "_model_name": "ProgressStyleModel",
      "_view_count": null,
      "_view_module": "@jupyter-widgets/base",
      "_view_module_version": "1.2.0",
      "_view_name": "StyleView",
      "bar_color": null,
      "description_width": ""
     }
    },
    "42eb681d3d354ee3a5dedd80c7181897": {
     "model_module": "@jupyter-widgets/controls",
     "model_module_version": "1.5.0",
     "model_name": "HTMLModel",
     "state": {
      "_dom_classes": [],
      "_model_module": "@jupyter-widgets/controls",
      "_model_module_version": "1.5.0",
      "_model_name": "HTMLModel",
      "_view_count": null,
      "_view_module": "@jupyter-widgets/controls",
      "_view_module_version": "1.5.0",
      "_view_name": "HTMLView",
      "description": "",
      "description_tooltip": null,
      "layout": "IPY_MODEL_2c6f5d07b9ca451392e729e35530b3ec",
      "placeholder": "​",
      "style": "IPY_MODEL_8af1a86d32cb448b9d1ca38ceeaee424",
      "value": "Downloading: 100%"
     }
    },
    "4824885ac28041f394cddf0e2c178833": {
     "model_module": "@jupyter-widgets/controls",
     "model_module_version": "1.5.0",
     "model_name": "HBoxModel",
     "state": {
      "_dom_classes": [],
      "_model_module": "@jupyter-widgets/controls",
      "_model_module_version": "1.5.0",
      "_model_name": "HBoxModel",
      "_view_count": null,
      "_view_module": "@jupyter-widgets/controls",
      "_view_module_version": "1.5.0",
      "_view_name": "HBoxView",
      "box_style": "",
      "children": [
       "IPY_MODEL_0ee9aaf58a854ca697e00fcf06cea6ff",
       "IPY_MODEL_d4526168ce6544f7a50749c1f354d8f4",
       "IPY_MODEL_9824cc785b5c4559b962f179f42c3ab3"
      ],
      "layout": "IPY_MODEL_8c7f395a9f0c44f787fa6fd853fcf8f4"
     }
    },
    "482c92f33d514d55a1fa88357faa9a33": {
     "model_module": "@jupyter-widgets/controls",
     "model_module_version": "1.5.0",
     "model_name": "DescriptionStyleModel",
     "state": {
      "_model_module": "@jupyter-widgets/controls",
      "_model_module_version": "1.5.0",
      "_model_name": "DescriptionStyleModel",
      "_view_count": null,
      "_view_module": "@jupyter-widgets/base",
      "_view_module_version": "1.2.0",
      "_view_name": "StyleView",
      "description_width": ""
     }
    },
    "4caa8c65f0bf4ef89190d6bb3900eb7f": {
     "model_module": "@jupyter-widgets/base",
     "model_module_version": "1.2.0",
     "model_name": "LayoutModel",
     "state": {
      "_model_module": "@jupyter-widgets/base",
      "_model_module_version": "1.2.0",
      "_model_name": "LayoutModel",
      "_view_count": null,
      "_view_module": "@jupyter-widgets/base",
      "_view_module_version": "1.2.0",
      "_view_name": "LayoutView",
      "align_content": null,
      "align_items": null,
      "align_self": null,
      "border": null,
      "bottom": null,
      "display": null,
      "flex": null,
      "flex_flow": null,
      "grid_area": null,
      "grid_auto_columns": null,
      "grid_auto_flow": null,
      "grid_auto_rows": null,
      "grid_column": null,
      "grid_gap": null,
      "grid_row": null,
      "grid_template_areas": null,
      "grid_template_columns": null,
      "grid_template_rows": null,
      "height": null,
      "justify_content": null,
      "justify_items": null,
      "left": null,
      "margin": null,
      "max_height": null,
      "max_width": null,
      "min_height": null,
      "min_width": null,
      "object_fit": null,
      "object_position": null,
      "order": null,
      "overflow": null,
      "overflow_x": null,
      "overflow_y": null,
      "padding": null,
      "right": null,
      "top": null,
      "visibility": null,
      "width": null
     }
    },
    "511a249d783d4f57b54c9bdc79cebf47": {
     "model_module": "@jupyter-widgets/base",
     "model_module_version": "1.2.0",
     "model_name": "LayoutModel",
     "state": {
      "_model_module": "@jupyter-widgets/base",
      "_model_module_version": "1.2.0",
      "_model_name": "LayoutModel",
      "_view_count": null,
      "_view_module": "@jupyter-widgets/base",
      "_view_module_version": "1.2.0",
      "_view_name": "LayoutView",
      "align_content": null,
      "align_items": null,
      "align_self": null,
      "border": null,
      "bottom": null,
      "display": null,
      "flex": null,
      "flex_flow": null,
      "grid_area": null,
      "grid_auto_columns": null,
      "grid_auto_flow": null,
      "grid_auto_rows": null,
      "grid_column": null,
      "grid_gap": null,
      "grid_row": null,
      "grid_template_areas": null,
      "grid_template_columns": null,
      "grid_template_rows": null,
      "height": null,
      "justify_content": null,
      "justify_items": null,
      "left": null,
      "margin": null,
      "max_height": null,
      "max_width": null,
      "min_height": null,
      "min_width": null,
      "object_fit": null,
      "object_position": null,
      "order": null,
      "overflow": null,
      "overflow_x": null,
      "overflow_y": null,
      "padding": null,
      "right": null,
      "top": null,
      "visibility": null,
      "width": null
     }
    },
    "524b1b055c404f40ae0b144ec6041c16": {
     "model_module": "@jupyter-widgets/base",
     "model_module_version": "1.2.0",
     "model_name": "LayoutModel",
     "state": {
      "_model_module": "@jupyter-widgets/base",
      "_model_module_version": "1.2.0",
      "_model_name": "LayoutModel",
      "_view_count": null,
      "_view_module": "@jupyter-widgets/base",
      "_view_module_version": "1.2.0",
      "_view_name": "LayoutView",
      "align_content": null,
      "align_items": null,
      "align_self": null,
      "border": null,
      "bottom": null,
      "display": null,
      "flex": null,
      "flex_flow": null,
      "grid_area": null,
      "grid_auto_columns": null,
      "grid_auto_flow": null,
      "grid_auto_rows": null,
      "grid_column": null,
      "grid_gap": null,
      "grid_row": null,
      "grid_template_areas": null,
      "grid_template_columns": null,
      "grid_template_rows": null,
      "height": null,
      "justify_content": null,
      "justify_items": null,
      "left": null,
      "margin": null,
      "max_height": null,
      "max_width": null,
      "min_height": null,
      "min_width": null,
      "object_fit": null,
      "object_position": null,
      "order": null,
      "overflow": null,
      "overflow_x": null,
      "overflow_y": null,
      "padding": null,
      "right": null,
      "top": null,
      "visibility": null,
      "width": null
     }
    },
    "5736b159023d4d21977f8741fbd282d4": {
     "model_module": "@jupyter-widgets/base",
     "model_module_version": "1.2.0",
     "model_name": "LayoutModel",
     "state": {
      "_model_module": "@jupyter-widgets/base",
      "_model_module_version": "1.2.0",
      "_model_name": "LayoutModel",
      "_view_count": null,
      "_view_module": "@jupyter-widgets/base",
      "_view_module_version": "1.2.0",
      "_view_name": "LayoutView",
      "align_content": null,
      "align_items": null,
      "align_self": null,
      "border": null,
      "bottom": null,
      "display": null,
      "flex": null,
      "flex_flow": null,
      "grid_area": null,
      "grid_auto_columns": null,
      "grid_auto_flow": null,
      "grid_auto_rows": null,
      "grid_column": null,
      "grid_gap": null,
      "grid_row": null,
      "grid_template_areas": null,
      "grid_template_columns": null,
      "grid_template_rows": null,
      "height": null,
      "justify_content": null,
      "justify_items": null,
      "left": null,
      "margin": null,
      "max_height": null,
      "max_width": null,
      "min_height": null,
      "min_width": null,
      "object_fit": null,
      "object_position": null,
      "order": null,
      "overflow": null,
      "overflow_x": null,
      "overflow_y": null,
      "padding": null,
      "right": null,
      "top": null,
      "visibility": null,
      "width": null
     }
    },
    "590a2bf3f2324dac8153040357e3d086": {
     "model_module": "@jupyter-widgets/base",
     "model_module_version": "1.2.0",
     "model_name": "LayoutModel",
     "state": {
      "_model_module": "@jupyter-widgets/base",
      "_model_module_version": "1.2.0",
      "_model_name": "LayoutModel",
      "_view_count": null,
      "_view_module": "@jupyter-widgets/base",
      "_view_module_version": "1.2.0",
      "_view_name": "LayoutView",
      "align_content": null,
      "align_items": null,
      "align_self": null,
      "border": null,
      "bottom": null,
      "display": null,
      "flex": null,
      "flex_flow": null,
      "grid_area": null,
      "grid_auto_columns": null,
      "grid_auto_flow": null,
      "grid_auto_rows": null,
      "grid_column": null,
      "grid_gap": null,
      "grid_row": null,
      "grid_template_areas": null,
      "grid_template_columns": null,
      "grid_template_rows": null,
      "height": null,
      "justify_content": null,
      "justify_items": null,
      "left": null,
      "margin": null,
      "max_height": null,
      "max_width": null,
      "min_height": null,
      "min_width": null,
      "object_fit": null,
      "object_position": null,
      "order": null,
      "overflow": null,
      "overflow_x": null,
      "overflow_y": null,
      "padding": null,
      "right": null,
      "top": null,
      "visibility": null,
      "width": null
     }
    },
    "5a03bcd8bc5a4d75896f9158971bf28f": {
     "model_module": "@jupyter-widgets/base",
     "model_module_version": "1.2.0",
     "model_name": "LayoutModel",
     "state": {
      "_model_module": "@jupyter-widgets/base",
      "_model_module_version": "1.2.0",
      "_model_name": "LayoutModel",
      "_view_count": null,
      "_view_module": "@jupyter-widgets/base",
      "_view_module_version": "1.2.0",
      "_view_name": "LayoutView",
      "align_content": null,
      "align_items": null,
      "align_self": null,
      "border": null,
      "bottom": null,
      "display": null,
      "flex": null,
      "flex_flow": null,
      "grid_area": null,
      "grid_auto_columns": null,
      "grid_auto_flow": null,
      "grid_auto_rows": null,
      "grid_column": null,
      "grid_gap": null,
      "grid_row": null,
      "grid_template_areas": null,
      "grid_template_columns": null,
      "grid_template_rows": null,
      "height": null,
      "justify_content": null,
      "justify_items": null,
      "left": null,
      "margin": null,
      "max_height": null,
      "max_width": null,
      "min_height": null,
      "min_width": null,
      "object_fit": null,
      "object_position": null,
      "order": null,
      "overflow": null,
      "overflow_x": null,
      "overflow_y": null,
      "padding": null,
      "right": null,
      "top": null,
      "visibility": null,
      "width": null
     }
    },
    "5b21b770e4034c308ffec50553de613d": {
     "model_module": "@jupyter-widgets/controls",
     "model_module_version": "1.5.0",
     "model_name": "FloatProgressModel",
     "state": {
      "_dom_classes": [],
      "_model_module": "@jupyter-widgets/controls",
      "_model_module_version": "1.5.0",
      "_model_name": "FloatProgressModel",
      "_view_count": null,
      "_view_module": "@jupyter-widgets/controls",
      "_view_module_version": "1.5.0",
      "_view_name": "ProgressView",
      "bar_style": "success",
      "description": "",
      "description_tooltip": null,
      "layout": "IPY_MODEL_3a5388ff2b4a4c998730cd3382bac064",
      "max": 435779157,
      "min": 0,
      "orientation": "horizontal",
      "style": "IPY_MODEL_a315375dbd77495e8dbddab556c766f4",
      "value": 435779157
     }
    },
    "5cd5e9efbc6842288868f08b708741ab": {
     "model_module": "@jupyter-widgets/base",
     "model_module_version": "1.2.0",
     "model_name": "LayoutModel",
     "state": {
      "_model_module": "@jupyter-widgets/base",
      "_model_module_version": "1.2.0",
      "_model_name": "LayoutModel",
      "_view_count": null,
      "_view_module": "@jupyter-widgets/base",
      "_view_module_version": "1.2.0",
      "_view_name": "LayoutView",
      "align_content": null,
      "align_items": null,
      "align_self": null,
      "border": null,
      "bottom": null,
      "display": null,
      "flex": null,
      "flex_flow": null,
      "grid_area": null,
      "grid_auto_columns": null,
      "grid_auto_flow": null,
      "grid_auto_rows": null,
      "grid_column": null,
      "grid_gap": null,
      "grid_row": null,
      "grid_template_areas": null,
      "grid_template_columns": null,
      "grid_template_rows": null,
      "height": null,
      "justify_content": null,
      "justify_items": null,
      "left": null,
      "margin": null,
      "max_height": null,
      "max_width": null,
      "min_height": null,
      "min_width": null,
      "object_fit": null,
      "object_position": null,
      "order": null,
      "overflow": null,
      "overflow_x": null,
      "overflow_y": null,
      "padding": null,
      "right": null,
      "top": null,
      "visibility": null,
      "width": null
     }
    },
    "5d09751a57a141fb873c6568b45f936e": {
     "model_module": "@jupyter-widgets/controls",
     "model_module_version": "1.5.0",
     "model_name": "HTMLModel",
     "state": {
      "_dom_classes": [],
      "_model_module": "@jupyter-widgets/controls",
      "_model_module_version": "1.5.0",
      "_model_name": "HTMLModel",
      "_view_count": null,
      "_view_module": "@jupyter-widgets/controls",
      "_view_module_version": "1.5.0",
      "_view_name": "HTMLView",
      "description": "",
      "description_tooltip": null,
      "layout": "IPY_MODEL_4caa8c65f0bf4ef89190d6bb3900eb7f",
      "placeholder": "​",
      "style": "IPY_MODEL_482c92f33d514d55a1fa88357faa9a33",
      "value": "Downloading: 100%"
     }
    },
    "5ecfedcc4d764836aae3d1d5f773e91f": {
     "model_module": "@jupyter-widgets/controls",
     "model_module_version": "1.5.0",
     "model_name": "HBoxModel",
     "state": {
      "_dom_classes": [],
      "_model_module": "@jupyter-widgets/controls",
      "_model_module_version": "1.5.0",
      "_model_name": "HBoxModel",
      "_view_count": null,
      "_view_module": "@jupyter-widgets/controls",
      "_view_module_version": "1.5.0",
      "_view_name": "HBoxView",
      "box_style": "",
      "children": [
       "IPY_MODEL_08bc372ce9664a2ca32b5aabe0103675",
       "IPY_MODEL_be2962d9e8f64179a6f02e0a66028b82",
       "IPY_MODEL_8b0d9b08e6ff481c977aee3b6c595a7e"
      ],
      "layout": "IPY_MODEL_016524887cab4a17a51671813bf8f7c1"
     }
    },
    "67f7b05e8a19445084a463aca6c3bc75": {
     "model_module": "@jupyter-widgets/base",
     "model_module_version": "1.2.0",
     "model_name": "LayoutModel",
     "state": {
      "_model_module": "@jupyter-widgets/base",
      "_model_module_version": "1.2.0",
      "_model_name": "LayoutModel",
      "_view_count": null,
      "_view_module": "@jupyter-widgets/base",
      "_view_module_version": "1.2.0",
      "_view_name": "LayoutView",
      "align_content": null,
      "align_items": null,
      "align_self": null,
      "border": null,
      "bottom": null,
      "display": null,
      "flex": null,
      "flex_flow": null,
      "grid_area": null,
      "grid_auto_columns": null,
      "grid_auto_flow": null,
      "grid_auto_rows": null,
      "grid_column": null,
      "grid_gap": null,
      "grid_row": null,
      "grid_template_areas": null,
      "grid_template_columns": null,
      "grid_template_rows": null,
      "height": null,
      "justify_content": null,
      "justify_items": null,
      "left": null,
      "margin": null,
      "max_height": null,
      "max_width": null,
      "min_height": null,
      "min_width": null,
      "object_fit": null,
      "object_position": null,
      "order": null,
      "overflow": null,
      "overflow_x": null,
      "overflow_y": null,
      "padding": null,
      "right": null,
      "top": null,
      "visibility": null,
      "width": null
     }
    },
    "6954298f37bb4a8aabd602fcc37597fa": {
     "model_module": "@jupyter-widgets/base",
     "model_module_version": "1.2.0",
     "model_name": "LayoutModel",
     "state": {
      "_model_module": "@jupyter-widgets/base",
      "_model_module_version": "1.2.0",
      "_model_name": "LayoutModel",
      "_view_count": null,
      "_view_module": "@jupyter-widgets/base",
      "_view_module_version": "1.2.0",
      "_view_name": "LayoutView",
      "align_content": null,
      "align_items": null,
      "align_self": null,
      "border": null,
      "bottom": null,
      "display": null,
      "flex": null,
      "flex_flow": null,
      "grid_area": null,
      "grid_auto_columns": null,
      "grid_auto_flow": null,
      "grid_auto_rows": null,
      "grid_column": null,
      "grid_gap": null,
      "grid_row": null,
      "grid_template_areas": null,
      "grid_template_columns": null,
      "grid_template_rows": null,
      "height": null,
      "justify_content": null,
      "justify_items": null,
      "left": null,
      "margin": null,
      "max_height": null,
      "max_width": null,
      "min_height": null,
      "min_width": null,
      "object_fit": null,
      "object_position": null,
      "order": null,
      "overflow": null,
      "overflow_x": null,
      "overflow_y": null,
      "padding": null,
      "right": null,
      "top": null,
      "visibility": null,
      "width": null
     }
    },
    "6b56ee76de9c4289878f636da0d83494": {
     "model_module": "@jupyter-widgets/controls",
     "model_module_version": "1.5.0",
     "model_name": "DescriptionStyleModel",
     "state": {
      "_model_module": "@jupyter-widgets/controls",
      "_model_module_version": "1.5.0",
      "_model_name": "DescriptionStyleModel",
      "_view_count": null,
      "_view_module": "@jupyter-widgets/base",
      "_view_module_version": "1.2.0",
      "_view_name": "StyleView",
      "description_width": ""
     }
    },
    "74ea353342404bc6a0cd1b832b7e0140": {
     "model_module": "@jupyter-widgets/controls",
     "model_module_version": "1.5.0",
     "model_name": "HTMLModel",
     "state": {
      "_dom_classes": [],
      "_model_module": "@jupyter-widgets/controls",
      "_model_module_version": "1.5.0",
      "_model_name": "HTMLModel",
      "_view_count": null,
      "_view_module": "@jupyter-widgets/controls",
      "_view_module_version": "1.5.0",
      "_view_name": "HTMLView",
      "description": "",
      "description_tooltip": null,
      "layout": "IPY_MODEL_d8656a8250aa4ebc898d74024dcacc2b",
      "placeholder": "​",
      "style": "IPY_MODEL_039f975c301a478ea4c2d988852a3e65",
      "value": "100%"
     }
    },
    "7525b3f44436498db69112fd63e52309": {
     "model_module": "@jupyter-widgets/controls",
     "model_module_version": "1.5.0",
     "model_name": "HTMLModel",
     "state": {
      "_dom_classes": [],
      "_model_module": "@jupyter-widgets/controls",
      "_model_module_version": "1.5.0",
      "_model_name": "HTMLModel",
      "_view_count": null,
      "_view_module": "@jupyter-widgets/controls",
      "_view_module_version": "1.5.0",
      "_view_name": "HTMLView",
      "description": "",
      "description_tooltip": null,
      "layout": "IPY_MODEL_67f7b05e8a19445084a463aca6c3bc75",
      "placeholder": "​",
      "style": "IPY_MODEL_7deb4ad79a584049933a738fb910a5d5",
      "value": " 29.0/29.0 [00:00&lt;00:00, 511B/s]"
     }
    },
    "7914860426c54623b03f8006ef6b0983": {
     "model_module": "@jupyter-widgets/controls",
     "model_module_version": "1.5.0",
     "model_name": "FloatProgressModel",
     "state": {
      "_dom_classes": [],
      "_model_module": "@jupyter-widgets/controls",
      "_model_module_version": "1.5.0",
      "_model_name": "FloatProgressModel",
      "_view_count": null,
      "_view_module": "@jupyter-widgets/controls",
      "_view_module_version": "1.5.0",
      "_view_name": "ProgressView",
      "bar_style": "success",
      "description": "",
      "description_tooltip": null,
      "layout": "IPY_MODEL_5736b159023d4d21977f8741fbd282d4",
      "max": 898823,
      "min": 0,
      "orientation": "horizontal",
      "style": "IPY_MODEL_8be197f0df7e4b6d9d1621ba9170be37",
      "value": 898823
     }
    },
    "7c5ecaba4bb146508ba884583e93411c": {
     "model_module": "@jupyter-widgets/controls",
     "model_module_version": "1.5.0",
     "model_name": "HBoxModel",
     "state": {
      "_dom_classes": [],
      "_model_module": "@jupyter-widgets/controls",
      "_model_module_version": "1.5.0",
      "_model_name": "HBoxModel",
      "_view_count": null,
      "_view_module": "@jupyter-widgets/controls",
      "_view_module_version": "1.5.0",
      "_view_name": "HBoxView",
      "box_style": "",
      "children": [
       "IPY_MODEL_3955dad51e244f6f96c3cc5b48aaa724",
       "IPY_MODEL_11ce621711f8483d82f8286e2a5bbae7",
       "IPY_MODEL_ed163563a98748b28473053c936fb278"
      ],
      "layout": "IPY_MODEL_ff52d37ab0504389adf0e5b34e92ee6d"
     }
    },
    "7deb4ad79a584049933a738fb910a5d5": {
     "model_module": "@jupyter-widgets/controls",
     "model_module_version": "1.5.0",
     "model_name": "DescriptionStyleModel",
     "state": {
      "_model_module": "@jupyter-widgets/controls",
      "_model_module_version": "1.5.0",
      "_model_name": "DescriptionStyleModel",
      "_view_count": null,
      "_view_module": "@jupyter-widgets/base",
      "_view_module_version": "1.2.0",
      "_view_name": "StyleView",
      "description_width": ""
     }
    },
    "7e4f172de59b48cda853157a97264de2": {
     "model_module": "@jupyter-widgets/controls",
     "model_module_version": "1.5.0",
     "model_name": "HBoxModel",
     "state": {
      "_dom_classes": [],
      "_model_module": "@jupyter-widgets/controls",
      "_model_module_version": "1.5.0",
      "_model_name": "HBoxModel",
      "_view_count": null,
      "_view_module": "@jupyter-widgets/controls",
      "_view_module_version": "1.5.0",
      "_view_name": "HBoxView",
      "box_style": "",
      "children": [
       "IPY_MODEL_74ea353342404bc6a0cd1b832b7e0140",
       "IPY_MODEL_a3f6e25a821c48439884b527e6742163",
       "IPY_MODEL_862f373a30e14d6e9288bb7ab20ca52b"
      ],
      "layout": "IPY_MODEL_33be17b0ddd8464cb18df3ce248abc95"
     }
    },
    "7f4bd849f541483b8dcd265906b578c7": {
     "model_module": "@jupyter-widgets/controls",
     "model_module_version": "1.5.0",
     "model_name": "DescriptionStyleModel",
     "state": {
      "_model_module": "@jupyter-widgets/controls",
      "_model_module_version": "1.5.0",
      "_model_name": "DescriptionStyleModel",
      "_view_count": null,
      "_view_module": "@jupyter-widgets/base",
      "_view_module_version": "1.2.0",
      "_view_name": "StyleView",
      "description_width": ""
     }
    },
    "80fc45fc2c7b40d4bf1defc67286d3fa": {
     "model_module": "@jupyter-widgets/controls",
     "model_module_version": "1.5.0",
     "model_name": "DescriptionStyleModel",
     "state": {
      "_model_module": "@jupyter-widgets/controls",
      "_model_module_version": "1.5.0",
      "_model_name": "DescriptionStyleModel",
      "_view_count": null,
      "_view_module": "@jupyter-widgets/base",
      "_view_module_version": "1.2.0",
      "_view_name": "StyleView",
      "description_width": ""
     }
    },
    "82e555debf35433580a2ddb174a663d2": {
     "model_module": "@jupyter-widgets/controls",
     "model_module_version": "1.5.0",
     "model_name": "ProgressStyleModel",
     "state": {
      "_model_module": "@jupyter-widgets/controls",
      "_model_module_version": "1.5.0",
      "_model_name": "ProgressStyleModel",
      "_view_count": null,
      "_view_module": "@jupyter-widgets/base",
      "_view_module_version": "1.2.0",
      "_view_name": "StyleView",
      "bar_color": null,
      "description_width": ""
     }
    },
    "85deb0616ad6408085df090e8e502667": {
     "model_module": "@jupyter-widgets/controls",
     "model_module_version": "1.5.0",
     "model_name": "DescriptionStyleModel",
     "state": {
      "_model_module": "@jupyter-widgets/controls",
      "_model_module_version": "1.5.0",
      "_model_name": "DescriptionStyleModel",
      "_view_count": null,
      "_view_module": "@jupyter-widgets/base",
      "_view_module_version": "1.2.0",
      "_view_name": "StyleView",
      "description_width": ""
     }
    },
    "862f373a30e14d6e9288bb7ab20ca52b": {
     "model_module": "@jupyter-widgets/controls",
     "model_module_version": "1.5.0",
     "model_name": "HTMLModel",
     "state": {
      "_dom_classes": [],
      "_model_module": "@jupyter-widgets/controls",
      "_model_module_version": "1.5.0",
      "_model_name": "HTMLModel",
      "_view_count": null,
      "_view_module": "@jupyter-widgets/controls",
      "_view_module_version": "1.5.0",
      "_view_name": "HTMLView",
      "description": "",
      "description_tooltip": null,
      "layout": "IPY_MODEL_5cd5e9efbc6842288868f08b708741ab",
      "placeholder": "​",
      "style": "IPY_MODEL_20fd169ccc5e49ee87ec3898376c607c",
      "value": " 8141/8141 [2:15:39&lt;00:00,  1.11it/s]"
     }
    },
    "87e68f819ba34b88ac116a196289462b": {
     "model_module": "@jupyter-widgets/base",
     "model_module_version": "1.2.0",
     "model_name": "LayoutModel",
     "state": {
      "_model_module": "@jupyter-widgets/base",
      "_model_module_version": "1.2.0",
      "_model_name": "LayoutModel",
      "_view_count": null,
      "_view_module": "@jupyter-widgets/base",
      "_view_module_version": "1.2.0",
      "_view_name": "LayoutView",
      "align_content": null,
      "align_items": null,
      "align_self": null,
      "border": null,
      "bottom": null,
      "display": null,
      "flex": null,
      "flex_flow": null,
      "grid_area": null,
      "grid_auto_columns": null,
      "grid_auto_flow": null,
      "grid_auto_rows": null,
      "grid_column": null,
      "grid_gap": null,
      "grid_row": null,
      "grid_template_areas": null,
      "grid_template_columns": null,
      "grid_template_rows": null,
      "height": null,
      "justify_content": null,
      "justify_items": null,
      "left": null,
      "margin": null,
      "max_height": null,
      "max_width": null,
      "min_height": null,
      "min_width": null,
      "object_fit": null,
      "object_position": null,
      "order": null,
      "overflow": null,
      "overflow_x": null,
      "overflow_y": null,
      "padding": null,
      "right": null,
      "top": null,
      "visibility": null,
      "width": null
     }
    },
    "8867af3b96f344fbaf82884fa1984aad": {
     "model_module": "@jupyter-widgets/controls",
     "model_module_version": "1.5.0",
     "model_name": "DescriptionStyleModel",
     "state": {
      "_model_module": "@jupyter-widgets/controls",
      "_model_module_version": "1.5.0",
      "_model_name": "DescriptionStyleModel",
      "_view_count": null,
      "_view_module": "@jupyter-widgets/base",
      "_view_module_version": "1.2.0",
      "_view_name": "StyleView",
      "description_width": ""
     }
    },
    "88b167f051a64d3d8deaab2e189803fb": {
     "model_module": "@jupyter-widgets/controls",
     "model_module_version": "1.5.0",
     "model_name": "HTMLModel",
     "state": {
      "_dom_classes": [],
      "_model_module": "@jupyter-widgets/controls",
      "_model_module_version": "1.5.0",
      "_model_name": "HTMLModel",
      "_view_count": null,
      "_view_module": "@jupyter-widgets/controls",
      "_view_module_version": "1.5.0",
      "_view_name": "HTMLView",
      "description": "",
      "description_tooltip": null,
      "layout": "IPY_MODEL_b9bd76a0573f44799047a6911c1744a6",
      "placeholder": "​",
      "style": "IPY_MODEL_30d3ca112d0f447db72d64dfe70b1336",
      "value": " 878k/878k [00:00&lt;00:00, 1.14MB/s]"
     }
    },
    "88e074e8085247f5a32b4701cf9c4a29": {
     "model_module": "@jupyter-widgets/controls",
     "model_module_version": "1.5.0",
     "model_name": "ProgressStyleModel",
     "state": {
      "_model_module": "@jupyter-widgets/controls",
      "_model_module_version": "1.5.0",
      "_model_name": "ProgressStyleModel",
      "_view_count": null,
      "_view_module": "@jupyter-widgets/base",
      "_view_module_version": "1.2.0",
      "_view_name": "StyleView",
      "bar_color": null,
      "description_width": ""
     }
    },
    "89ca669aa2fc4201a2e6bd6058d93979": {
     "model_module": "@jupyter-widgets/base",
     "model_module_version": "1.2.0",
     "model_name": "LayoutModel",
     "state": {
      "_model_module": "@jupyter-widgets/base",
      "_model_module_version": "1.2.0",
      "_model_name": "LayoutModel",
      "_view_count": null,
      "_view_module": "@jupyter-widgets/base",
      "_view_module_version": "1.2.0",
      "_view_name": "LayoutView",
      "align_content": null,
      "align_items": null,
      "align_self": null,
      "border": null,
      "bottom": null,
      "display": null,
      "flex": null,
      "flex_flow": null,
      "grid_area": null,
      "grid_auto_columns": null,
      "grid_auto_flow": null,
      "grid_auto_rows": null,
      "grid_column": null,
      "grid_gap": null,
      "grid_row": null,
      "grid_template_areas": null,
      "grid_template_columns": null,
      "grid_template_rows": null,
      "height": null,
      "justify_content": null,
      "justify_items": null,
      "left": null,
      "margin": null,
      "max_height": null,
      "max_width": null,
      "min_height": null,
      "min_width": null,
      "object_fit": null,
      "object_position": null,
      "order": null,
      "overflow": null,
      "overflow_x": null,
      "overflow_y": null,
      "padding": null,
      "right": null,
      "top": null,
      "visibility": null,
      "width": null
     }
    },
    "8af1a86d32cb448b9d1ca38ceeaee424": {
     "model_module": "@jupyter-widgets/controls",
     "model_module_version": "1.5.0",
     "model_name": "DescriptionStyleModel",
     "state": {
      "_model_module": "@jupyter-widgets/controls",
      "_model_module_version": "1.5.0",
      "_model_name": "DescriptionStyleModel",
      "_view_count": null,
      "_view_module": "@jupyter-widgets/base",
      "_view_module_version": "1.2.0",
      "_view_name": "StyleView",
      "description_width": ""
     }
    },
    "8b0d9b08e6ff481c977aee3b6c595a7e": {
     "model_module": "@jupyter-widgets/controls",
     "model_module_version": "1.5.0",
     "model_name": "HTMLModel",
     "state": {
      "_dom_classes": [],
      "_model_module": "@jupyter-widgets/controls",
      "_model_module_version": "1.5.0",
      "_model_name": "HTMLModel",
      "_view_count": null,
      "_view_module": "@jupyter-widgets/controls",
      "_view_module_version": "1.5.0",
      "_view_name": "HTMLView",
      "description": "",
      "description_tooltip": null,
      "layout": "IPY_MODEL_291bf7010fd94663ba48287c669dc812",
      "placeholder": "​",
      "style": "IPY_MODEL_85deb0616ad6408085df090e8e502667",
      "value": " 446k/446k [00:00&lt;00:00, 976kB/s]"
     }
    },
    "8be197f0df7e4b6d9d1621ba9170be37": {
     "model_module": "@jupyter-widgets/controls",
     "model_module_version": "1.5.0",
     "model_name": "ProgressStyleModel",
     "state": {
      "_model_module": "@jupyter-widgets/controls",
      "_model_module_version": "1.5.0",
      "_model_name": "ProgressStyleModel",
      "_view_count": null,
      "_view_module": "@jupyter-widgets/base",
      "_view_module_version": "1.2.0",
      "_view_name": "StyleView",
      "bar_color": null,
      "description_width": ""
     }
    },
    "8c7f395a9f0c44f787fa6fd853fcf8f4": {
     "model_module": "@jupyter-widgets/base",
     "model_module_version": "1.2.0",
     "model_name": "LayoutModel",
     "state": {
      "_model_module": "@jupyter-widgets/base",
      "_model_module_version": "1.2.0",
      "_model_name": "LayoutModel",
      "_view_count": null,
      "_view_module": "@jupyter-widgets/base",
      "_view_module_version": "1.2.0",
      "_view_name": "LayoutView",
      "align_content": null,
      "align_items": null,
      "align_self": null,
      "border": null,
      "bottom": null,
      "display": null,
      "flex": null,
      "flex_flow": null,
      "grid_area": null,
      "grid_auto_columns": null,
      "grid_auto_flow": null,
      "grid_auto_rows": null,
      "grid_column": null,
      "grid_gap": null,
      "grid_row": null,
      "grid_template_areas": null,
      "grid_template_columns": null,
      "grid_template_rows": null,
      "height": null,
      "justify_content": null,
      "justify_items": null,
      "left": null,
      "margin": null,
      "max_height": null,
      "max_width": null,
      "min_height": null,
      "min_width": null,
      "object_fit": null,
      "object_position": null,
      "order": null,
      "overflow": null,
      "overflow_x": null,
      "overflow_y": null,
      "padding": null,
      "right": null,
      "top": null,
      "visibility": null,
      "width": null
     }
    },
    "90ffecf062044c459752dc13992355c8": {
     "model_module": "@jupyter-widgets/controls",
     "model_module_version": "1.5.0",
     "model_name": "HTMLModel",
     "state": {
      "_dom_classes": [],
      "_model_module": "@jupyter-widgets/controls",
      "_model_module_version": "1.5.0",
      "_model_name": "HTMLModel",
      "_view_count": null,
      "_view_module": "@jupyter-widgets/controls",
      "_view_module_version": "1.5.0",
      "_view_name": "HTMLView",
      "description": "",
      "description_tooltip": null,
      "layout": "IPY_MODEL_2066b972b91747a38dd46cf968a6b513",
      "placeholder": "​",
      "style": "IPY_MODEL_80fc45fc2c7b40d4bf1defc67286d3fa",
      "value": " 570M/570M [00:27&lt;00:00, 9.97MB/s]"
     }
    },
    "91889017e8cc4adf8d7489dc31c3cc0e": {
     "model_module": "@jupyter-widgets/base",
     "model_module_version": "1.2.0",
     "model_name": "LayoutModel",
     "state": {
      "_model_module": "@jupyter-widgets/base",
      "_model_module_version": "1.2.0",
      "_model_name": "LayoutModel",
      "_view_count": null,
      "_view_module": "@jupyter-widgets/base",
      "_view_module_version": "1.2.0",
      "_view_name": "LayoutView",
      "align_content": null,
      "align_items": null,
      "align_self": null,
      "border": null,
      "bottom": null,
      "display": null,
      "flex": null,
      "flex_flow": null,
      "grid_area": null,
      "grid_auto_columns": null,
      "grid_auto_flow": null,
      "grid_auto_rows": null,
      "grid_column": null,
      "grid_gap": null,
      "grid_row": null,
      "grid_template_areas": null,
      "grid_template_columns": null,
      "grid_template_rows": null,
      "height": null,
      "justify_content": null,
      "justify_items": null,
      "left": null,
      "margin": null,
      "max_height": null,
      "max_width": null,
      "min_height": null,
      "min_width": null,
      "object_fit": null,
      "object_position": null,
      "order": null,
      "overflow": null,
      "overflow_x": null,
      "overflow_y": null,
      "padding": null,
      "right": null,
      "top": null,
      "visibility": null,
      "width": null
     }
    },
    "9278b6fbca614bd7ad17dd6a9bdf8265": {
     "model_module": "@jupyter-widgets/controls",
     "model_module_version": "1.5.0",
     "model_name": "ProgressStyleModel",
     "state": {
      "_model_module": "@jupyter-widgets/controls",
      "_model_module_version": "1.5.0",
      "_model_name": "ProgressStyleModel",
      "_view_count": null,
      "_view_module": "@jupyter-widgets/base",
      "_view_module_version": "1.2.0",
      "_view_name": "StyleView",
      "bar_color": null,
      "description_width": ""
     }
    },
    "967ada1192e342cf89a8e4978271b947": {
     "model_module": "@jupyter-widgets/base",
     "model_module_version": "1.2.0",
     "model_name": "LayoutModel",
     "state": {
      "_model_module": "@jupyter-widgets/base",
      "_model_module_version": "1.2.0",
      "_model_name": "LayoutModel",
      "_view_count": null,
      "_view_module": "@jupyter-widgets/base",
      "_view_module_version": "1.2.0",
      "_view_name": "LayoutView",
      "align_content": null,
      "align_items": null,
      "align_self": null,
      "border": null,
      "bottom": null,
      "display": null,
      "flex": null,
      "flex_flow": null,
      "grid_area": null,
      "grid_auto_columns": null,
      "grid_auto_flow": null,
      "grid_auto_rows": null,
      "grid_column": null,
      "grid_gap": null,
      "grid_row": null,
      "grid_template_areas": null,
      "grid_template_columns": null,
      "grid_template_rows": null,
      "height": null,
      "justify_content": null,
      "justify_items": null,
      "left": null,
      "margin": null,
      "max_height": null,
      "max_width": null,
      "min_height": null,
      "min_width": null,
      "object_fit": null,
      "object_position": null,
      "order": null,
      "overflow": null,
      "overflow_x": null,
      "overflow_y": null,
      "padding": null,
      "right": null,
      "top": null,
      "visibility": null,
      "width": null
     }
    },
    "9824cc785b5c4559b962f179f42c3ab3": {
     "model_module": "@jupyter-widgets/controls",
     "model_module_version": "1.5.0",
     "model_name": "HTMLModel",
     "state": {
      "_dom_classes": [],
      "_model_module": "@jupyter-widgets/controls",
      "_model_module_version": "1.5.0",
      "_model_name": "HTMLModel",
      "_view_count": null,
      "_view_module": "@jupyter-widgets/controls",
      "_view_module_version": "1.5.0",
      "_view_name": "HTMLView",
      "description": "",
      "description_tooltip": null,
      "layout": "IPY_MODEL_89ca669aa2fc4201a2e6bd6058d93979",
      "placeholder": "​",
      "style": "IPY_MODEL_6b56ee76de9c4289878f636da0d83494",
      "value": " 570/570 [00:00&lt;00:00, 13.2kB/s]"
     }
    },
    "9bee0797876e4841a77826dd78a07974": {
     "model_module": "@jupyter-widgets/base",
     "model_module_version": "1.2.0",
     "model_name": "LayoutModel",
     "state": {
      "_model_module": "@jupyter-widgets/base",
      "_model_module_version": "1.2.0",
      "_model_name": "LayoutModel",
      "_view_count": null,
      "_view_module": "@jupyter-widgets/base",
      "_view_module_version": "1.2.0",
      "_view_name": "LayoutView",
      "align_content": null,
      "align_items": null,
      "align_self": null,
      "border": null,
      "bottom": null,
      "display": null,
      "flex": null,
      "flex_flow": null,
      "grid_area": null,
      "grid_auto_columns": null,
      "grid_auto_flow": null,
      "grid_auto_rows": null,
      "grid_column": null,
      "grid_gap": null,
      "grid_row": null,
      "grid_template_areas": null,
      "grid_template_columns": null,
      "grid_template_rows": null,
      "height": null,
      "justify_content": null,
      "justify_items": null,
      "left": null,
      "margin": null,
      "max_height": null,
      "max_width": null,
      "min_height": null,
      "min_width": null,
      "object_fit": null,
      "object_position": null,
      "order": null,
      "overflow": null,
      "overflow_x": null,
      "overflow_y": null,
      "padding": null,
      "right": null,
      "top": null,
      "visibility": null,
      "width": null
     }
    },
    "9c8e7d6ea0b6468da35bdb76de5bdd2b": {
     "model_module": "@jupyter-widgets/controls",
     "model_module_version": "1.5.0",
     "model_name": "HTMLModel",
     "state": {
      "_dom_classes": [],
      "_model_module": "@jupyter-widgets/controls",
      "_model_module_version": "1.5.0",
      "_model_name": "HTMLModel",
      "_view_count": null,
      "_view_module": "@jupyter-widgets/controls",
      "_view_module_version": "1.5.0",
      "_view_name": "HTMLView",
      "description": "",
      "description_tooltip": null,
      "layout": "IPY_MODEL_590a2bf3f2324dac8153040357e3d086",
      "placeholder": "​",
      "style": "IPY_MODEL_e35964301a4d42ae9da817624a45affb",
      "value": " 416M/416M [00:12&lt;00:00, 36.7MB/s]"
     }
    },
    "9cb09e8251424959b9e6dcfd7d51327a": {
     "model_module": "@jupyter-widgets/controls",
     "model_module_version": "1.5.0",
     "model_name": "FloatProgressModel",
     "state": {
      "_dom_classes": [],
      "_model_module": "@jupyter-widgets/controls",
      "_model_module_version": "1.5.0",
      "_model_name": "FloatProgressModel",
      "_view_count": null,
      "_view_module": "@jupyter-widgets/controls",
      "_view_module_version": "1.5.0",
      "_view_name": "ProgressView",
      "bar_style": "success",
      "description": "",
      "description_tooltip": null,
      "layout": "IPY_MODEL_d0447392945a4a94851d4a426689c6f8",
      "max": 1355863,
      "min": 0,
      "orientation": "horizontal",
      "style": "IPY_MODEL_fef95e5549ed4c2387c6c0d69756eb0b",
      "value": 1355863
     }
    },
    "9cd70193d0504cfba9ae5c6e9a7fcbf1": {
     "model_module": "@jupyter-widgets/controls",
     "model_module_version": "1.5.0",
     "model_name": "HBoxModel",
     "state": {
      "_dom_classes": [],
      "_model_module": "@jupyter-widgets/controls",
      "_model_module_version": "1.5.0",
      "_model_name": "HBoxModel",
      "_view_count": null,
      "_view_module": "@jupyter-widgets/controls",
      "_view_module_version": "1.5.0",
      "_view_name": "HBoxView",
      "box_style": "",
      "children": [
       "IPY_MODEL_e73cb3f8c9b34ecaba63ac1aeaa7d3dc",
       "IPY_MODEL_d758354ccc624f89afa69a95a918c641",
       "IPY_MODEL_de3e6b7c118344b39be6b99620191ac9"
      ],
      "layout": "IPY_MODEL_9bee0797876e4841a77826dd78a07974"
     }
    },
    "a0b6aeb6203c4fcfab83d62412b4c39c": {
     "model_module": "@jupyter-widgets/controls",
     "model_module_version": "1.5.0",
     "model_name": "FloatProgressModel",
     "state": {
      "_dom_classes": [],
      "_model_module": "@jupyter-widgets/controls",
      "_model_module_version": "1.5.0",
      "_model_name": "FloatProgressModel",
      "_view_count": null,
      "_view_module": "@jupyter-widgets/controls",
      "_view_module_version": "1.5.0",
      "_view_name": "ProgressView",
      "bar_style": "success",
      "description": "",
      "description_tooltip": null,
      "layout": "IPY_MODEL_91889017e8cc4adf8d7489dc31c3cc0e",
      "max": 213450,
      "min": 0,
      "orientation": "horizontal",
      "style": "IPY_MODEL_153af96145d34f3f8e6de00e8283b4c4",
      "value": 213450
     }
    },
    "a26f95d7676c48c3a724dab594e2ceaf": {
     "model_module": "@jupyter-widgets/base",
     "model_module_version": "1.2.0",
     "model_name": "LayoutModel",
     "state": {
      "_model_module": "@jupyter-widgets/base",
      "_model_module_version": "1.2.0",
      "_model_name": "LayoutModel",
      "_view_count": null,
      "_view_module": "@jupyter-widgets/base",
      "_view_module_version": "1.2.0",
      "_view_name": "LayoutView",
      "align_content": null,
      "align_items": null,
      "align_self": null,
      "border": null,
      "bottom": null,
      "display": null,
      "flex": null,
      "flex_flow": null,
      "grid_area": null,
      "grid_auto_columns": null,
      "grid_auto_flow": null,
      "grid_auto_rows": null,
      "grid_column": null,
      "grid_gap": null,
      "grid_row": null,
      "grid_template_areas": null,
      "grid_template_columns": null,
      "grid_template_rows": null,
      "height": null,
      "justify_content": null,
      "justify_items": null,
      "left": null,
      "margin": null,
      "max_height": null,
      "max_width": null,
      "min_height": null,
      "min_width": null,
      "object_fit": null,
      "object_position": null,
      "order": null,
      "overflow": null,
      "overflow_x": null,
      "overflow_y": null,
      "padding": null,
      "right": null,
      "top": null,
      "visibility": null,
      "width": null
     }
    },
    "a315375dbd77495e8dbddab556c766f4": {
     "model_module": "@jupyter-widgets/controls",
     "model_module_version": "1.5.0",
     "model_name": "ProgressStyleModel",
     "state": {
      "_model_module": "@jupyter-widgets/controls",
      "_model_module_version": "1.5.0",
      "_model_name": "ProgressStyleModel",
      "_view_count": null,
      "_view_module": "@jupyter-widgets/base",
      "_view_module_version": "1.2.0",
      "_view_name": "StyleView",
      "bar_color": null,
      "description_width": ""
     }
    },
    "a3f6e25a821c48439884b527e6742163": {
     "model_module": "@jupyter-widgets/controls",
     "model_module_version": "1.5.0",
     "model_name": "FloatProgressModel",
     "state": {
      "_dom_classes": [],
      "_model_module": "@jupyter-widgets/controls",
      "_model_module_version": "1.5.0",
      "_model_name": "FloatProgressModel",
      "_view_count": null,
      "_view_module": "@jupyter-widgets/controls",
      "_view_module_version": "1.5.0",
      "_view_name": "ProgressView",
      "bar_style": "success",
      "description": "",
      "description_tooltip": null,
      "layout": "IPY_MODEL_04bdd218313f4c459f820f52ffe7e769",
      "max": 8141,
      "min": 0,
      "orientation": "horizontal",
      "style": "IPY_MODEL_88e074e8085247f5a32b4701cf9c4a29",
      "value": 8141
     }
    },
    "a41192eb6d2145208cab617196425861": {
     "model_module": "@jupyter-widgets/base",
     "model_module_version": "1.2.0",
     "model_name": "LayoutModel",
     "state": {
      "_model_module": "@jupyter-widgets/base",
      "_model_module_version": "1.2.0",
      "_model_name": "LayoutModel",
      "_view_count": null,
      "_view_module": "@jupyter-widgets/base",
      "_view_module_version": "1.2.0",
      "_view_name": "LayoutView",
      "align_content": null,
      "align_items": null,
      "align_self": null,
      "border": null,
      "bottom": null,
      "display": null,
      "flex": null,
      "flex_flow": null,
      "grid_area": null,
      "grid_auto_columns": null,
      "grid_auto_flow": null,
      "grid_auto_rows": null,
      "grid_column": null,
      "grid_gap": null,
      "grid_row": null,
      "grid_template_areas": null,
      "grid_template_columns": null,
      "grid_template_rows": null,
      "height": null,
      "justify_content": null,
      "justify_items": null,
      "left": null,
      "margin": null,
      "max_height": null,
      "max_width": null,
      "min_height": null,
      "min_width": null,
      "object_fit": null,
      "object_position": null,
      "order": null,
      "overflow": null,
      "overflow_x": null,
      "overflow_y": null,
      "padding": null,
      "right": null,
      "top": null,
      "visibility": null,
      "width": null
     }
    },
    "a43379cd67ad442da372c3c280b7d386": {
     "model_module": "@jupyter-widgets/controls",
     "model_module_version": "1.5.0",
     "model_name": "DescriptionStyleModel",
     "state": {
      "_model_module": "@jupyter-widgets/controls",
      "_model_module_version": "1.5.0",
      "_model_name": "DescriptionStyleModel",
      "_view_count": null,
      "_view_module": "@jupyter-widgets/base",
      "_view_module_version": "1.2.0",
      "_view_name": "StyleView",
      "description_width": ""
     }
    },
    "a848f734c3bf400383c8ecc30d5325cb": {
     "model_module": "@jupyter-widgets/controls",
     "model_module_version": "1.5.0",
     "model_name": "DescriptionStyleModel",
     "state": {
      "_model_module": "@jupyter-widgets/controls",
      "_model_module_version": "1.5.0",
      "_model_name": "DescriptionStyleModel",
      "_view_count": null,
      "_view_module": "@jupyter-widgets/base",
      "_view_module_version": "1.2.0",
      "_view_name": "StyleView",
      "description_width": ""
     }
    },
    "adaa8b33cb594550930db84cee784a8a": {
     "model_module": "@jupyter-widgets/controls",
     "model_module_version": "1.5.0",
     "model_name": "HBoxModel",
     "state": {
      "_dom_classes": [],
      "_model_module": "@jupyter-widgets/controls",
      "_model_module_version": "1.5.0",
      "_model_name": "HBoxModel",
      "_view_count": null,
      "_view_module": "@jupyter-widgets/controls",
      "_view_module_version": "1.5.0",
      "_view_name": "HBoxView",
      "box_style": "",
      "children": [
       "IPY_MODEL_1cc5a790c46e430fb5314b3150cade8e",
       "IPY_MODEL_9cb09e8251424959b9e6dcfd7d51327a",
       "IPY_MODEL_4124e9298ef74a67b4c8318cd947ebc7"
      ],
      "layout": "IPY_MODEL_21af39ed71ce4dc5ae4bd0cf06894833"
     }
    },
    "ae104a2271bd405096a9ca05aa927cee": {
     "model_module": "@jupyter-widgets/base",
     "model_module_version": "1.2.0",
     "model_name": "LayoutModel",
     "state": {
      "_model_module": "@jupyter-widgets/base",
      "_model_module_version": "1.2.0",
      "_model_name": "LayoutModel",
      "_view_count": null,
      "_view_module": "@jupyter-widgets/base",
      "_view_module_version": "1.2.0",
      "_view_name": "LayoutView",
      "align_content": null,
      "align_items": null,
      "align_self": null,
      "border": null,
      "bottom": null,
      "display": null,
      "flex": null,
      "flex_flow": null,
      "grid_area": null,
      "grid_auto_columns": null,
      "grid_auto_flow": null,
      "grid_auto_rows": null,
      "grid_column": null,
      "grid_gap": null,
      "grid_row": null,
      "grid_template_areas": null,
      "grid_template_columns": null,
      "grid_template_rows": null,
      "height": null,
      "justify_content": null,
      "justify_items": null,
      "left": null,
      "margin": null,
      "max_height": null,
      "max_width": null,
      "min_height": null,
      "min_width": null,
      "object_fit": null,
      "object_position": null,
      "order": null,
      "overflow": null,
      "overflow_x": null,
      "overflow_y": null,
      "padding": null,
      "right": null,
      "top": null,
      "visibility": null,
      "width": null
     }
    },
    "b5967325192f4254bf1ebe4e2a54b47f": {
     "model_module": "@jupyter-widgets/controls",
     "model_module_version": "1.5.0",
     "model_name": "HBoxModel",
     "state": {
      "_dom_classes": [],
      "_model_module": "@jupyter-widgets/controls",
      "_model_module_version": "1.5.0",
      "_model_name": "HBoxModel",
      "_view_count": null,
      "_view_module": "@jupyter-widgets/controls",
      "_view_module_version": "1.5.0",
      "_view_name": "HBoxView",
      "box_style": "",
      "children": [
       "IPY_MODEL_5d09751a57a141fb873c6568b45f936e",
       "IPY_MODEL_7914860426c54623b03f8006ef6b0983",
       "IPY_MODEL_88b167f051a64d3d8deaab2e189803fb"
      ],
      "layout": "IPY_MODEL_ae104a2271bd405096a9ca05aa927cee"
     }
    },
    "b67bcadaf8a849cb8b35002ad99a47ba": {
     "model_module": "@jupyter-widgets/controls",
     "model_module_version": "1.5.0",
     "model_name": "HTMLModel",
     "state": {
      "_dom_classes": [],
      "_model_module": "@jupyter-widgets/controls",
      "_model_module_version": "1.5.0",
      "_model_name": "HTMLModel",
      "_view_count": null,
      "_view_module": "@jupyter-widgets/controls",
      "_view_module_version": "1.5.0",
      "_view_name": "HTMLView",
      "description": "",
      "description_tooltip": null,
      "layout": "IPY_MODEL_2199304dd9ff4351a5afe552f5a3d246",
      "placeholder": "​",
      "style": "IPY_MODEL_7f4bd849f541483b8dcd265906b578c7",
      "value": "Downloading: 100%"
     }
    },
    "b8f31cdb36df46b6894a1c65383525e0": {
     "model_module": "@jupyter-widgets/controls",
     "model_module_version": "1.5.0",
     "model_name": "HBoxModel",
     "state": {
      "_dom_classes": [],
      "_model_module": "@jupyter-widgets/controls",
      "_model_module_version": "1.5.0",
      "_model_name": "HBoxModel",
      "_view_count": null,
      "_view_module": "@jupyter-widgets/controls",
      "_view_module_version": "1.5.0",
      "_view_name": "HBoxView",
      "box_style": "",
      "children": [
       "IPY_MODEL_f9bb4b5bf98b4e5e9c329adc5f816eba",
       "IPY_MODEL_a0b6aeb6203c4fcfab83d62412b4c39c",
       "IPY_MODEL_d15b7165af5b46909d29ec1d81d7bae5"
      ],
      "layout": "IPY_MODEL_ceea72dca0604d969067a44d0e041d22"
     }
    },
    "b9bd76a0573f44799047a6911c1744a6": {
     "model_module": "@jupyter-widgets/base",
     "model_module_version": "1.2.0",
     "model_name": "LayoutModel",
     "state": {
      "_model_module": "@jupyter-widgets/base",
      "_model_module_version": "1.2.0",
      "_model_name": "LayoutModel",
      "_view_count": null,
      "_view_module": "@jupyter-widgets/base",
      "_view_module_version": "1.2.0",
      "_view_name": "LayoutView",
      "align_content": null,
      "align_items": null,
      "align_self": null,
      "border": null,
      "bottom": null,
      "display": null,
      "flex": null,
      "flex_flow": null,
      "grid_area": null,
      "grid_auto_columns": null,
      "grid_auto_flow": null,
      "grid_auto_rows": null,
      "grid_column": null,
      "grid_gap": null,
      "grid_row": null,
      "grid_template_areas": null,
      "grid_template_columns": null,
      "grid_template_rows": null,
      "height": null,
      "justify_content": null,
      "justify_items": null,
      "left": null,
      "margin": null,
      "max_height": null,
      "max_width": null,
      "min_height": null,
      "min_width": null,
      "object_fit": null,
      "object_position": null,
      "order": null,
      "overflow": null,
      "overflow_x": null,
      "overflow_y": null,
      "padding": null,
      "right": null,
      "top": null,
      "visibility": null,
      "width": null
     }
    },
    "ba33bf99d8a9450fac7cad3c4772ea67": {
     "model_module": "@jupyter-widgets/controls",
     "model_module_version": "1.5.0",
     "model_name": "DescriptionStyleModel",
     "state": {
      "_model_module": "@jupyter-widgets/controls",
      "_model_module_version": "1.5.0",
      "_model_name": "DescriptionStyleModel",
      "_view_count": null,
      "_view_module": "@jupyter-widgets/base",
      "_view_module_version": "1.2.0",
      "_view_name": "StyleView",
      "description_width": ""
     }
    },
    "bcfe9397235340c7936ccbcf0d859381": {
     "model_module": "@jupyter-widgets/base",
     "model_module_version": "1.2.0",
     "model_name": "LayoutModel",
     "state": {
      "_model_module": "@jupyter-widgets/base",
      "_model_module_version": "1.2.0",
      "_model_name": "LayoutModel",
      "_view_count": null,
      "_view_module": "@jupyter-widgets/base",
      "_view_module_version": "1.2.0",
      "_view_name": "LayoutView",
      "align_content": null,
      "align_items": null,
      "align_self": null,
      "border": null,
      "bottom": null,
      "display": null,
      "flex": null,
      "flex_flow": null,
      "grid_area": null,
      "grid_auto_columns": null,
      "grid_auto_flow": null,
      "grid_auto_rows": null,
      "grid_column": null,
      "grid_gap": null,
      "grid_row": null,
      "grid_template_areas": null,
      "grid_template_columns": null,
      "grid_template_rows": null,
      "height": null,
      "justify_content": null,
      "justify_items": null,
      "left": null,
      "margin": null,
      "max_height": null,
      "max_width": null,
      "min_height": null,
      "min_width": null,
      "object_fit": null,
      "object_position": null,
      "order": null,
      "overflow": null,
      "overflow_x": null,
      "overflow_y": null,
      "padding": null,
      "right": null,
      "top": null,
      "visibility": null,
      "width": null
     }
    },
    "be2962d9e8f64179a6f02e0a66028b82": {
     "model_module": "@jupyter-widgets/controls",
     "model_module_version": "1.5.0",
     "model_name": "FloatProgressModel",
     "state": {
      "_dom_classes": [],
      "_model_module": "@jupyter-widgets/controls",
      "_model_module_version": "1.5.0",
      "_model_name": "FloatProgressModel",
      "_view_count": null,
      "_view_module": "@jupyter-widgets/controls",
      "_view_module_version": "1.5.0",
      "_view_name": "ProgressView",
      "bar_style": "success",
      "description": "",
      "description_tooltip": null,
      "layout": "IPY_MODEL_524b1b055c404f40ae0b144ec6041c16",
      "max": 456318,
      "min": 0,
      "orientation": "horizontal",
      "style": "IPY_MODEL_9278b6fbca614bd7ad17dd6a9bdf8265",
      "value": 456318
     }
    },
    "cb59e2e79c5a4817b54c780e4c82c81e": {
     "model_module": "@jupyter-widgets/controls",
     "model_module_version": "1.5.0",
     "model_name": "ProgressStyleModel",
     "state": {
      "_model_module": "@jupyter-widgets/controls",
      "_model_module_version": "1.5.0",
      "_model_name": "ProgressStyleModel",
      "_view_count": null,
      "_view_module": "@jupyter-widgets/base",
      "_view_module_version": "1.2.0",
      "_view_name": "StyleView",
      "bar_color": null,
      "description_width": ""
     }
    },
    "ceea72dca0604d969067a44d0e041d22": {
     "model_module": "@jupyter-widgets/base",
     "model_module_version": "1.2.0",
     "model_name": "LayoutModel",
     "state": {
      "_model_module": "@jupyter-widgets/base",
      "_model_module_version": "1.2.0",
      "_model_name": "LayoutModel",
      "_view_count": null,
      "_view_module": "@jupyter-widgets/base",
      "_view_module_version": "1.2.0",
      "_view_name": "LayoutView",
      "align_content": null,
      "align_items": null,
      "align_self": null,
      "border": null,
      "bottom": null,
      "display": null,
      "flex": null,
      "flex_flow": null,
      "grid_area": null,
      "grid_auto_columns": null,
      "grid_auto_flow": null,
      "grid_auto_rows": null,
      "grid_column": null,
      "grid_gap": null,
      "grid_row": null,
      "grid_template_areas": null,
      "grid_template_columns": null,
      "grid_template_rows": null,
      "height": null,
      "justify_content": null,
      "justify_items": null,
      "left": null,
      "margin": null,
      "max_height": null,
      "max_width": null,
      "min_height": null,
      "min_width": null,
      "object_fit": null,
      "object_position": null,
      "order": null,
      "overflow": null,
      "overflow_x": null,
      "overflow_y": null,
      "padding": null,
      "right": null,
      "top": null,
      "visibility": null,
      "width": null
     }
    },
    "d0447392945a4a94851d4a426689c6f8": {
     "model_module": "@jupyter-widgets/base",
     "model_module_version": "1.2.0",
     "model_name": "LayoutModel",
     "state": {
      "_model_module": "@jupyter-widgets/base",
      "_model_module_version": "1.2.0",
      "_model_name": "LayoutModel",
      "_view_count": null,
      "_view_module": "@jupyter-widgets/base",
      "_view_module_version": "1.2.0",
      "_view_name": "LayoutView",
      "align_content": null,
      "align_items": null,
      "align_self": null,
      "border": null,
      "bottom": null,
      "display": null,
      "flex": null,
      "flex_flow": null,
      "grid_area": null,
      "grid_auto_columns": null,
      "grid_auto_flow": null,
      "grid_auto_rows": null,
      "grid_column": null,
      "grid_gap": null,
      "grid_row": null,
      "grid_template_areas": null,
      "grid_template_columns": null,
      "grid_template_rows": null,
      "height": null,
      "justify_content": null,
      "justify_items": null,
      "left": null,
      "margin": null,
      "max_height": null,
      "max_width": null,
      "min_height": null,
      "min_width": null,
      "object_fit": null,
      "object_position": null,
      "order": null,
      "overflow": null,
      "overflow_x": null,
      "overflow_y": null,
      "padding": null,
      "right": null,
      "top": null,
      "visibility": null,
      "width": null
     }
    },
    "d15b7165af5b46909d29ec1d81d7bae5": {
     "model_module": "@jupyter-widgets/controls",
     "model_module_version": "1.5.0",
     "model_name": "HTMLModel",
     "state": {
      "_dom_classes": [],
      "_model_module": "@jupyter-widgets/controls",
      "_model_module_version": "1.5.0",
      "_model_name": "HTMLModel",
      "_view_count": null,
      "_view_module": "@jupyter-widgets/controls",
      "_view_module_version": "1.5.0",
      "_view_name": "HTMLView",
      "description": "",
      "description_tooltip": null,
      "layout": "IPY_MODEL_967ada1192e342cf89a8e4978271b947",
      "placeholder": "​",
      "style": "IPY_MODEL_03800f50e97b49a8ac6d6b9bf406c014",
      "value": " 208k/208k [00:00&lt;00:00, 755kB/s]"
     }
    },
    "d4526168ce6544f7a50749c1f354d8f4": {
     "model_module": "@jupyter-widgets/controls",
     "model_module_version": "1.5.0",
     "model_name": "FloatProgressModel",
     "state": {
      "_dom_classes": [],
      "_model_module": "@jupyter-widgets/controls",
      "_model_module_version": "1.5.0",
      "_model_name": "FloatProgressModel",
      "_view_count": null,
      "_view_module": "@jupyter-widgets/controls",
      "_view_module_version": "1.5.0",
      "_view_name": "ProgressView",
      "bar_style": "success",
      "description": "",
      "description_tooltip": null,
      "layout": "IPY_MODEL_511a249d783d4f57b54c9bdc79cebf47",
      "max": 570,
      "min": 0,
      "orientation": "horizontal",
      "style": "IPY_MODEL_82e555debf35433580a2ddb174a663d2",
      "value": 570
     }
    },
    "d758354ccc624f89afa69a95a918c641": {
     "model_module": "@jupyter-widgets/controls",
     "model_module_version": "1.5.0",
     "model_name": "FloatProgressModel",
     "state": {
      "_dom_classes": [],
      "_model_module": "@jupyter-widgets/controls",
      "_model_module_version": "1.5.0",
      "_model_name": "FloatProgressModel",
      "_view_count": null,
      "_view_module": "@jupyter-widgets/controls",
      "_view_module_version": "1.5.0",
      "_view_name": "ProgressView",
      "bar_style": "success",
      "description": "",
      "description_tooltip": null,
      "layout": "IPY_MODEL_ed23eec589c64762b21ffa4c24e99749",
      "max": 694,
      "min": 0,
      "orientation": "horizontal",
      "style": "IPY_MODEL_cb59e2e79c5a4817b54c780e4c82c81e",
      "value": 694
     }
    },
    "d8472d3f93864e24bf2b6267a48e89dd": {
     "model_module": "@jupyter-widgets/base",
     "model_module_version": "1.2.0",
     "model_name": "LayoutModel",
     "state": {
      "_model_module": "@jupyter-widgets/base",
      "_model_module_version": "1.2.0",
      "_model_name": "LayoutModel",
      "_view_count": null,
      "_view_module": "@jupyter-widgets/base",
      "_view_module_version": "1.2.0",
      "_view_name": "LayoutView",
      "align_content": null,
      "align_items": null,
      "align_self": null,
      "border": null,
      "bottom": null,
      "display": null,
      "flex": null,
      "flex_flow": null,
      "grid_area": null,
      "grid_auto_columns": null,
      "grid_auto_flow": null,
      "grid_auto_rows": null,
      "grid_column": null,
      "grid_gap": null,
      "grid_row": null,
      "grid_template_areas": null,
      "grid_template_columns": null,
      "grid_template_rows": null,
      "height": null,
      "justify_content": null,
      "justify_items": null,
      "left": null,
      "margin": null,
      "max_height": null,
      "max_width": null,
      "min_height": null,
      "min_width": null,
      "object_fit": null,
      "object_position": null,
      "order": null,
      "overflow": null,
      "overflow_x": null,
      "overflow_y": null,
      "padding": null,
      "right": null,
      "top": null,
      "visibility": null,
      "width": null
     }
    },
    "d8656a8250aa4ebc898d74024dcacc2b": {
     "model_module": "@jupyter-widgets/base",
     "model_module_version": "1.2.0",
     "model_name": "LayoutModel",
     "state": {
      "_model_module": "@jupyter-widgets/base",
      "_model_module_version": "1.2.0",
      "_model_name": "LayoutModel",
      "_view_count": null,
      "_view_module": "@jupyter-widgets/base",
      "_view_module_version": "1.2.0",
      "_view_name": "LayoutView",
      "align_content": null,
      "align_items": null,
      "align_self": null,
      "border": null,
      "bottom": null,
      "display": null,
      "flex": null,
      "flex_flow": null,
      "grid_area": null,
      "grid_auto_columns": null,
      "grid_auto_flow": null,
      "grid_auto_rows": null,
      "grid_column": null,
      "grid_gap": null,
      "grid_row": null,
      "grid_template_areas": null,
      "grid_template_columns": null,
      "grid_template_rows": null,
      "height": null,
      "justify_content": null,
      "justify_items": null,
      "left": null,
      "margin": null,
      "max_height": null,
      "max_width": null,
      "min_height": null,
      "min_width": null,
      "object_fit": null,
      "object_position": null,
      "order": null,
      "overflow": null,
      "overflow_x": null,
      "overflow_y": null,
      "padding": null,
      "right": null,
      "top": null,
      "visibility": null,
      "width": null
     }
    },
    "d89761efdb8e4956a491018a294a2fe4": {
     "model_module": "@jupyter-widgets/controls",
     "model_module_version": "1.5.0",
     "model_name": "DescriptionStyleModel",
     "state": {
      "_model_module": "@jupyter-widgets/controls",
      "_model_module_version": "1.5.0",
      "_model_name": "DescriptionStyleModel",
      "_view_count": null,
      "_view_module": "@jupyter-widgets/base",
      "_view_module_version": "1.2.0",
      "_view_name": "StyleView",
      "description_width": ""
     }
    },
    "d8c3a2200fb34a8f931191ab3b740452": {
     "model_module": "@jupyter-widgets/base",
     "model_module_version": "1.2.0",
     "model_name": "LayoutModel",
     "state": {
      "_model_module": "@jupyter-widgets/base",
      "_model_module_version": "1.2.0",
      "_model_name": "LayoutModel",
      "_view_count": null,
      "_view_module": "@jupyter-widgets/base",
      "_view_module_version": "1.2.0",
      "_view_name": "LayoutView",
      "align_content": null,
      "align_items": null,
      "align_self": null,
      "border": null,
      "bottom": null,
      "display": null,
      "flex": null,
      "flex_flow": null,
      "grid_area": null,
      "grid_auto_columns": null,
      "grid_auto_flow": null,
      "grid_auto_rows": null,
      "grid_column": null,
      "grid_gap": null,
      "grid_row": null,
      "grid_template_areas": null,
      "grid_template_columns": null,
      "grid_template_rows": null,
      "height": null,
      "justify_content": null,
      "justify_items": null,
      "left": null,
      "margin": null,
      "max_height": null,
      "max_width": null,
      "min_height": null,
      "min_width": null,
      "object_fit": null,
      "object_position": null,
      "order": null,
      "overflow": null,
      "overflow_x": null,
      "overflow_y": null,
      "padding": null,
      "right": null,
      "top": null,
      "visibility": null,
      "width": null
     }
    },
    "d90b37c36d104ae7a9e8b3cb9ffeb8a7": {
     "model_module": "@jupyter-widgets/controls",
     "model_module_version": "1.5.0",
     "model_name": "HTMLModel",
     "state": {
      "_dom_classes": [],
      "_model_module": "@jupyter-widgets/controls",
      "_model_module_version": "1.5.0",
      "_model_name": "HTMLModel",
      "_view_count": null,
      "_view_module": "@jupyter-widgets/controls",
      "_view_module_version": "1.5.0",
      "_view_name": "HTMLView",
      "description": "",
      "description_tooltip": null,
      "layout": "IPY_MODEL_bcfe9397235340c7936ccbcf0d859381",
      "placeholder": "​",
      "style": "IPY_MODEL_f11216b17f204e8a966ad478ce573814",
      "value": "Downloading: 100%"
     }
    },
    "de3e6b7c118344b39be6b99620191ac9": {
     "model_module": "@jupyter-widgets/controls",
     "model_module_version": "1.5.0",
     "model_name": "HTMLModel",
     "state": {
      "_dom_classes": [],
      "_model_module": "@jupyter-widgets/controls",
      "_model_module_version": "1.5.0",
      "_model_name": "HTMLModel",
      "_view_count": null,
      "_view_module": "@jupyter-widgets/controls",
      "_view_module_version": "1.5.0",
      "_view_name": "HTMLView",
      "description": "",
      "description_tooltip": null,
      "layout": "IPY_MODEL_a26f95d7676c48c3a724dab594e2ceaf",
      "placeholder": "​",
      "style": "IPY_MODEL_a848f734c3bf400383c8ecc30d5325cb",
      "value": " 694/694 [00:00&lt;00:00, 5.64kB/s]"
     }
    },
    "e35964301a4d42ae9da817624a45affb": {
     "model_module": "@jupyter-widgets/controls",
     "model_module_version": "1.5.0",
     "model_name": "DescriptionStyleModel",
     "state": {
      "_model_module": "@jupyter-widgets/controls",
      "_model_module_version": "1.5.0",
      "_model_name": "DescriptionStyleModel",
      "_view_count": null,
      "_view_module": "@jupyter-widgets/base",
      "_view_module_version": "1.2.0",
      "_view_name": "StyleView",
      "description_width": ""
     }
    },
    "e73cb3f8c9b34ecaba63ac1aeaa7d3dc": {
     "model_module": "@jupyter-widgets/controls",
     "model_module_version": "1.5.0",
     "model_name": "HTMLModel",
     "state": {
      "_dom_classes": [],
      "_model_module": "@jupyter-widgets/controls",
      "_model_module_version": "1.5.0",
      "_model_name": "HTMLModel",
      "_view_count": null,
      "_view_module": "@jupyter-widgets/controls",
      "_view_module_version": "1.5.0",
      "_view_name": "HTMLView",
      "description": "",
      "description_tooltip": null,
      "layout": "IPY_MODEL_d8c3a2200fb34a8f931191ab3b740452",
      "placeholder": "​",
      "style": "IPY_MODEL_a43379cd67ad442da372c3c280b7d386",
      "value": "Downloading: 100%"
     }
    },
    "e77c63d5a7f7410798358d3b1424e9d6": {
     "model_module": "@jupyter-widgets/controls",
     "model_module_version": "1.5.0",
     "model_name": "DescriptionStyleModel",
     "state": {
      "_model_module": "@jupyter-widgets/controls",
      "_model_module_version": "1.5.0",
      "_model_name": "DescriptionStyleModel",
      "_view_count": null,
      "_view_module": "@jupyter-widgets/base",
      "_view_module_version": "1.2.0",
      "_view_name": "StyleView",
      "description_width": ""
     }
    },
    "e8d3b0b9718f4dabb53ce30d4bd5bf67": {
     "model_module": "@jupyter-widgets/controls",
     "model_module_version": "1.5.0",
     "model_name": "ProgressStyleModel",
     "state": {
      "_model_module": "@jupyter-widgets/controls",
      "_model_module_version": "1.5.0",
      "_model_name": "ProgressStyleModel",
      "_view_count": null,
      "_view_module": "@jupyter-widgets/base",
      "_view_module_version": "1.2.0",
      "_view_name": "StyleView",
      "bar_color": null,
      "description_width": ""
     }
    },
    "e8f01e9382304533923ff66a659c6e71": {
     "model_module": "@jupyter-widgets/base",
     "model_module_version": "1.2.0",
     "model_name": "LayoutModel",
     "state": {
      "_model_module": "@jupyter-widgets/base",
      "_model_module_version": "1.2.0",
      "_model_name": "LayoutModel",
      "_view_count": null,
      "_view_module": "@jupyter-widgets/base",
      "_view_module_version": "1.2.0",
      "_view_name": "LayoutView",
      "align_content": null,
      "align_items": null,
      "align_self": null,
      "border": null,
      "bottom": null,
      "display": null,
      "flex": null,
      "flex_flow": null,
      "grid_area": null,
      "grid_auto_columns": null,
      "grid_auto_flow": null,
      "grid_auto_rows": null,
      "grid_column": null,
      "grid_gap": null,
      "grid_row": null,
      "grid_template_areas": null,
      "grid_template_columns": null,
      "grid_template_rows": null,
      "height": null,
      "justify_content": null,
      "justify_items": null,
      "left": null,
      "margin": null,
      "max_height": null,
      "max_width": null,
      "min_height": null,
      "min_width": null,
      "object_fit": null,
      "object_position": null,
      "order": null,
      "overflow": null,
      "overflow_x": null,
      "overflow_y": null,
      "padding": null,
      "right": null,
      "top": null,
      "visibility": null,
      "width": null
     }
    },
    "ed163563a98748b28473053c936fb278": {
     "model_module": "@jupyter-widgets/controls",
     "model_module_version": "1.5.0",
     "model_name": "HTMLModel",
     "state": {
      "_dom_classes": [],
      "_model_module": "@jupyter-widgets/controls",
      "_model_module_version": "1.5.0",
      "_model_name": "HTMLModel",
      "_view_count": null,
      "_view_module": "@jupyter-widgets/controls",
      "_view_module_version": "1.5.0",
      "_view_name": "HTMLView",
      "description": "",
      "description_tooltip": null,
      "layout": "IPY_MODEL_87e68f819ba34b88ac116a196289462b",
      "placeholder": "​",
      "style": "IPY_MODEL_d89761efdb8e4956a491018a294a2fe4",
      "value": " 426k/426k [00:00&lt;00:00, 821kB/s]"
     }
    },
    "ed23eec589c64762b21ffa4c24e99749": {
     "model_module": "@jupyter-widgets/base",
     "model_module_version": "1.2.0",
     "model_name": "LayoutModel",
     "state": {
      "_model_module": "@jupyter-widgets/base",
      "_model_module_version": "1.2.0",
      "_model_name": "LayoutModel",
      "_view_count": null,
      "_view_module": "@jupyter-widgets/base",
      "_view_module_version": "1.2.0",
      "_view_name": "LayoutView",
      "align_content": null,
      "align_items": null,
      "align_self": null,
      "border": null,
      "bottom": null,
      "display": null,
      "flex": null,
      "flex_flow": null,
      "grid_area": null,
      "grid_auto_columns": null,
      "grid_auto_flow": null,
      "grid_auto_rows": null,
      "grid_column": null,
      "grid_gap": null,
      "grid_row": null,
      "grid_template_areas": null,
      "grid_template_columns": null,
      "grid_template_rows": null,
      "height": null,
      "justify_content": null,
      "justify_items": null,
      "left": null,
      "margin": null,
      "max_height": null,
      "max_width": null,
      "min_height": null,
      "min_width": null,
      "object_fit": null,
      "object_position": null,
      "order": null,
      "overflow": null,
      "overflow_x": null,
      "overflow_y": null,
      "padding": null,
      "right": null,
      "top": null,
      "visibility": null,
      "width": null
     }
    },
    "f11216b17f204e8a966ad478ce573814": {
     "model_module": "@jupyter-widgets/controls",
     "model_module_version": "1.5.0",
     "model_name": "DescriptionStyleModel",
     "state": {
      "_model_module": "@jupyter-widgets/controls",
      "_model_module_version": "1.5.0",
      "_model_name": "DescriptionStyleModel",
      "_view_count": null,
      "_view_module": "@jupyter-widgets/base",
      "_view_module_version": "1.2.0",
      "_view_name": "StyleView",
      "description_width": ""
     }
    },
    "f3946ee6345244898507aad343512d5e": {
     "model_module": "@jupyter-widgets/base",
     "model_module_version": "1.2.0",
     "model_name": "LayoutModel",
     "state": {
      "_model_module": "@jupyter-widgets/base",
      "_model_module_version": "1.2.0",
      "_model_name": "LayoutModel",
      "_view_count": null,
      "_view_module": "@jupyter-widgets/base",
      "_view_module_version": "1.2.0",
      "_view_name": "LayoutView",
      "align_content": null,
      "align_items": null,
      "align_self": null,
      "border": null,
      "bottom": null,
      "display": null,
      "flex": null,
      "flex_flow": null,
      "grid_area": null,
      "grid_auto_columns": null,
      "grid_auto_flow": null,
      "grid_auto_rows": null,
      "grid_column": null,
      "grid_gap": null,
      "grid_row": null,
      "grid_template_areas": null,
      "grid_template_columns": null,
      "grid_template_rows": null,
      "height": null,
      "justify_content": null,
      "justify_items": null,
      "left": null,
      "margin": null,
      "max_height": null,
      "max_width": null,
      "min_height": null,
      "min_width": null,
      "object_fit": null,
      "object_position": null,
      "order": null,
      "overflow": null,
      "overflow_x": null,
      "overflow_y": null,
      "padding": null,
      "right": null,
      "top": null,
      "visibility": null,
      "width": null
     }
    },
    "f4b61aa632744f7d8187039b26813d25": {
     "model_module": "@jupyter-widgets/base",
     "model_module_version": "1.2.0",
     "model_name": "LayoutModel",
     "state": {
      "_model_module": "@jupyter-widgets/base",
      "_model_module_version": "1.2.0",
      "_model_name": "LayoutModel",
      "_view_count": null,
      "_view_module": "@jupyter-widgets/base",
      "_view_module_version": "1.2.0",
      "_view_name": "LayoutView",
      "align_content": null,
      "align_items": null,
      "align_self": null,
      "border": null,
      "bottom": null,
      "display": null,
      "flex": null,
      "flex_flow": null,
      "grid_area": null,
      "grid_auto_columns": null,
      "grid_auto_flow": null,
      "grid_auto_rows": null,
      "grid_column": null,
      "grid_gap": null,
      "grid_row": null,
      "grid_template_areas": null,
      "grid_template_columns": null,
      "grid_template_rows": null,
      "height": null,
      "justify_content": null,
      "justify_items": null,
      "left": null,
      "margin": null,
      "max_height": null,
      "max_width": null,
      "min_height": null,
      "min_width": null,
      "object_fit": null,
      "object_position": null,
      "order": null,
      "overflow": null,
      "overflow_x": null,
      "overflow_y": null,
      "padding": null,
      "right": null,
      "top": null,
      "visibility": null,
      "width": null
     }
    },
    "f993c41146b642f59bd938430784d71c": {
     "model_module": "@jupyter-widgets/controls",
     "model_module_version": "1.5.0",
     "model_name": "HBoxModel",
     "state": {
      "_dom_classes": [],
      "_model_module": "@jupyter-widgets/controls",
      "_model_module_version": "1.5.0",
      "_model_name": "HBoxModel",
      "_view_count": null,
      "_view_module": "@jupyter-widgets/controls",
      "_view_module_version": "1.5.0",
      "_view_name": "HBoxView",
      "box_style": "",
      "children": [
       "IPY_MODEL_42eb681d3d354ee3a5dedd80c7181897",
       "IPY_MODEL_5b21b770e4034c308ffec50553de613d",
       "IPY_MODEL_9c8e7d6ea0b6468da35bdb76de5bdd2b"
      ],
      "layout": "IPY_MODEL_fbb8d8dd8a4d4a379eee870d9f74ffb7"
     }
    },
    "f9bb4b5bf98b4e5e9c329adc5f816eba": {
     "model_module": "@jupyter-widgets/controls",
     "model_module_version": "1.5.0",
     "model_name": "HTMLModel",
     "state": {
      "_dom_classes": [],
      "_model_module": "@jupyter-widgets/controls",
      "_model_module_version": "1.5.0",
      "_model_name": "HTMLModel",
      "_view_count": null,
      "_view_module": "@jupyter-widgets/controls",
      "_view_module_version": "1.5.0",
      "_view_name": "HTMLView",
      "description": "",
      "description_tooltip": null,
      "layout": "IPY_MODEL_f3946ee6345244898507aad343512d5e",
      "placeholder": "​",
      "style": "IPY_MODEL_e77c63d5a7f7410798358d3b1424e9d6",
      "value": "Downloading: 100%"
     }
    },
    "fbb8d8dd8a4d4a379eee870d9f74ffb7": {
     "model_module": "@jupyter-widgets/base",
     "model_module_version": "1.2.0",
     "model_name": "LayoutModel",
     "state": {
      "_model_module": "@jupyter-widgets/base",
      "_model_module_version": "1.2.0",
      "_model_name": "LayoutModel",
      "_view_count": null,
      "_view_module": "@jupyter-widgets/base",
      "_view_module_version": "1.2.0",
      "_view_name": "LayoutView",
      "align_content": null,
      "align_items": null,
      "align_self": null,
      "border": null,
      "bottom": null,
      "display": null,
      "flex": null,
      "flex_flow": null,
      "grid_area": null,
      "grid_auto_columns": null,
      "grid_auto_flow": null,
      "grid_auto_rows": null,
      "grid_column": null,
      "grid_gap": null,
      "grid_row": null,
      "grid_template_areas": null,
      "grid_template_columns": null,
      "grid_template_rows": null,
      "height": null,
      "justify_content": null,
      "justify_items": null,
      "left": null,
      "margin": null,
      "max_height": null,
      "max_width": null,
      "min_height": null,
      "min_width": null,
      "object_fit": null,
      "object_position": null,
      "order": null,
      "overflow": null,
      "overflow_x": null,
      "overflow_y": null,
      "padding": null,
      "right": null,
      "top": null,
      "visibility": null,
      "width": null
     }
    },
    "fef95e5549ed4c2387c6c0d69756eb0b": {
     "model_module": "@jupyter-widgets/controls",
     "model_module_version": "1.5.0",
     "model_name": "ProgressStyleModel",
     "state": {
      "_model_module": "@jupyter-widgets/controls",
      "_model_module_version": "1.5.0",
      "_model_name": "ProgressStyleModel",
      "_view_count": null,
      "_view_module": "@jupyter-widgets/base",
      "_view_module_version": "1.2.0",
      "_view_name": "StyleView",
      "bar_color": null,
      "description_width": ""
     }
    },
    "ff52d37ab0504389adf0e5b34e92ee6d": {
     "model_module": "@jupyter-widgets/base",
     "model_module_version": "1.2.0",
     "model_name": "LayoutModel",
     "state": {
      "_model_module": "@jupyter-widgets/base",
      "_model_module_version": "1.2.0",
      "_model_name": "LayoutModel",
      "_view_count": null,
      "_view_module": "@jupyter-widgets/base",
      "_view_module_version": "1.2.0",
      "_view_name": "LayoutView",
      "align_content": null,
      "align_items": null,
      "align_self": null,
      "border": null,
      "bottom": null,
      "display": null,
      "flex": null,
      "flex_flow": null,
      "grid_area": null,
      "grid_auto_columns": null,
      "grid_auto_flow": null,
      "grid_auto_rows": null,
      "grid_column": null,
      "grid_gap": null,
      "grid_row": null,
      "grid_template_areas": null,
      "grid_template_columns": null,
      "grid_template_rows": null,
      "height": null,
      "justify_content": null,
      "justify_items": null,
      "left": null,
      "margin": null,
      "max_height": null,
      "max_width": null,
      "min_height": null,
      "min_width": null,
      "object_fit": null,
      "object_position": null,
      "order": null,
      "overflow": null,
      "overflow_x": null,
      "overflow_y": null,
      "padding": null,
      "right": null,
      "top": null,
      "visibility": null,
      "width": null
     }
    }
   }
  }
 },
 "nbformat": 4,
 "nbformat_minor": 1
}
