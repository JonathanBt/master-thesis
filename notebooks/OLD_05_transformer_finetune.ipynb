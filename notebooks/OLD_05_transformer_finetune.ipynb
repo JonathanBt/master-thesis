{
  "cells": [
    {
      "cell_type": "markdown",
      "metadata": {
        "id": "lw7ayKbbxu5R"
      },
      "source": [
        "## Google Colab"
      ]
    },
    {
      "cell_type": "code",
      "execution_count": 1,
      "metadata": {
        "id": "FfYP5jfuxthe",
        "colab": {
          "base_uri": "https://localhost:8080/"
        },
        "outputId": "1b5b1067-2bfb-4c79-885d-e819cc3dd2f3"
      },
      "outputs": [
        {
          "output_type": "stream",
          "name": "stdout",
          "text": [
            "Drive already mounted at /content/drive/; to attempt to forcibly remount, call drive.mount(\"/content/drive/\", force_remount=True).\n",
            "/content/drive/My Drive/master-thesis\n",
            "Requirement already satisfied: finetune in /usr/local/lib/python3.7/dist-packages (0.9.0)\n",
            "Requirement already satisfied: scikit-learn<0.23,>=0.20.2 in /usr/local/lib/python3.7/dist-packages (from finetune) (0.22.2.post1)\n",
            "Requirement already satisfied: imbalanced-learn<0.7.0,>=0.6.0 in /usr/local/lib/python3.7/dist-packages (from finetune) (0.6.2)\n",
            "Requirement already satisfied: tensorflow-addons==0.11.2 in /usr/local/lib/python3.7/dist-packages (from finetune) (0.11.2)\n",
            "Requirement already satisfied: tqdl==0.0.4 in /usr/local/lib/python3.7/dist-packages (from finetune) (0.0.4)\n",
            "Requirement already satisfied: tabulate<0.9.0,>=0.8.6 in /usr/local/lib/python3.7/dist-packages (from finetune) (0.8.9)\n",
            "Requirement already satisfied: tensorflow-estimator in /usr/local/lib/python3.7/dist-packages (from finetune) (2.7.0)\n",
            "Requirement already satisfied: ftfy>=4.4.0 in /usr/local/lib/python3.7/dist-packages (from finetune) (6.0.3)\n",
            "Requirement already satisfied: sentencepiece>=0.1.83 in /usr/local/lib/python3.7/dist-packages (from finetune) (0.1.96)\n",
            "Requirement already satisfied: spacy<3.0.0,>=2.0.0 in /usr/local/lib/python3.7/dist-packages (from finetune) (2.2.4)\n",
            "Requirement already satisfied: joblib>=0.12.0 in /usr/local/lib/python3.7/dist-packages (from finetune) (1.1.0)\n",
            "Requirement already satisfied: scipy>=1.1.0 in /usr/local/lib/python3.7/dist-packages (from finetune) (1.4.1)\n",
            "Requirement already satisfied: transformers==4.5.1 in /usr/local/lib/python3.7/dist-packages (from finetune) (4.5.1)\n",
            "Requirement already satisfied: bs4>=0.0.1 in /usr/local/lib/python3.7/dist-packages (from finetune) (0.0.1)\n",
            "Requirement already satisfied: numpy>=1.18.4 in /usr/local/lib/python3.7/dist-packages (from finetune) (1.19.5)\n",
            "Requirement already satisfied: pandas>=0.23.1 in /root/.local/lib/python3.7/site-packages (from finetune) (1.3.0)\n",
            "Requirement already satisfied: nltk>=3.2.4 in /usr/local/lib/python3.7/dist-packages (from finetune) (3.2.5)\n",
            "Requirement already satisfied: psutil==5.7.0 in /usr/local/lib/python3.7/dist-packages (from finetune) (5.7.0)\n",
            "Requirement already satisfied: lxml>=4.3.3 in /usr/local/lib/python3.7/dist-packages (from finetune) (4.7.1)\n",
            "Requirement already satisfied: h5py>=2.8.0 in /usr/local/lib/python3.7/dist-packages (from finetune) (3.1.0)\n",
            "Requirement already satisfied: tqdm>=4.0.0 in /usr/local/lib/python3.7/dist-packages (from finetune) (4.62.3)\n",
            "Requirement already satisfied: regex>=2019.03.12 in /usr/local/lib/python3.7/dist-packages (from finetune) (2019.12.20)\n",
            "Requirement already satisfied: typeguard>=2.7 in /usr/local/lib/python3.7/dist-packages (from tensorflow-addons==0.11.2->finetune) (2.7.1)\n",
            "Requirement already satisfied: requests in /usr/local/lib/python3.7/dist-packages (from tqdl==0.0.4->finetune) (2.23.0)\n",
            "Requirement already satisfied: importlib-metadata in /usr/local/lib/python3.7/dist-packages (from transformers==4.5.1->finetune) (4.10.1)\n",
            "Requirement already satisfied: tokenizers<0.11,>=0.10.1 in /usr/local/lib/python3.7/dist-packages (from transformers==4.5.1->finetune) (0.10.3)\n",
            "Requirement already satisfied: packaging in /usr/local/lib/python3.7/dist-packages (from transformers==4.5.1->finetune) (21.3)\n",
            "Requirement already satisfied: filelock in /usr/local/lib/python3.7/dist-packages (from transformers==4.5.1->finetune) (3.4.2)\n",
            "Requirement already satisfied: sacremoses in /usr/local/lib/python3.7/dist-packages (from transformers==4.5.1->finetune) (0.0.47)\n",
            "Requirement already satisfied: beautifulsoup4 in /usr/local/lib/python3.7/dist-packages (from bs4>=0.0.1->finetune) (4.6.3)\n",
            "Requirement already satisfied: wcwidth in /usr/local/lib/python3.7/dist-packages (from ftfy>=4.4.0->finetune) (0.2.5)\n",
            "Requirement already satisfied: cached-property in /usr/local/lib/python3.7/dist-packages (from h5py>=2.8.0->finetune) (1.5.2)\n",
            "Requirement already satisfied: six in /usr/local/lib/python3.7/dist-packages (from nltk>=3.2.4->finetune) (1.15.0)\n",
            "Requirement already satisfied: pytz>=2017.3 in /usr/local/lib/python3.7/dist-packages (from pandas>=0.23.1->finetune) (2018.9)\n",
            "Requirement already satisfied: python-dateutil>=2.7.3 in /usr/local/lib/python3.7/dist-packages (from pandas>=0.23.1->finetune) (2.8.2)\n",
            "Requirement already satisfied: plac<1.2.0,>=0.9.6 in /usr/local/lib/python3.7/dist-packages (from spacy<3.0.0,>=2.0.0->finetune) (1.1.3)\n",
            "Requirement already satisfied: setuptools in /usr/local/lib/python3.7/dist-packages (from spacy<3.0.0,>=2.0.0->finetune) (57.4.0)\n",
            "Requirement already satisfied: blis<0.5.0,>=0.4.0 in /usr/local/lib/python3.7/dist-packages (from spacy<3.0.0,>=2.0.0->finetune) (0.4.1)\n",
            "Requirement already satisfied: wasabi<1.1.0,>=0.4.0 in /usr/local/lib/python3.7/dist-packages (from spacy<3.0.0,>=2.0.0->finetune) (0.9.0)\n",
            "Requirement already satisfied: murmurhash<1.1.0,>=0.28.0 in /usr/local/lib/python3.7/dist-packages (from spacy<3.0.0,>=2.0.0->finetune) (1.0.6)\n",
            "Requirement already satisfied: thinc==7.4.0 in /usr/local/lib/python3.7/dist-packages (from spacy<3.0.0,>=2.0.0->finetune) (7.4.0)\n",
            "Requirement already satisfied: preshed<3.1.0,>=3.0.2 in /usr/local/lib/python3.7/dist-packages (from spacy<3.0.0,>=2.0.0->finetune) (3.0.6)\n",
            "Requirement already satisfied: catalogue<1.1.0,>=0.0.7 in /usr/local/lib/python3.7/dist-packages (from spacy<3.0.0,>=2.0.0->finetune) (1.0.0)\n",
            "Requirement already satisfied: cymem<2.1.0,>=2.0.2 in /usr/local/lib/python3.7/dist-packages (from spacy<3.0.0,>=2.0.0->finetune) (2.0.6)\n",
            "Requirement already satisfied: srsly<1.1.0,>=1.0.2 in /usr/local/lib/python3.7/dist-packages (from spacy<3.0.0,>=2.0.0->finetune) (1.0.5)\n",
            "Requirement already satisfied: typing-extensions>=3.6.4 in /usr/local/lib/python3.7/dist-packages (from importlib-metadata->transformers==4.5.1->finetune) (3.10.0.2)\n",
            "Requirement already satisfied: zipp>=0.5 in /usr/local/lib/python3.7/dist-packages (from importlib-metadata->transformers==4.5.1->finetune) (3.7.0)\n",
            "Requirement already satisfied: certifi>=2017.4.17 in /usr/local/lib/python3.7/dist-packages (from requests->tqdl==0.0.4->finetune) (2021.10.8)\n",
            "Requirement already satisfied: idna<3,>=2.5 in /usr/local/lib/python3.7/dist-packages (from requests->tqdl==0.0.4->finetune) (2.10)\n",
            "Requirement already satisfied: urllib3!=1.25.0,!=1.25.1,<1.26,>=1.21.1 in /usr/local/lib/python3.7/dist-packages (from requests->tqdl==0.0.4->finetune) (1.24.3)\n",
            "Requirement already satisfied: chardet<4,>=3.0.2 in /usr/local/lib/python3.7/dist-packages (from requests->tqdl==0.0.4->finetune) (3.0.4)\n",
            "Requirement already satisfied: pyparsing!=3.0.5,>=2.0.2 in /usr/local/lib/python3.7/dist-packages (from packaging->transformers==4.5.1->finetune) (3.0.7)\n",
            "Requirement already satisfied: click in /usr/local/lib/python3.7/dist-packages (from sacremoses->transformers==4.5.1->finetune) (7.1.2)\n",
            "Requirement already satisfied: pandas==1.3 in /root/.local/lib/python3.7/site-packages (1.3.0)\n",
            "Requirement already satisfied: python-dateutil>=2.7.3 in /usr/local/lib/python3.7/dist-packages (from pandas==1.3) (2.8.2)\n",
            "Requirement already satisfied: numpy>=1.17.3 in /usr/local/lib/python3.7/dist-packages (from pandas==1.3) (1.19.5)\n",
            "Requirement already satisfied: pytz>=2017.3 in /usr/local/lib/python3.7/dist-packages (from pandas==1.3) (2018.9)\n",
            "Requirement already satisfied: six>=1.5 in /usr/local/lib/python3.7/dist-packages (from python-dateutil>=2.7.3->pandas==1.3) (1.15.0)\n",
            "Requirement already satisfied: scikit-multilearn in /usr/local/lib/python3.7/dist-packages (0.2.0)\n"
          ]
        }
      ],
      "source": [
        "from google.colab import drive\n",
        "drive.mount('/content/drive/')\n",
        "%cd 'drive/My Drive/master-thesis/'\n",
        "\n",
        "#!pip3 install finetune\n",
        "!pip install --upgrade --user pandas==1.3 # needed to use pickle\n",
        "!pip install scikit-multilearn"
      ]
    },
    {
      "cell_type": "code",
      "source": [
        "# Finetune installation\n",
        "!git clone -b master https://github.com/IndicoDataSolutions/finetune && cd finetune\n",
        "!python3 setup.py develop              \n",
        "!pip3 install tensorflow-gpu --upgrade \n",
        "!python3 -m spacy download en          "
      ],
      "metadata": {
        "id": "H8l1bugn1Z9I"
      },
      "execution_count": null,
      "outputs": []
    },
    {
      "cell_type": "code",
      "execution_count": 2,
      "metadata": {
        "id": "IsgJ_vKExFum"
      },
      "outputs": [],
      "source": [
        "import pandas as pd\n",
        "import numpy as np\n",
        "import matplotlib.pyplot as plt\n",
        "import seaborn as sns\n",
        "import pickle \n",
        "from tqdm.auto import tqdm  \n",
        "import torch\n",
        "import warnings\n",
        "import tensorflow\n",
        "\n",
        "from sklearn.metrics import accuracy_score, f1_score, precision_score, recall_score, classification_report, confusion_matrix, make_scorer\n",
        "from skmultilearn.model_selection import IterativeStratification\n",
        "from sklearn.model_selection import train_test_split\n",
        "\n",
        "warnings.filterwarnings(\"ignore\")\n",
        "np.random.seed(0)"
      ]
    },
    {
      "cell_type": "code",
      "execution_count": 3,
      "metadata": {
        "id": "EPWvuRmExFuo"
      },
      "outputs": [],
      "source": [
        "pd.set_option(\"display.max_rows\", 5)\n",
        "pd.set_option('display.max_columns', None)\n",
        "pd.set_option('display.max_colwidth', 100)"
      ]
    },
    {
      "cell_type": "markdown",
      "metadata": {
        "id": "Mo5Z0gSexFuo"
      },
      "source": [
        "## 1. Load data"
      ]
    },
    {
      "cell_type": "code",
      "execution_count": 4,
      "metadata": {
        "colab": {
          "base_uri": "https://localhost:8080/",
          "height": 734
        },
        "id": "bnrD0Tij0O3P",
        "outputId": "80c3324c-5757-43c9-c82c-7abd9af7c55e"
      },
      "outputs": [
        {
          "output_type": "execute_result",
          "data": {
            "text/html": [
              "\n",
              "  <div id=\"df-e7d90beb-86d5-4553-8b27-b8af39b24273\">\n",
              "    <div class=\"colab-df-container\">\n",
              "      <div>\n",
              "<style scoped>\n",
              "    .dataframe tbody tr th:only-of-type {\n",
              "        vertical-align: middle;\n",
              "    }\n",
              "\n",
              "    .dataframe tbody tr th {\n",
              "        vertical-align: top;\n",
              "    }\n",
              "\n",
              "    .dataframe thead th {\n",
              "        text-align: right;\n",
              "    }\n",
              "</style>\n",
              "<table border=\"1\" class=\"dataframe\">\n",
              "  <thead>\n",
              "    <tr style=\"text-align: right;\">\n",
              "      <th></th>\n",
              "      <th>ID</th>\n",
              "      <th>Identifier</th>\n",
              "      <th>Company_Name</th>\n",
              "      <th>ISIN</th>\n",
              "      <th>Ticker</th>\n",
              "      <th>Country_of_Exchange</th>\n",
              "      <th>Financial_Period_Absolute</th>\n",
              "      <th>Financial_Period_Relative</th>\n",
              "      <th>CSR_URL</th>\n",
              "      <th>SDG_1</th>\n",
              "      <th>SDG_2</th>\n",
              "      <th>SDG_3</th>\n",
              "      <th>SDG_4</th>\n",
              "      <th>SDG_5</th>\n",
              "      <th>SDG_6</th>\n",
              "      <th>SDG_7</th>\n",
              "      <th>SDG_8</th>\n",
              "      <th>SDG_9</th>\n",
              "      <th>SDG_10</th>\n",
              "      <th>SDG_11</th>\n",
              "      <th>SDG_12</th>\n",
              "      <th>SDG_13</th>\n",
              "      <th>SDG_14</th>\n",
              "      <th>SDG_15</th>\n",
              "      <th>SDG_16</th>\n",
              "      <th>SDG_17</th>\n",
              "      <th>CSR_Filename</th>\n",
              "      <th>CSR_Text</th>\n",
              "      <th>CSR_Text_clean</th>\n",
              "      <th>CSR_Text_tokenized</th>\n",
              "    </tr>\n",
              "  </thead>\n",
              "  <tbody>\n",
              "    <tr>\n",
              "      <th>0</th>\n",
              "      <td>0</td>\n",
              "      <td>888.L</td>\n",
              "      <td>888 Holdings PLC</td>\n",
              "      <td>GI000A0F6407</td>\n",
              "      <td>888</td>\n",
              "      <td>United Kingdom</td>\n",
              "      <td>2020</td>\n",
              "      <td>FY0</td>\n",
              "      <td>https://corporate.888.com/wp-content/uploads/2021/04/2020-Annual-Report.pdf</td>\n",
              "      <td>False</td>\n",
              "      <td>False</td>\n",
              "      <td>True</td>\n",
              "      <td>True</td>\n",
              "      <td>True</td>\n",
              "      <td>True</td>\n",
              "      <td>True</td>\n",
              "      <td>True</td>\n",
              "      <td>False</td>\n",
              "      <td>NaN</td>\n",
              "      <td>False</td>\n",
              "      <td>True</td>\n",
              "      <td>True</td>\n",
              "      <td>NaN</td>\n",
              "      <td>False</td>\n",
              "      <td>True</td>\n",
              "      <td>False</td>\n",
              "      <td>0_888.L_2020.pdf</td>\n",
              "      <td>888 HOLDINGS PLC\\n\\nANNUAL REPORT &amp; ACCOUNTS 2020\\n\\n\fA YEAR OF  \\nSTRONG GROWTH \\n\\n888 IS ONE ...</td>\n",
              "      <td>HOLDINGS PLC ANNUAL REPORT &amp; ACCOUNTS 2020 A YEAR OF STRONG GROWTH 888 IS ONE OF THE WORLDS LEA...</td>\n",
              "      <td>holding plc annual report account year strong growth one world leading online betting gaming com...</td>\n",
              "    </tr>\n",
              "    <tr>\n",
              "      <th>1</th>\n",
              "      <td>1</td>\n",
              "      <td>A.N</td>\n",
              "      <td>Agilent Technologies Inc</td>\n",
              "      <td>US00846U1016</td>\n",
              "      <td>A</td>\n",
              "      <td>United States of America</td>\n",
              "      <td>2020</td>\n",
              "      <td>FY0</td>\n",
              "      <td>https://www.agilent.com/about/companyinfo/sustainability/Agilent-Report-CSR-2020.pdf</td>\n",
              "      <td>False</td>\n",
              "      <td>False</td>\n",
              "      <td>True</td>\n",
              "      <td>True</td>\n",
              "      <td>True</td>\n",
              "      <td>True</td>\n",
              "      <td>True</td>\n",
              "      <td>True</td>\n",
              "      <td>False</td>\n",
              "      <td>NaN</td>\n",
              "      <td>False</td>\n",
              "      <td>True</td>\n",
              "      <td>True</td>\n",
              "      <td>NaN</td>\n",
              "      <td>True</td>\n",
              "      <td>True</td>\n",
              "      <td>False</td>\n",
              "      <td>1_A.N_2020.pdf</td>\n",
              "      <td>Delivering on  \\nour Promises\\n\\n2020 Corporate Social Responsibility Report\\n\\n1\\n\\n\fLetter fro...</td>\n",
              "      <td>Delivering on our Promises 2020 Corporate Social Responsibility Report 1 Letter from the Presid...</td>\n",
              "      <td>delivering promise corporate social responsibility report letter president stakeholder engagemen...</td>\n",
              "    </tr>\n",
              "    <tr>\n",
              "      <th>...</th>\n",
              "      <td>...</td>\n",
              "      <td>...</td>\n",
              "      <td>...</td>\n",
              "      <td>...</td>\n",
              "      <td>...</td>\n",
              "      <td>...</td>\n",
              "      <td>...</td>\n",
              "      <td>...</td>\n",
              "      <td>...</td>\n",
              "      <td>...</td>\n",
              "      <td>...</td>\n",
              "      <td>...</td>\n",
              "      <td>...</td>\n",
              "      <td>...</td>\n",
              "      <td>...</td>\n",
              "      <td>...</td>\n",
              "      <td>...</td>\n",
              "      <td>...</td>\n",
              "      <td>...</td>\n",
              "      <td>...</td>\n",
              "      <td>...</td>\n",
              "      <td>...</td>\n",
              "      <td>...</td>\n",
              "      <td>...</td>\n",
              "      <td>...</td>\n",
              "      <td>...</td>\n",
              "      <td>...</td>\n",
              "      <td>...</td>\n",
              "      <td>...</td>\n",
              "      <td>...</td>\n",
              "    </tr>\n",
              "    <tr>\n",
              "      <th>8154</th>\n",
              "      <td>12676</td>\n",
              "      <td>ZBH.N</td>\n",
              "      <td>Zimmer Biomet Holdings Inc</td>\n",
              "      <td>US98956P1021</td>\n",
              "      <td>ZBH</td>\n",
              "      <td>United States of America</td>\n",
              "      <td>2016</td>\n",
              "      <td>FY-4</td>\n",
              "      <td>https://www.responsibilityreports.com/HostedData/ResponsibilityReportArchive/z/NYSE_ZBH_2016.pdf</td>\n",
              "      <td>False</td>\n",
              "      <td>False</td>\n",
              "      <td>True</td>\n",
              "      <td>True</td>\n",
              "      <td>True</td>\n",
              "      <td>True</td>\n",
              "      <td>True</td>\n",
              "      <td>True</td>\n",
              "      <td>False</td>\n",
              "      <td>NaN</td>\n",
              "      <td>False</td>\n",
              "      <td>True</td>\n",
              "      <td>False</td>\n",
              "      <td>NaN</td>\n",
              "      <td>False</td>\n",
              "      <td>True</td>\n",
              "      <td>False</td>\n",
              "      <td>12676_ZBH.N_2016.pdf</td>\n",
              "      <td>E N V I R O N M E N T A L  \\n\\n \\n\\nS O C I A L  \\n\\nG O V E R N A N C E\\n\\nSustainability \\nRep...</td>\n",
              "      <td>E N V I R O N M E N T A L S O C I A L G O V E R N A N C E Sustainability Report 2016 T A B L E ...</td>\n",
              "      <td>e n v r n e n l c l g v e r n n c e sustainability report b l e f c n e n company profile corpor...</td>\n",
              "    </tr>\n",
              "    <tr>\n",
              "      <th>8155</th>\n",
              "      <td>12677</td>\n",
              "      <td>ZBH.N</td>\n",
              "      <td>Zimmer Biomet Holdings Inc</td>\n",
              "      <td>US98956P1021</td>\n",
              "      <td>ZBH</td>\n",
              "      <td>United States of America</td>\n",
              "      <td>2015</td>\n",
              "      <td>FY-5</td>\n",
              "      <td>https://www.responsibilityreports.com/HostedData/ResponsibilityReportArchive/z/NYSE_ZBH_2015.pdf</td>\n",
              "      <td>False</td>\n",
              "      <td>False</td>\n",
              "      <td>True</td>\n",
              "      <td>True</td>\n",
              "      <td>False</td>\n",
              "      <td>True</td>\n",
              "      <td>True</td>\n",
              "      <td>False</td>\n",
              "      <td>False</td>\n",
              "      <td>NaN</td>\n",
              "      <td>False</td>\n",
              "      <td>True</td>\n",
              "      <td>False</td>\n",
              "      <td>NaN</td>\n",
              "      <td>False</td>\n",
              "      <td>False</td>\n",
              "      <td>False</td>\n",
              "      <td>12677_ZBH.N_2015.pdf</td>\n",
              "      <td>E N V I R O N M E N T A L  \\n\\n \\n\\nS O C I A L  \\n\\nG O V E R N A N C E\\n\\nSustainability \\nRep...</td>\n",
              "      <td>E N V I R O N M E N T A L S O C I A L G O V E R N A N C E Sustainability Report 2015 Investing ...</td>\n",
              "      <td>e n v r n e n l c l g v e r n n c e sustainability report investing future world b l e f c n e n...</td>\n",
              "    </tr>\n",
              "  </tbody>\n",
              "</table>\n",
              "<p>8141 rows × 30 columns</p>\n",
              "</div>\n",
              "      <button class=\"colab-df-convert\" onclick=\"convertToInteractive('df-e7d90beb-86d5-4553-8b27-b8af39b24273')\"\n",
              "              title=\"Convert this dataframe to an interactive table.\"\n",
              "              style=\"display:none;\">\n",
              "        \n",
              "  <svg xmlns=\"http://www.w3.org/2000/svg\" height=\"24px\"viewBox=\"0 0 24 24\"\n",
              "       width=\"24px\">\n",
              "    <path d=\"M0 0h24v24H0V0z\" fill=\"none\"/>\n",
              "    <path d=\"M18.56 5.44l.94 2.06.94-2.06 2.06-.94-2.06-.94-.94-2.06-.94 2.06-2.06.94zm-11 1L8.5 8.5l.94-2.06 2.06-.94-2.06-.94L8.5 2.5l-.94 2.06-2.06.94zm10 10l.94 2.06.94-2.06 2.06-.94-2.06-.94-.94-2.06-.94 2.06-2.06.94z\"/><path d=\"M17.41 7.96l-1.37-1.37c-.4-.4-.92-.59-1.43-.59-.52 0-1.04.2-1.43.59L10.3 9.45l-7.72 7.72c-.78.78-.78 2.05 0 2.83L4 21.41c.39.39.9.59 1.41.59.51 0 1.02-.2 1.41-.59l7.78-7.78 2.81-2.81c.8-.78.8-2.07 0-2.86zM5.41 20L4 18.59l7.72-7.72 1.47 1.35L5.41 20z\"/>\n",
              "  </svg>\n",
              "      </button>\n",
              "      \n",
              "  <style>\n",
              "    .colab-df-container {\n",
              "      display:flex;\n",
              "      flex-wrap:wrap;\n",
              "      gap: 12px;\n",
              "    }\n",
              "\n",
              "    .colab-df-convert {\n",
              "      background-color: #E8F0FE;\n",
              "      border: none;\n",
              "      border-radius: 50%;\n",
              "      cursor: pointer;\n",
              "      display: none;\n",
              "      fill: #1967D2;\n",
              "      height: 32px;\n",
              "      padding: 0 0 0 0;\n",
              "      width: 32px;\n",
              "    }\n",
              "\n",
              "    .colab-df-convert:hover {\n",
              "      background-color: #E2EBFA;\n",
              "      box-shadow: 0px 1px 2px rgba(60, 64, 67, 0.3), 0px 1px 3px 1px rgba(60, 64, 67, 0.15);\n",
              "      fill: #174EA6;\n",
              "    }\n",
              "\n",
              "    [theme=dark] .colab-df-convert {\n",
              "      background-color: #3B4455;\n",
              "      fill: #D2E3FC;\n",
              "    }\n",
              "\n",
              "    [theme=dark] .colab-df-convert:hover {\n",
              "      background-color: #434B5C;\n",
              "      box-shadow: 0px 1px 3px 1px rgba(0, 0, 0, 0.15);\n",
              "      filter: drop-shadow(0px 1px 2px rgba(0, 0, 0, 0.3));\n",
              "      fill: #FFFFFF;\n",
              "    }\n",
              "  </style>\n",
              "\n",
              "      <script>\n",
              "        const buttonEl =\n",
              "          document.querySelector('#df-e7d90beb-86d5-4553-8b27-b8af39b24273 button.colab-df-convert');\n",
              "        buttonEl.style.display =\n",
              "          google.colab.kernel.accessAllowed ? 'block' : 'none';\n",
              "\n",
              "        async function convertToInteractive(key) {\n",
              "          const element = document.querySelector('#df-e7d90beb-86d5-4553-8b27-b8af39b24273');\n",
              "          const dataTable =\n",
              "            await google.colab.kernel.invokeFunction('convertToInteractive',\n",
              "                                                     [key], {});\n",
              "          if (!dataTable) return;\n",
              "\n",
              "          const docLinkHtml = 'Like what you see? Visit the ' +\n",
              "            '<a target=\"_blank\" href=https://colab.research.google.com/notebooks/data_table.ipynb>data table notebook</a>'\n",
              "            + ' to learn more about interactive tables.';\n",
              "          element.innerHTML = '';\n",
              "          dataTable['output_type'] = 'display_data';\n",
              "          await google.colab.output.renderOutput(dataTable, element);\n",
              "          const docLink = document.createElement('div');\n",
              "          docLink.innerHTML = docLinkHtml;\n",
              "          element.appendChild(docLink);\n",
              "        }\n",
              "      </script>\n",
              "    </div>\n",
              "  </div>\n",
              "  "
            ],
            "text/plain": [
              "         ID Identifier                Company_Name          ISIN Ticker  \\\n",
              "0         0      888.L            888 Holdings PLC  GI000A0F6407    888   \n",
              "1         1        A.N    Agilent Technologies Inc  US00846U1016      A   \n",
              "...     ...        ...                         ...           ...    ...   \n",
              "8154  12676      ZBH.N  Zimmer Biomet Holdings Inc  US98956P1021    ZBH   \n",
              "8155  12677      ZBH.N  Zimmer Biomet Holdings Inc  US98956P1021    ZBH   \n",
              "\n",
              "           Country_of_Exchange  Financial_Period_Absolute  \\\n",
              "0               United Kingdom                       2020   \n",
              "1     United States of America                       2020   \n",
              "...                        ...                        ...   \n",
              "8154  United States of America                       2016   \n",
              "8155  United States of America                       2015   \n",
              "\n",
              "     Financial_Period_Relative  \\\n",
              "0                          FY0   \n",
              "1                          FY0   \n",
              "...                        ...   \n",
              "8154                      FY-4   \n",
              "8155                      FY-5   \n",
              "\n",
              "                                                                                               CSR_URL  \\\n",
              "0                          https://corporate.888.com/wp-content/uploads/2021/04/2020-Annual-Report.pdf   \n",
              "1                 https://www.agilent.com/about/companyinfo/sustainability/Agilent-Report-CSR-2020.pdf   \n",
              "...                                                                                                ...   \n",
              "8154  https://www.responsibilityreports.com/HostedData/ResponsibilityReportArchive/z/NYSE_ZBH_2016.pdf   \n",
              "8155  https://www.responsibilityreports.com/HostedData/ResponsibilityReportArchive/z/NYSE_ZBH_2015.pdf   \n",
              "\n",
              "      SDG_1  SDG_2  SDG_3  SDG_4  SDG_5  SDG_6  SDG_7  SDG_8  SDG_9  SDG_10  \\\n",
              "0     False  False   True   True   True   True   True   True  False     NaN   \n",
              "1     False  False   True   True   True   True   True   True  False     NaN   \n",
              "...     ...    ...    ...    ...    ...    ...    ...    ...    ...     ...   \n",
              "8154  False  False   True   True   True   True   True   True  False     NaN   \n",
              "8155  False  False   True   True  False   True   True  False  False     NaN   \n",
              "\n",
              "      SDG_11  SDG_12  SDG_13  SDG_14  SDG_15  SDG_16  SDG_17  \\\n",
              "0      False    True    True     NaN   False    True   False   \n",
              "1      False    True    True     NaN    True    True   False   \n",
              "...      ...     ...     ...     ...     ...     ...     ...   \n",
              "8154   False    True   False     NaN   False    True   False   \n",
              "8155   False    True   False     NaN   False   False   False   \n",
              "\n",
              "              CSR_Filename  \\\n",
              "0         0_888.L_2020.pdf   \n",
              "1           1_A.N_2020.pdf   \n",
              "...                    ...   \n",
              "8154  12676_ZBH.N_2016.pdf   \n",
              "8155  12677_ZBH.N_2015.pdf   \n",
              "\n",
              "                                                                                                 CSR_Text  \\\n",
              "0     888 HOLDINGS PLC\\n\\nANNUAL REPORT & ACCOUNTS 2020\\n\\n\n",
              "A YEAR OF  \\nSTRONG GROWTH \\n\\n888 IS ONE ...   \n",
              "1     Delivering on  \\nour Promises\\n\\n2020 Corporate Social Responsibility Report\\n\\n1\\n\\n\n",
              "Letter fro...   \n",
              "...                                                                                                   ...   \n",
              "8154  E N V I R O N M E N T A L  \\n\\n \\n\\nS O C I A L  \\n\\nG O V E R N A N C E\\n\\nSustainability \\nRep...   \n",
              "8155  E N V I R O N M E N T A L  \\n\\n \\n\\nS O C I A L  \\n\\nG O V E R N A N C E\\n\\nSustainability \\nRep...   \n",
              "\n",
              "                                                                                           CSR_Text_clean  \\\n",
              "0      HOLDINGS PLC ANNUAL REPORT & ACCOUNTS 2020 A YEAR OF STRONG GROWTH 888 IS ONE OF THE WORLDS LEA...   \n",
              "1      Delivering on our Promises 2020 Corporate Social Responsibility Report 1 Letter from the Presid...   \n",
              "...                                                                                                   ...   \n",
              "8154   E N V I R O N M E N T A L S O C I A L G O V E R N A N C E Sustainability Report 2016 T A B L E ...   \n",
              "8155   E N V I R O N M E N T A L S O C I A L G O V E R N A N C E Sustainability Report 2015 Investing ...   \n",
              "\n",
              "                                                                                       CSR_Text_tokenized  \n",
              "0     holding plc annual report account year strong growth one world leading online betting gaming com...  \n",
              "1     delivering promise corporate social responsibility report letter president stakeholder engagemen...  \n",
              "...                                                                                                   ...  \n",
              "8154  e n v r n e n l c l g v e r n n c e sustainability report b l e f c n e n company profile corpor...  \n",
              "8155  e n v r n e n l c l g v e r n n c e sustainability report investing future world b l e f c n e n...  \n",
              "\n",
              "[8141 rows x 30 columns]"
            ]
          },
          "metadata": {},
          "execution_count": 4
        }
      ],
      "source": [
        "# Load dataset\n",
        "df = pd.read_pickle('reports_tokenized.p')\n",
        "df"
      ]
    },
    {
      "cell_type": "code",
      "execution_count": 5,
      "metadata": {
        "id": "lrqxDYy_1GWy"
      },
      "outputs": [],
      "source": [
        "# Store labels\n",
        "labels = ['SDG_1', 'SDG_2', 'SDG_3', 'SDG_4', 'SDG_5', 'SDG_6', 'SDG_7', 'SDG_8', 'SDG_9', 'SDG_11', 'SDG_12', 'SDG_13', 'SDG_15', 'SDG_16', 'SDG_17']\n",
        "Y = df[labels].to_numpy().astype(int)"
      ]
    },
    {
      "cell_type": "code",
      "source": [
        "# Split into training and test data (stratified for multi-label, adapted to work with df column)\n",
        "\n",
        "def iterative_train_test_split(X, y, test_size):\n",
        "    stratifier = IterativeStratification(n_splits=2, order=2, sample_distribution_per_fold=[test_size, 1.0-test_size])\n",
        "    train_indexes, test_indexes = next(stratifier.split(X, y))\n",
        "\n",
        "    X_train, y_train = X.iloc[train_indexes], y[train_indexes, :]\n",
        "    X_test, y_test = X.iloc[test_indexes], y[test_indexes, :]\n",
        "\n",
        "    return X_train, y_train, X_test, y_test\n",
        "\n",
        "X_train, Y_train, X_test, Y_test = iterative_train_test_split(df['CSR_Text_clean'], Y, test_size=0.2)"
      ],
      "metadata": {
        "id": "Y00-vRBzPuUO"
      },
      "execution_count": 6,
      "outputs": []
    },
    {
      "cell_type": "code",
      "source": [
        "# Transform labels to list of lists (needed for finetune multilabel classifier)\n",
        "\n",
        "# Y_train\n",
        "df_temp = pd.DataFrame(data=Y_train,   \n",
        "             index=range(np.shape(Y_train)[0]),    \n",
        "             columns=labels) \n",
        "df_temp = df_temp.astype(bool)\n",
        "Y_train_new = []\n",
        "for row in df_temp.apply(lambda x: ','.join(x.index[x]), axis=1):\n",
        "  Y_train_new.append(row.split(','))\n",
        "\n",
        "# Y_test\n",
        "df_temp = pd.DataFrame(data=Y_test,   \n",
        "             index=range(np.shape(Y_test)[0]),    \n",
        "             columns=labels) \n",
        "df_temp = df_temp.astype(bool)\n",
        "Y_test_new = []\n",
        "for row in df_temp.apply(lambda x: ','.join(x.index[x]), axis=1):\n",
        "  Y_test_new.append(row.split(','))"
      ],
      "metadata": {
        "id": "HTFHfp6Xj8ID"
      },
      "execution_count": 7,
      "outputs": []
    },
    {
      "cell_type": "markdown",
      "metadata": {
        "id": "_o8oyysW0eSI"
      },
      "source": [
        "## 2. Train model with finetune API"
      ]
    },
    {
      "cell_type": "code",
      "source": [
        "from finetune import MultiLabelClassifier\n",
        "from finetune.base_models import BERT, BERTLarge, GPT2, GPT2Medium, GPT2Large, TextCNN, TCN, RoBERTa, DistilBERT\n",
        "model = MultiLabelClassifier(base_model=RoBERTa, low_memory_mode=True, chunk_long_sequences=False, class_weights='linear', n_epochs=3)"
      ],
      "metadata": {
        "colab": {
          "base_uri": "https://localhost:8080/"
        },
        "id": "_ncm5xEyO0mD",
        "outputId": "5fa711fa-e0bf-4dcd-abc9-6d4bc35017d7"
      },
      "execution_count": 8,
      "outputs": [
        {
          "output_type": "stream",
          "name": "stderr",
          "text": [
            "INFO:finetune:Saving tensorboard output to /tmp/Finetune7mmsjklw\n"
          ]
        }
      ]
    },
    {
      "cell_type": "code",
      "source": [
        "model.fit(X_train, Y_train_new) "
      ],
      "metadata": {
        "id": "esW6-6HPPSmh",
        "colab": {
          "base_uri": "https://localhost:8080/"
        },
        "outputId": "4e0e8f89-9316-43fa-d4cf-a54455a43746"
      },
      "execution_count": 9,
      "outputs": [
        {
          "output_type": "stream",
          "name": "stderr",
          "text": [
            "INFO:finetune: Visible GPUs: {GPU:/physical_device:GPU:0}\n",
            "Epoch 3/3: 100%|██████████| 6254/6254 [38:26<00:00,  2.71it/s]\n"
          ]
        }
      ]
    },
    {
      "cell_type": "code",
      "source": [
        "predictions = model.predict(X_test)"
      ],
      "metadata": {
        "id": "PdKMk7hwPSqR",
        "colab": {
          "base_uri": "https://localhost:8080/"
        },
        "outputId": "41b6ab9b-356b-44df-b4d4-ae6bbf5c9d75"
      },
      "execution_count": 10,
      "outputs": [
        {
          "output_type": "stream",
          "name": "stderr",
          "text": [
            "Inference: 1887it [17:35,  1.79it/s]\n"
          ]
        }
      ]
    },
    {
      "cell_type": "code",
      "source": [
        "print(classification_report(model.input_pipeline.label_encoder.transform(Y_test_new), model.input_pipeline.label_encoder.transform(predictions)))"
      ],
      "metadata": {
        "colab": {
          "base_uri": "https://localhost:8080/"
        },
        "id": "F1P-32IzNBDW",
        "outputId": "3e0eaffc-eded-4b93-ddfd-14e5be8c7338"
      },
      "execution_count": 11,
      "outputs": [
        {
          "output_type": "stream",
          "name": "stdout",
          "text": [
            "              precision    recall  f1-score   support\n",
            "\n",
            "           0       0.00      0.00      0.00         0\n",
            "           1       0.65      0.58      0.61       206\n",
            "           2       0.62      0.57      0.59       199\n",
            "           3       0.91      0.74      0.82      1552\n",
            "           4       0.77      0.59      0.67      1146\n",
            "           5       0.68      0.72      0.70       563\n",
            "           6       0.79      0.79      0.79      1248\n",
            "           7       0.59      0.56      0.58       199\n",
            "           8       0.53      0.59      0.56        27\n",
            "           9       0.87      0.74      0.80      1500\n",
            "          10       0.85      0.65      0.74      1441\n",
            "          11       0.80      0.82      0.81      1307\n",
            "          12       0.88      0.70      0.78      1421\n",
            "          13       0.83      0.66      0.73      1318\n",
            "          14       0.78      0.80      0.79      1220\n",
            "          15       0.27      0.62      0.38        40\n",
            "\n",
            "   micro avg       0.81      0.71      0.76     13387\n",
            "   macro avg       0.68      0.63      0.65     13387\n",
            "weighted avg       0.82      0.71      0.76     13387\n",
            " samples avg       0.73      0.67      0.66     13387\n",
            "\n"
          ]
        }
      ]
    }
  ],
  "metadata": {
    "accelerator": "GPU",
    "colab": {
      "collapsed_sections": [],
      "name": "Kopie von 05_transformer_finetune.ipynb",
      "provenance": []
    },
    "kernelspec": {
      "display_name": "Python 3 (ipykernel)",
      "language": "python",
      "name": "python3"
    },
    "language_info": {
      "codemirror_mode": {
        "name": "ipython",
        "version": 3
      },
      "file_extension": ".py",
      "mimetype": "text/x-python",
      "name": "python",
      "nbconvert_exporter": "python",
      "pygments_lexer": "ipython3",
      "version": "3.7.4"
    }
  },
  "nbformat": 4,
  "nbformat_minor": 0
}