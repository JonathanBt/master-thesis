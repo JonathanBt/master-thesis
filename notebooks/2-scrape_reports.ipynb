{
 "cells": [
  {
   "cell_type": "code",
   "execution_count": 1,
   "metadata": {},
   "outputs": [],
   "source": [
    "import os\n",
    "os.chdir(\"..\")"
   ]
  },
  {
   "cell_type": "code",
   "execution_count": 35,
   "metadata": {},
   "outputs": [],
   "source": [
    "import pandas as pd\n",
    "import numpy as np\n",
    "\n",
    "from src.data.scrape_reports import scrape_reports"
   ]
  },
  {
   "cell_type": "code",
   "execution_count": 3,
   "metadata": {},
   "outputs": [],
   "source": [
    "pd.set_option(\"display.max_rows\", 5)\n",
    "pd.set_option('display.max_columns', None)\n",
    "pd.set_option('display.max_colwidth', None)"
   ]
  },
  {
   "cell_type": "markdown",
   "metadata": {},
   "source": [
    "# 1. Scrape unlabeled reports"
   ]
  },
  {
   "cell_type": "code",
   "execution_count": 37,
   "metadata": {
    "scrolled": false
   },
   "outputs": [
    {
     "data": {
      "text/html": [
       "<div>\n",
       "<style scoped>\n",
       "    .dataframe tbody tr th:only-of-type {\n",
       "        vertical-align: middle;\n",
       "    }\n",
       "\n",
       "    .dataframe tbody tr th {\n",
       "        vertical-align: top;\n",
       "    }\n",
       "\n",
       "    .dataframe thead th {\n",
       "        text-align: right;\n",
       "    }\n",
       "</style>\n",
       "<table border=\"1\" class=\"dataframe\">\n",
       "  <thead>\n",
       "    <tr style=\"text-align: right;\">\n",
       "      <th></th>\n",
       "      <th>Identifier</th>\n",
       "      <th>Company_Name</th>\n",
       "      <th>CSR_Period_Relative</th>\n",
       "      <th>CSR_URL</th>\n",
       "    </tr>\n",
       "  </thead>\n",
       "  <tbody>\n",
       "    <tr>\n",
       "      <th>0</th>\n",
       "      <td>BCE_py.TO</td>\n",
       "      <td>BCE Inc</td>\n",
       "      <td>FY0</td>\n",
       "      <td>https://www.bce.ca/responsibility/overview/2020-cr-report.pdf</td>\n",
       "    </tr>\n",
       "    <tr>\n",
       "      <th>1</th>\n",
       "      <td>ENB_pa.TO</td>\n",
       "      <td>Enbridge Inc</td>\n",
       "      <td>FY0</td>\n",
       "      <td>https://www.enbridge.com/~/media/Enb/Documents/Reports/Sustainability%20Report%202020/Enbridge_SR_2020.pdf</td>\n",
       "    </tr>\n",
       "    <tr>\n",
       "      <th>2</th>\n",
       "      <td>POW_pb.TO</td>\n",
       "      <td>Power Corporation of Canada</td>\n",
       "      <td>FY0</td>\n",
       "      <td>https://www.powercorporationcsr.com/media/uploads/reports/power-corporation-2019-data-supplement-final.pdf</td>\n",
       "    </tr>\n",
       "    <tr>\n",
       "      <th>3</th>\n",
       "      <td>PWF_pf.TO</td>\n",
       "      <td>Power Financial Corp</td>\n",
       "      <td>FY0</td>\n",
       "      <td>https://www.powerfinancialcsr.com/media/uploads/reports/pfc_-_csr_website_-_2018_update.pdf</td>\n",
       "    </tr>\n",
       "    <tr>\n",
       "      <th>4</th>\n",
       "      <td>WN_pa.TO</td>\n",
       "      <td>George Weston Ltd</td>\n",
       "      <td>FY0</td>\n",
       "      <td>http://www.weston.ca/en/Environment.aspx</td>\n",
       "    </tr>\n",
       "  </tbody>\n",
       "</table>\n",
       "</div>"
      ],
      "text/plain": [
       "  Identifier                 Company_Name CSR_Period_Relative  \\\n",
       "0  BCE_py.TO                      BCE Inc                 FY0   \n",
       "1  ENB_pa.TO                 Enbridge Inc                 FY0   \n",
       "2  POW_pb.TO  Power Corporation of Canada                 FY0   \n",
       "3  PWF_pf.TO         Power Financial Corp                 FY0   \n",
       "4   WN_pa.TO            George Weston Ltd                 FY0   \n",
       "\n",
       "                                                                                                      CSR_URL  \n",
       "0                                               https://www.bce.ca/responsibility/overview/2020-cr-report.pdf  \n",
       "1  https://www.enbridge.com/~/media/Enb/Documents/Reports/Sustainability%20Report%202020/Enbridge_SR_2020.pdf  \n",
       "2  https://www.powercorporationcsr.com/media/uploads/reports/power-corporation-2019-data-supplement-final.pdf  \n",
       "3                 https://www.powerfinancialcsr.com/media/uploads/reports/pfc_-_csr_website_-_2018_update.pdf  \n",
       "4                                                                    http://www.weston.ca/en/Environment.aspx  "
      ]
     },
     "execution_count": 37,
     "metadata": {},
     "output_type": "execute_result"
    }
   ],
   "source": [
    "# Load data\n",
    "df_unlabeled = pd.read_excel('data/interim/reports_unlabeled.xlsx', engine='openpyxl')\n",
    "df_unlabeled.head()"
   ]
  },
  {
   "cell_type": "code",
   "execution_count": 38,
   "metadata": {},
   "outputs": [],
   "source": [
    "# Create new column to track scraping progress\n",
    "df_unlabeled['CSR_Filename'] = ''\n",
    "\n",
    "# Specify path to store the reports (external hard drive due to size)\n",
    "path_output = 'D:/master-thesis/data/pdf_reports_unlabeled/' "
   ]
  },
  {
   "cell_type": "code",
   "execution_count": 39,
   "metadata": {
    "scrolled": true
   },
   "outputs": [],
   "source": [
    "#df_unlabeled[0:1000]\n",
    "#df_unlabeled[1000:2000]\n",
    "#df_unlabeled[2000:3000]\n",
    "#df_unlabeled[3000:4000]\n",
    "#df_unlabeled[4000:5000]\n",
    "#df_unlabeled[5000:6000]\n",
    "#df_unlabeled[6000:7000]\n",
    "#df_unlabeled[7000:8000]\n",
    "#df_unlabeled[8000:9000]\n",
    "#df_unlabeled[9000:10000]\n",
    "#df_unlabeled[10000:11000]\n",
    "#df_unlabeled[11000:12000]\n",
    "#df_unlabeled[12000:13000]\n",
    "#df_unlabeled[13000:14000]\n",
    "#df_unlabeled[14000:15000]\n",
    "#df_unlabeled[15000:15100]"
   ]
  },
  {
   "cell_type": "code",
   "execution_count": 36,
   "metadata": {},
   "outputs": [],
   "source": [
    "%%capture output \n",
    "\n",
    "# Scrape reports (scraping done in chunks of 1000 df rows)\n",
    "scrape_reports(df_unlabeled, df_unlabeled[0:1000], path_output)"
   ]
  },
  {
   "cell_type": "code",
   "execution_count": 31,
   "metadata": {},
   "outputs": [
    {
     "data": {
      "text/html": [
       "<div>\n",
       "<style scoped>\n",
       "    .dataframe tbody tr th:only-of-type {\n",
       "        vertical-align: middle;\n",
       "    }\n",
       "\n",
       "    .dataframe tbody tr th {\n",
       "        vertical-align: top;\n",
       "    }\n",
       "\n",
       "    .dataframe thead th {\n",
       "        text-align: right;\n",
       "    }\n",
       "</style>\n",
       "<table border=\"1\" class=\"dataframe\">\n",
       "  <thead>\n",
       "    <tr style=\"text-align: right;\">\n",
       "      <th></th>\n",
       "      <th>Identifier</th>\n",
       "      <th>Company_Name</th>\n",
       "      <th>CSR_Period_Relative</th>\n",
       "      <th>CSR_URL</th>\n",
       "      <th>CSR_Filename</th>\n",
       "    </tr>\n",
       "  </thead>\n",
       "  <tbody>\n",
       "    <tr>\n",
       "      <th>0</th>\n",
       "      <td>BCE_py.TO</td>\n",
       "      <td>BCE Inc</td>\n",
       "      <td>FY0</td>\n",
       "      <td>https://www.bce.ca/responsibility/overview/2020-cr-report.pdf</td>\n",
       "      <td>FY0_BCE_py.TO_.pdf</td>\n",
       "    </tr>\n",
       "    <tr>\n",
       "      <th>1</th>\n",
       "      <td>ENB_pa.TO</td>\n",
       "      <td>Enbridge Inc</td>\n",
       "      <td>FY0</td>\n",
       "      <td>https://www.enbridge.com/~/media/Enb/Documents/Reports/Sustainability%20Report%202020/Enbridge_SR_2020.pdf</td>\n",
       "      <td>FY0_ENB_pa.TO_.pdf</td>\n",
       "    </tr>\n",
       "    <tr>\n",
       "      <th>...</th>\n",
       "      <td>...</td>\n",
       "      <td>...</td>\n",
       "      <td>...</td>\n",
       "      <td>...</td>\n",
       "      <td>...</td>\n",
       "    </tr>\n",
       "    <tr>\n",
       "      <th>15098</th>\n",
       "      <td>FLTRF.L</td>\n",
       "      <td>Flutter Entertainment PLC</td>\n",
       "      <td>FY-9</td>\n",
       "      <td>http://www.paddypowerplc.com/uploads/documents/annualreport2011.pdf</td>\n",
       "      <td>Error</td>\n",
       "    </tr>\n",
       "    <tr>\n",
       "      <th>15099</th>\n",
       "      <td>TUIT.L</td>\n",
       "      <td>TUI AG</td>\n",
       "      <td>FY-9</td>\n",
       "      <td>http://www.tui-group.com/dms/ir/20_annual_report_2009-10/pdfs/TUI_AR_2009-10_en/TUI_AR_2009-10_en.pdf</td>\n",
       "      <td></td>\n",
       "    </tr>\n",
       "  </tbody>\n",
       "</table>\n",
       "<p>15100 rows × 5 columns</p>\n",
       "</div>"
      ],
      "text/plain": [
       "      Identifier               Company_Name CSR_Period_Relative  \\\n",
       "0      BCE_py.TO                    BCE Inc                 FY0   \n",
       "1      ENB_pa.TO               Enbridge Inc                 FY0   \n",
       "...          ...                        ...                 ...   \n",
       "15098    FLTRF.L  Flutter Entertainment PLC                FY-9   \n",
       "15099     TUIT.L                     TUI AG                FY-9   \n",
       "\n",
       "                                                                                                          CSR_URL  \\\n",
       "0                                                   https://www.bce.ca/responsibility/overview/2020-cr-report.pdf   \n",
       "1      https://www.enbridge.com/~/media/Enb/Documents/Reports/Sustainability%20Report%202020/Enbridge_SR_2020.pdf   \n",
       "...                                                                                                           ...   \n",
       "15098                                         http://www.paddypowerplc.com/uploads/documents/annualreport2011.pdf   \n",
       "15099       http://www.tui-group.com/dms/ir/20_annual_report_2009-10/pdfs/TUI_AR_2009-10_en/TUI_AR_2009-10_en.pdf   \n",
       "\n",
       "             CSR_Filename  \n",
       "0      FY0_BCE_py.TO_.pdf  \n",
       "1      FY0_ENB_pa.TO_.pdf  \n",
       "...                   ...  \n",
       "15098               Error  \n",
       "15099                      \n",
       "\n",
       "[15100 rows x 5 columns]"
      ]
     },
     "execution_count": 31,
     "metadata": {},
     "output_type": "execute_result"
    }
   ],
   "source": [
    "df_unlabeled"
   ]
  },
  {
   "cell_type": "code",
   "execution_count": null,
   "metadata": {},
   "outputs": [],
   "source": [
    "df_unlabeled.to_excel('data/interim/reports_unlabeled.xlsx', index=False)"
   ]
  }
 ],
 "metadata": {
  "kernelspec": {
   "display_name": "Python 3 (ipykernel)",
   "language": "python",
   "name": "python3"
  },
  "language_info": {
   "codemirror_mode": {
    "name": "ipython",
    "version": 3
   },
   "file_extension": ".py",
   "mimetype": "text/x-python",
   "name": "python",
   "nbconvert_exporter": "python",
   "pygments_lexer": "ipython3",
   "version": "3.7.4"
  }
 },
 "nbformat": 4,
 "nbformat_minor": 4
}
